{
 "cells": [
  {
   "cell_type": "code",
   "execution_count": 2,
   "id": "b61fcfd2-a923-4ba5-8127-98ac66177da5",
   "metadata": {},
   "outputs": [
    {
     "name": "stderr",
     "output_type": "stream",
     "text": [
      "ERROR: Could not find a version that satisfies the requirement python==3.9 (from versions: none)\n",
      "ERROR: No matching distribution found for python==3.9\n"
     ]
    }
   ],
   "source": [
    "!pip install python==3.9"
   ]
  },
  {
   "cell_type": "code",
   "execution_count": null,
   "id": "c018742d-e5da-4564-8e6f-4d87c728745d",
   "metadata": {},
   "outputs": [],
   "source": []
  }
 ],
 "metadata": {
  "kernelspec": {
   "display_name": "Python 3 (ipykernel)",
   "language": "python",
   "name": "python3"
  },
  "language_info": {
   "codemirror_mode": {
    "name": "ipython",
    "version": 3
   },
   "file_extension": ".py",
   "mimetype": "text/x-python",
   "name": "python",
   "nbconvert_exporter": "python",
   "pygments_lexer": "ipython3",
   "version": "3.10.0"
  }
 },
 "nbformat": 4,
 "nbformat_minor": 5
}
