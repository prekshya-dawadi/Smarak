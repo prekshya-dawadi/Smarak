{
 "cells": [
  {
   "cell_type": "code",
   "execution_count": 2,
   "id": "b4654cae-4cc6-4229-9513-43038031ee31",
   "metadata": {},
   "outputs": [],
   "source": [
    "from ultralytics import YOLO"
   ]
  },
  {
   "cell_type": "code",
   "execution_count": 3,
   "id": "9317be6f-8497-4df4-b42b-6b2b5ba69912",
   "metadata": {},
   "outputs": [],
   "source": [
    "model = YOLO(\"yolov8n.yaml\")"
   ]
  },
  {
   "cell_type": "code",
   "execution_count": 4,
   "id": "fc218c32-a8ae-4cd8-a88f-397403845b6c",
   "metadata": {},
   "outputs": [
    {
     "name": "stdout",
     "output_type": "stream",
     "text": [
      "New https://pypi.org/project/ultralytics/8.2.18 available  Update with 'pip install -U ultralytics'\n",
      "Ultralytics YOLOv8.2.17  Python-3.12.3 torch-2.3.0+cpu CPU (11th Gen Intel Core(TM) i5-1135G7 2.40GHz)\n",
      "\u001b[34m\u001b[1mengine\\trainer: \u001b[0mtask=detect, mode=train, model=yolov8n.yaml, data=config.yaml, epochs=1, time=None, patience=100, batch=16, imgsz=640, save=True, save_period=-1, cache=False, device=None, workers=8, project=None, name=train, exist_ok=False, pretrained=True, optimizer=auto, verbose=True, seed=0, deterministic=True, single_cls=False, rect=False, cos_lr=False, close_mosaic=10, resume=False, amp=True, fraction=1.0, profile=False, freeze=None, multi_scale=False, overlap_mask=True, mask_ratio=4, dropout=0.0, val=True, split=val, save_json=False, save_hybrid=False, conf=None, iou=0.7, max_det=300, half=False, dnn=False, plots=True, source=None, vid_stride=1, stream_buffer=False, visualize=False, augment=False, agnostic_nms=False, classes=None, retina_masks=False, embed=None, show=False, save_frames=False, save_txt=False, save_conf=False, save_crop=False, show_labels=True, show_conf=True, show_boxes=True, line_width=None, format=torchscript, keras=False, optimize=False, int8=False, dynamic=False, simplify=False, opset=None, workspace=4, nms=False, lr0=0.01, lrf=0.01, momentum=0.937, weight_decay=0.0005, warmup_epochs=3.0, warmup_momentum=0.8, warmup_bias_lr=0.1, box=7.5, cls=0.5, dfl=1.5, pose=12.0, kobj=1.0, label_smoothing=0.0, nbs=64, hsv_h=0.015, hsv_s=0.7, hsv_v=0.4, degrees=0.0, translate=0.1, scale=0.5, shear=0.0, perspective=0.0, flipud=0.0, fliplr=0.5, bgr=0.0, mosaic=1.0, mixup=0.0, copy_paste=0.0, auto_augment=randaugment, erasing=0.4, crop_fraction=1.0, cfg=None, tracker=botsort.yaml, save_dir=runs\\detect\\train\n",
      "Overriding model.yaml nc=80 with nc=1\n",
      "\n",
      "                   from  n    params  module                                       arguments                     \n",
      "  0                  -1  1       464  ultralytics.nn.modules.conv.Conv             [3, 16, 3, 2]                 \n",
      "  1                  -1  1      4672  ultralytics.nn.modules.conv.Conv             [16, 32, 3, 2]                \n",
      "  2                  -1  1      7360  ultralytics.nn.modules.block.C2f             [32, 32, 1, True]             \n",
      "  3                  -1  1     18560  ultralytics.nn.modules.conv.Conv             [32, 64, 3, 2]                \n",
      "  4                  -1  2     49664  ultralytics.nn.modules.block.C2f             [64, 64, 2, True]             \n",
      "  5                  -1  1     73984  ultralytics.nn.modules.conv.Conv             [64, 128, 3, 2]               \n",
      "  6                  -1  2    197632  ultralytics.nn.modules.block.C2f             [128, 128, 2, True]           \n",
      "  7                  -1  1    295424  ultralytics.nn.modules.conv.Conv             [128, 256, 3, 2]              \n",
      "  8                  -1  1    460288  ultralytics.nn.modules.block.C2f             [256, 256, 1, True]           \n",
      "  9                  -1  1    164608  ultralytics.nn.modules.block.SPPF            [256, 256, 5]                 \n",
      " 10                  -1  1         0  torch.nn.modules.upsampling.Upsample         [None, 2, 'nearest']          \n",
      " 11             [-1, 6]  1         0  ultralytics.nn.modules.conv.Concat           [1]                           \n",
      " 12                  -1  1    148224  ultralytics.nn.modules.block.C2f             [384, 128, 1]                 \n",
      " 13                  -1  1         0  torch.nn.modules.upsampling.Upsample         [None, 2, 'nearest']          \n",
      " 14             [-1, 4]  1         0  ultralytics.nn.modules.conv.Concat           [1]                           \n",
      " 15                  -1  1     37248  ultralytics.nn.modules.block.C2f             [192, 64, 1]                  \n",
      " 16                  -1  1     36992  ultralytics.nn.modules.conv.Conv             [64, 64, 3, 2]                \n",
      " 17            [-1, 12]  1         0  ultralytics.nn.modules.conv.Concat           [1]                           \n",
      " 18                  -1  1    123648  ultralytics.nn.modules.block.C2f             [192, 128, 1]                 \n",
      " 19                  -1  1    147712  ultralytics.nn.modules.conv.Conv             [128, 128, 3, 2]              \n",
      " 20             [-1, 9]  1         0  ultralytics.nn.modules.conv.Concat           [1]                           \n",
      " 21                  -1  1    493056  ultralytics.nn.modules.block.C2f             [384, 256, 1]                 \n",
      " 22        [15, 18, 21]  1    751507  ultralytics.nn.modules.head.Detect           [1, [64, 128, 256]]           \n",
      "YOLOv8n summary: 225 layers, 3011043 parameters, 3011027 gradients, 8.2 GFLOPs\n",
      "\n",
      "\u001b[34m\u001b[1mTensorBoard: \u001b[0mStart with 'tensorboard --logdir runs\\detect\\train', view at http://localhost:6006/\n"
     ]
    },
    {
     "name": "stderr",
     "output_type": "stream",
     "text": [
      "Failed to detect the name of this notebook, you can set it manually with the WANDB_NOTEBOOK_NAME environment variable to enable code saving.\n",
      "wandb: Currently logged in as: prekshya019 (kathmanduuniversity). Use `wandb login --relogin` to force relogin\n"
     ]
    },
    {
     "data": {
      "text/html": [
       "Tracking run with wandb version 0.17.0"
      ],
      "text/plain": [
       "<IPython.core.display.HTML object>"
      ]
     },
     "metadata": {},
     "output_type": "display_data"
    },
    {
     "data": {
      "text/html": [
       "Run data is saved locally in <code>D:\\Projects\\DL\\MonumentDetection\\DL\\wandb\\run-20240521_092441-3cbad2xa</code>"
      ],
      "text/plain": [
       "<IPython.core.display.HTML object>"
      ]
     },
     "metadata": {},
     "output_type": "display_data"
    },
    {
     "data": {
      "text/html": [
       "Syncing run <strong><a href='https://wandb.ai/kathmanduuniversity/YOLOv8/runs/3cbad2xa' target=\"_blank\">train</a></strong> to <a href='https://wandb.ai/kathmanduuniversity/YOLOv8' target=\"_blank\">Weights & Biases</a> (<a href='https://wandb.me/run' target=\"_blank\">docs</a>)<br/>"
      ],
      "text/plain": [
       "<IPython.core.display.HTML object>"
      ]
     },
     "metadata": {},
     "output_type": "display_data"
    },
    {
     "data": {
      "text/html": [
       " View project at <a href='https://wandb.ai/kathmanduuniversity/YOLOv8' target=\"_blank\">https://wandb.ai/kathmanduuniversity/YOLOv8</a>"
      ],
      "text/plain": [
       "<IPython.core.display.HTML object>"
      ]
     },
     "metadata": {},
     "output_type": "display_data"
    },
    {
     "data": {
      "text/html": [
       " View run at <a href='https://wandb.ai/kathmanduuniversity/YOLOv8/runs/3cbad2xa' target=\"_blank\">https://wandb.ai/kathmanduuniversity/YOLOv8/runs/3cbad2xa</a>"
      ],
      "text/plain": [
       "<IPython.core.display.HTML object>"
      ]
     },
     "metadata": {},
     "output_type": "display_data"
    },
    {
     "name": "stdout",
     "output_type": "stream",
     "text": [
      "Freezing layer 'model.22.dfl.conv.weight'\n"
     ]
    },
    {
     "name": "stderr",
     "output_type": "stream",
     "text": [
      "train: Scanning D:\\Projects\\DL\\MonumentDetection\\DL\\dataset\\labels...:   0%|          | 0/100 [00:00<?, ?it/s]Scanning D:\\Projects\\DL\\MonumentDetection\\DL\\dataset\\labels... 4 images, 0 backgrounds, 0 corrupt:   4%|▍         | 4/100 [00Scanning D:\\Projects\\DL\\MonumentDetection\\DL\\dataset\\labels... 78 images, 0 backgrounds, 28 corrupt:  78%|███████▊  | 78/100 Scanning D:\\Projects\\DL\\MonumentDetection\\DL\\dataset\\labels... 100 images, 0 backgrounds, 36 corrupt: 100%|██████████| 100/10\n"
     ]
    },
    {
     "name": "stdout",
     "output_type": "stream",
     "text": [
      "\u001b[34m\u001b[1mtrain: \u001b[0mWARNING  D:\\Projects\\DL\\MonumentDetection\\DL\\dataset\\images\\129c4260-image_535.png: ignoring corrupt image/label: negative label values [   -0.11111]\n",
      "\u001b[34m\u001b[1mtrain: \u001b[0mWARNING  D:\\Projects\\DL\\MonumentDetection\\DL\\dataset\\images\\1c2822e4-image_480.png: ignoring corrupt image/label: non-normalized or out of bounds coordinates [     1.4746]\n",
      "\u001b[34m\u001b[1mtrain: \u001b[0mWARNING  D:\\Projects\\DL\\MonumentDetection\\DL\\dataset\\images\\271a5681-image_182.png: ignoring corrupt image/label: non-normalized or out of bounds coordinates [     1.4167]\n",
      "\u001b[34m\u001b[1mtrain: \u001b[0mWARNING  D:\\Projects\\DL\\MonumentDetection\\DL\\dataset\\images\\3230f438-image_337.png: ignoring corrupt image/label: non-normalized or out of bounds coordinates [     1.0528]\n",
      "\u001b[34m\u001b[1mtrain: \u001b[0mWARNING  D:\\Projects\\DL\\MonumentDetection\\DL\\dataset\\images\\38bfe012-image_509.png: ignoring corrupt image/label: non-normalized or out of bounds coordinates [     1.2654]\n",
      "\u001b[34m\u001b[1mtrain: \u001b[0mWARNING  D:\\Projects\\DL\\MonumentDetection\\DL\\dataset\\images\\43020ce2-image_47.png: ignoring corrupt image/label: non-normalized or out of bounds coordinates [     1.3328]\n",
      "\u001b[34m\u001b[1mtrain: \u001b[0mWARNING  D:\\Projects\\DL\\MonumentDetection\\DL\\dataset\\images\\4bdc6164-image_149.png: ignoring corrupt image/label: non-normalized or out of bounds coordinates [     1.0685]\n",
      "\u001b[34m\u001b[1mtrain: \u001b[0mWARNING  D:\\Projects\\DL\\MonumentDetection\\DL\\dataset\\images\\4e8f5a5d-image_523.png: ignoring corrupt image/label: non-normalized or out of bounds coordinates [     1.4725]\n",
      "\u001b[34m\u001b[1mtrain: \u001b[0mWARNING  D:\\Projects\\DL\\MonumentDetection\\DL\\dataset\\images\\53a5abd9-image_322.png: ignoring corrupt image/label: non-normalized or out of bounds coordinates [     1.1167]\n",
      "\u001b[34m\u001b[1mtrain: \u001b[0mWARNING  D:\\Projects\\DL\\MonumentDetection\\DL\\dataset\\images\\55c04d26-Nyathpola.jpg: ignoring corrupt image/label: non-normalized or out of bounds coordinates [     1.3455]\n",
      "\u001b[34m\u001b[1mtrain: \u001b[0mWARNING  D:\\Projects\\DL\\MonumentDetection\\DL\\dataset\\images\\61918b8b-image_63.png: ignoring corrupt image/label: non-normalized or out of bounds coordinates [      1.074]\n",
      "\u001b[34m\u001b[1mtrain: \u001b[0mWARNING  D:\\Projects\\DL\\MonumentDetection\\DL\\dataset\\images\\6c677d97-image_32.png: ignoring corrupt image/label: non-normalized or out of bounds coordinates [     1.4749]\n",
      "\u001b[34m\u001b[1mtrain: \u001b[0mWARNING  D:\\Projects\\DL\\MonumentDetection\\DL\\dataset\\images\\86d657e1-image_248.png: ignoring corrupt image/label: non-normalized or out of bounds coordinates [     1.2059]\n",
      "\u001b[34m\u001b[1mtrain: \u001b[0mWARNING  D:\\Projects\\DL\\MonumentDetection\\DL\\dataset\\images\\8c498367-image_148.png: ignoring corrupt image/label: non-normalized or out of bounds coordinates [     1.0613]\n",
      "\u001b[34m\u001b[1mtrain: \u001b[0mWARNING  D:\\Projects\\DL\\MonumentDetection\\DL\\dataset\\images\\9797c772-image_7.png: ignoring corrupt image/label: non-normalized or out of bounds coordinates [     1.0903]\n",
      "\u001b[34m\u001b[1mtrain: \u001b[0mWARNING  D:\\Projects\\DL\\MonumentDetection\\DL\\dataset\\images\\9b2e6604-image_31.png: ignoring corrupt image/label: non-normalized or out of bounds coordinates [     1.4985]\n",
      "\u001b[34m\u001b[1mtrain: \u001b[0mWARNING  D:\\Projects\\DL\\MonumentDetection\\DL\\dataset\\images\\a5dc652e-image_321.png: ignoring corrupt image/label: non-normalized or out of bounds coordinates [     1.1694]\n",
      "\u001b[34m\u001b[1mtrain: \u001b[0mWARNING  D:\\Projects\\DL\\MonumentDetection\\DL\\dataset\\images\\a726a48c-image_1.png: ignoring corrupt image/label: negative label values [   -0.11768]\n",
      "\u001b[34m\u001b[1mtrain: \u001b[0mWARNING  D:\\Projects\\DL\\MonumentDetection\\DL\\dataset\\images\\a9b526ae-image_315.png: ignoring corrupt image/label: non-normalized or out of bounds coordinates [     1.0306]\n",
      "\u001b[34m\u001b[1mtrain: \u001b[0mWARNING  D:\\Projects\\DL\\MonumentDetection\\DL\\dataset\\images\\ab0eb016-image_51.png: ignoring corrupt image/label: non-normalized or out of bounds coordinates [     1.2609]\n",
      "\u001b[34m\u001b[1mtrain: \u001b[0mWARNING  D:\\Projects\\DL\\MonumentDetection\\DL\\dataset\\images\\afc409f0-image_115.png: ignoring corrupt image/label: non-normalized or out of bounds coordinates [     1.4877]\n",
      "\u001b[34m\u001b[1mtrain: \u001b[0mWARNING  D:\\Projects\\DL\\MonumentDetection\\DL\\dataset\\images\\b16d8859-image_196.png: ignoring corrupt image/label: non-normalized or out of bounds coordinates [     1.0685]\n",
      "\u001b[34m\u001b[1mtrain: \u001b[0mWARNING  D:\\Projects\\DL\\MonumentDetection\\DL\\dataset\\images\\baf757a0-image_163.png: ignoring corrupt image/label: non-normalized or out of bounds coordinates [     1.3456]\n",
      "\u001b[34m\u001b[1mtrain: \u001b[0mWARNING  D:\\Projects\\DL\\MonumentDetection\\DL\\dataset\\images\\c0073a22-image_229.png: ignoring corrupt image/label: non-normalized or out of bounds coordinates [     1.4828]\n",
      "\u001b[34m\u001b[1mtrain: \u001b[0mWARNING  D:\\Projects\\DL\\MonumentDetection\\DL\\dataset\\images\\c08f1161-image_30.png: ignoring corrupt image/label: non-normalized or out of bounds coordinates [     1.0206]\n",
      "\u001b[34m\u001b[1mtrain: \u001b[0mWARNING  D:\\Projects\\DL\\MonumentDetection\\DL\\dataset\\images\\c0af7edc-image_210.png: ignoring corrupt image/label: non-normalized or out of bounds coordinates [     1.3235]\n",
      "\u001b[34m\u001b[1mtrain: \u001b[0mWARNING  D:\\Projects\\DL\\MonumentDetection\\DL\\dataset\\images\\c26d4630-image_245.png: ignoring corrupt image/label: non-normalized or out of bounds coordinates [      1.028]\n",
      "\u001b[34m\u001b[1mtrain: \u001b[0mWARNING  D:\\Projects\\DL\\MonumentDetection\\DL\\dataset\\images\\cf243ae5-image_195.png: ignoring corrupt image/label: non-normalized or out of bounds coordinates [     1.0956]\n",
      "\u001b[34m\u001b[1mtrain: \u001b[0mWARNING  D:\\Projects\\DL\\MonumentDetection\\DL\\dataset\\images\\d7d13ebe-image_227.png: ignoring corrupt image/label: non-normalized or out of bounds coordinates [     1.3039]\n",
      "\u001b[34m\u001b[1mtrain: \u001b[0mWARNING  D:\\Projects\\DL\\MonumentDetection\\DL\\dataset\\images\\dbc9da55-image_73.png: ignoring corrupt image/label: non-normalized or out of bounds coordinates [     1.1073]\n",
      "\u001b[34m\u001b[1mtrain: \u001b[0mWARNING  D:\\Projects\\DL\\MonumentDetection\\DL\\dataset\\images\\dc3a3b60-image_49.png: ignoring corrupt image/label: non-normalized or out of bounds coordinates [     1.2429]\n",
      "\u001b[34m\u001b[1mtrain: \u001b[0mWARNING  D:\\Projects\\DL\\MonumentDetection\\DL\\dataset\\images\\e4fd04c1-image_81.png: ignoring corrupt image/label: non-normalized or out of bounds coordinates [     1.0123]\n",
      "\u001b[34m\u001b[1mtrain: \u001b[0mWARNING  D:\\Projects\\DL\\MonumentDetection\\DL\\dataset\\images\\eb4ab50f-image_333.png: ignoring corrupt image/label: non-normalized or out of bounds coordinates [     1.3278]\n",
      "\u001b[34m\u001b[1mtrain: \u001b[0mWARNING  D:\\Projects\\DL\\MonumentDetection\\DL\\dataset\\images\\ee1417a4-image_325.png: ignoring corrupt image/label: non-normalized or out of bounds coordinates [     1.3278]\n",
      "\u001b[34m\u001b[1mtrain: \u001b[0mWARNING  D:\\Projects\\DL\\MonumentDetection\\DL\\dataset\\images\\f7a7712b-image_103.png: ignoring corrupt image/label: non-normalized or out of bounds coordinates [     1.5262]\n",
      "\u001b[34m\u001b[1mtrain: \u001b[0mWARNING  D:\\Projects\\DL\\MonumentDetection\\DL\\dataset\\images\\f99ef8be-image_516.png: ignoring corrupt image/label: non-normalized or out of bounds coordinates [     1.2898]\n",
      "\u001b[34m\u001b[1mtrain: \u001b[0mNew cache created: D:\\Projects\\DL\\MonumentDetection\\DL\\dataset\\labels.cache\n"
     ]
    },
    {
     "name": "stderr",
     "output_type": "stream",
     "text": [
      "val: Scanning D:\\Projects\\DL\\MonumentDetection\\DL\\dataset\\labels.cache... 100 images, 0 backgrounds, 36 corrupt: 100%|██████████| 10Scanning D:\\Projects\\DL\\MonumentDetection\\DL\\dataset\\labels.cache... 100 images, 0 backgrounds, 36 corrupt: 100%|██████████| 10\n"
     ]
    },
    {
     "name": "stdout",
     "output_type": "stream",
     "text": [
      "\u001b[34m\u001b[1mtrain: \u001b[0mWARNING  D:\\Projects\\DL\\MonumentDetection\\DL\\dataset\\images\\129c4260-image_535.png: ignoring corrupt image/label: negative label values [   -0.11111]\n",
      "\u001b[34m\u001b[1mtrain: \u001b[0mWARNING  D:\\Projects\\DL\\MonumentDetection\\DL\\dataset\\images\\1c2822e4-image_480.png: ignoring corrupt image/label: non-normalized or out of bounds coordinates [     1.4746]\n",
      "\u001b[34m\u001b[1mtrain: \u001b[0mWARNING  D:\\Projects\\DL\\MonumentDetection\\DL\\dataset\\images\\271a5681-image_182.png: ignoring corrupt image/label: non-normalized or out of bounds coordinates [     1.4167]\n",
      "\u001b[34m\u001b[1mtrain: \u001b[0mWARNING  D:\\Projects\\DL\\MonumentDetection\\DL\\dataset\\images\\3230f438-image_337.png: ignoring corrupt image/label: non-normalized or out of bounds coordinates [     1.0528]\n",
      "\u001b[34m\u001b[1mtrain: \u001b[0mWARNING  D:\\Projects\\DL\\MonumentDetection\\DL\\dataset\\images\\38bfe012-image_509.png: ignoring corrupt image/label: non-normalized or out of bounds coordinates [     1.2654]\n",
      "\u001b[34m\u001b[1mtrain: \u001b[0mWARNING  D:\\Projects\\DL\\MonumentDetection\\DL\\dataset\\images\\43020ce2-image_47.png: ignoring corrupt image/label: non-normalized or out of bounds coordinates [     1.3328]\n",
      "\u001b[34m\u001b[1mtrain: \u001b[0mWARNING  D:\\Projects\\DL\\MonumentDetection\\DL\\dataset\\images\\4bdc6164-image_149.png: ignoring corrupt image/label: non-normalized or out of bounds coordinates [     1.0685]\n",
      "\u001b[34m\u001b[1mtrain: \u001b[0mWARNING  D:\\Projects\\DL\\MonumentDetection\\DL\\dataset\\images\\4e8f5a5d-image_523.png: ignoring corrupt image/label: non-normalized or out of bounds coordinates [     1.4725]\n",
      "\u001b[34m\u001b[1mtrain: \u001b[0mWARNING  D:\\Projects\\DL\\MonumentDetection\\DL\\dataset\\images\\53a5abd9-image_322.png: ignoring corrupt image/label: non-normalized or out of bounds coordinates [     1.1167]\n",
      "\u001b[34m\u001b[1mtrain: \u001b[0mWARNING  D:\\Projects\\DL\\MonumentDetection\\DL\\dataset\\images\\55c04d26-Nyathpola.jpg: ignoring corrupt image/label: non-normalized or out of bounds coordinates [     1.3455]\n",
      "\u001b[34m\u001b[1mtrain: \u001b[0mWARNING  D:\\Projects\\DL\\MonumentDetection\\DL\\dataset\\images\\61918b8b-image_63.png: ignoring corrupt image/label: non-normalized or out of bounds coordinates [      1.074]\n",
      "\u001b[34m\u001b[1mtrain: \u001b[0mWARNING  D:\\Projects\\DL\\MonumentDetection\\DL\\dataset\\images\\6c677d97-image_32.png: ignoring corrupt image/label: non-normalized or out of bounds coordinates [     1.4749]\n",
      "\u001b[34m\u001b[1mtrain: \u001b[0mWARNING  D:\\Projects\\DL\\MonumentDetection\\DL\\dataset\\images\\86d657e1-image_248.png: ignoring corrupt image/label: non-normalized or out of bounds coordinates [     1.2059]\n",
      "\u001b[34m\u001b[1mtrain: \u001b[0mWARNING  D:\\Projects\\DL\\MonumentDetection\\DL\\dataset\\images\\8c498367-image_148.png: ignoring corrupt image/label: non-normalized or out of bounds coordinates [     1.0613]\n",
      "\u001b[34m\u001b[1mtrain: \u001b[0mWARNING  D:\\Projects\\DL\\MonumentDetection\\DL\\dataset\\images\\9797c772-image_7.png: ignoring corrupt image/label: non-normalized or out of bounds coordinates [     1.0903]\n",
      "\u001b[34m\u001b[1mtrain: \u001b[0mWARNING  D:\\Projects\\DL\\MonumentDetection\\DL\\dataset\\images\\9b2e6604-image_31.png: ignoring corrupt image/label: non-normalized or out of bounds coordinates [     1.4985]\n",
      "\u001b[34m\u001b[1mtrain: \u001b[0mWARNING  D:\\Projects\\DL\\MonumentDetection\\DL\\dataset\\images\\a5dc652e-image_321.png: ignoring corrupt image/label: non-normalized or out of bounds coordinates [     1.1694]\n",
      "\u001b[34m\u001b[1mtrain: \u001b[0mWARNING  D:\\Projects\\DL\\MonumentDetection\\DL\\dataset\\images\\a726a48c-image_1.png: ignoring corrupt image/label: negative label values [   -0.11768]\n",
      "\u001b[34m\u001b[1mtrain: \u001b[0mWARNING  D:\\Projects\\DL\\MonumentDetection\\DL\\dataset\\images\\a9b526ae-image_315.png: ignoring corrupt image/label: non-normalized or out of bounds coordinates [     1.0306]\n",
      "\u001b[34m\u001b[1mtrain: \u001b[0mWARNING  D:\\Projects\\DL\\MonumentDetection\\DL\\dataset\\images\\ab0eb016-image_51.png: ignoring corrupt image/label: non-normalized or out of bounds coordinates [     1.2609]\n",
      "\u001b[34m\u001b[1mtrain: \u001b[0mWARNING  D:\\Projects\\DL\\MonumentDetection\\DL\\dataset\\images\\afc409f0-image_115.png: ignoring corrupt image/label: non-normalized or out of bounds coordinates [     1.4877]\n",
      "\u001b[34m\u001b[1mtrain: \u001b[0mWARNING  D:\\Projects\\DL\\MonumentDetection\\DL\\dataset\\images\\b16d8859-image_196.png: ignoring corrupt image/label: non-normalized or out of bounds coordinates [     1.0685]\n",
      "\u001b[34m\u001b[1mtrain: \u001b[0mWARNING  D:\\Projects\\DL\\MonumentDetection\\DL\\dataset\\images\\baf757a0-image_163.png: ignoring corrupt image/label: non-normalized or out of bounds coordinates [     1.3456]\n",
      "\u001b[34m\u001b[1mtrain: \u001b[0mWARNING  D:\\Projects\\DL\\MonumentDetection\\DL\\dataset\\images\\c0073a22-image_229.png: ignoring corrupt image/label: non-normalized or out of bounds coordinates [     1.4828]\n",
      "\u001b[34m\u001b[1mtrain: \u001b[0mWARNING  D:\\Projects\\DL\\MonumentDetection\\DL\\dataset\\images\\c08f1161-image_30.png: ignoring corrupt image/label: non-normalized or out of bounds coordinates [     1.0206]\n",
      "\u001b[34m\u001b[1mtrain: \u001b[0mWARNING  D:\\Projects\\DL\\MonumentDetection\\DL\\dataset\\images\\c0af7edc-image_210.png: ignoring corrupt image/label: non-normalized or out of bounds coordinates [     1.3235]\n",
      "\u001b[34m\u001b[1mtrain: \u001b[0mWARNING  D:\\Projects\\DL\\MonumentDetection\\DL\\dataset\\images\\c26d4630-image_245.png: ignoring corrupt image/label: non-normalized or out of bounds coordinates [      1.028]\n",
      "\u001b[34m\u001b[1mtrain: \u001b[0mWARNING  D:\\Projects\\DL\\MonumentDetection\\DL\\dataset\\images\\cf243ae5-image_195.png: ignoring corrupt image/label: non-normalized or out of bounds coordinates [     1.0956]\n",
      "\u001b[34m\u001b[1mtrain: \u001b[0mWARNING  D:\\Projects\\DL\\MonumentDetection\\DL\\dataset\\images\\d7d13ebe-image_227.png: ignoring corrupt image/label: non-normalized or out of bounds coordinates [     1.3039]\n",
      "\u001b[34m\u001b[1mtrain: \u001b[0mWARNING  D:\\Projects\\DL\\MonumentDetection\\DL\\dataset\\images\\dbc9da55-image_73.png: ignoring corrupt image/label: non-normalized or out of bounds coordinates [     1.1073]\n",
      "\u001b[34m\u001b[1mtrain: \u001b[0mWARNING  D:\\Projects\\DL\\MonumentDetection\\DL\\dataset\\images\\dc3a3b60-image_49.png: ignoring corrupt image/label: non-normalized or out of bounds coordinates [     1.2429]\n",
      "\u001b[34m\u001b[1mtrain: \u001b[0mWARNING  D:\\Projects\\DL\\MonumentDetection\\DL\\dataset\\images\\e4fd04c1-image_81.png: ignoring corrupt image/label: non-normalized or out of bounds coordinates [     1.0123]\n",
      "\u001b[34m\u001b[1mtrain: \u001b[0mWARNING  D:\\Projects\\DL\\MonumentDetection\\DL\\dataset\\images\\eb4ab50f-image_333.png: ignoring corrupt image/label: non-normalized or out of bounds coordinates [     1.3278]\n",
      "\u001b[34m\u001b[1mtrain: \u001b[0mWARNING  D:\\Projects\\DL\\MonumentDetection\\DL\\dataset\\images\\ee1417a4-image_325.png: ignoring corrupt image/label: non-normalized or out of bounds coordinates [     1.3278]\n",
      "\u001b[34m\u001b[1mtrain: \u001b[0mWARNING  D:\\Projects\\DL\\MonumentDetection\\DL\\dataset\\images\\f7a7712b-image_103.png: ignoring corrupt image/label: non-normalized or out of bounds coordinates [     1.5262]\n",
      "\u001b[34m\u001b[1mtrain: \u001b[0mWARNING  D:\\Projects\\DL\\MonumentDetection\\DL\\dataset\\images\\f99ef8be-image_516.png: ignoring corrupt image/label: non-normalized or out of bounds coordinates [     1.2898]\n",
      "Plotting labels to runs\\detect\\train\\labels.jpg... \n",
      "\u001b[34m\u001b[1moptimizer:\u001b[0m 'optimizer=auto' found, ignoring 'lr0=0.01' and 'momentum=0.937' and determining best 'optimizer', 'lr0' and 'momentum' automatically... \n",
      "\u001b[34m\u001b[1moptimizer:\u001b[0m AdamW(lr=0.002, momentum=0.9) with parameter groups 57 weight(decay=0.0), 64 weight(decay=0.0005), 63 bias(decay=0.0)\n",
      "\u001b[34m\u001b[1mTensorBoard: \u001b[0mmodel graph visualization added \n",
      "Image sizes 640 train, 640 val\n",
      "Using 0 dataloader workers\n",
      "Logging results to \u001b[1mruns\\detect\\train\u001b[0m\n",
      "Starting training for 1 epochs...\n",
      "\n",
      "      Epoch    GPU_mem   box_loss   cls_loss   dfl_loss  Instances       Size\n"
     ]
    },
    {
     "name": "stderr",
     "output_type": "stream",
     "text": [
      "        1/1         0G       3.12      3.724      4.252         37        640: 100%|██████████| 4/4 [00:30<00:00,  7.62s/it]\n",
      "                 Class     Images  Instances      Box(P          R      mAP50  mAP50-95): 100%|██████████| 2/2 [00:13<00:00,  6.90s/\n"
     ]
    },
    {
     "name": "stdout",
     "output_type": "stream",
     "text": [
      "                   all         64         64    0.00321      0.875     0.0308    0.00776\n",
      "\n",
      "1 epochs completed in 0.016 hours.\n",
      "Optimizer stripped from runs\\detect\\train\\weights\\last.pt, 6.2MB\n",
      "Optimizer stripped from runs\\detect\\train\\weights\\best.pt, 6.2MB\n",
      "\n",
      "Validating runs\\detect\\train\\weights\\best.pt...\n",
      "Ultralytics YOLOv8.2.17  Python-3.12.3 torch-2.3.0+cpu CPU (11th Gen Intel Core(TM) i5-1135G7 2.40GHz)\n",
      "YOLOv8n summary (fused): 168 layers, 3005843 parameters, 0 gradients, 8.1 GFLOPs\n"
     ]
    },
    {
     "name": "stderr",
     "output_type": "stream",
     "text": [
      "                 Class     Images  Instances      Box(P          R      mAP50  mAP50-95): 100%|██████████| 2/2 [00:10<00:00,  5.18s/\n"
     ]
    },
    {
     "name": "stdout",
     "output_type": "stream",
     "text": [
      "                   all         64         64    0.00323      0.875     0.0236    0.00666\n",
      "Speed: 2.8ms preprocess, 140.9ms inference, 0.0ms loss, 3.1ms postprocess per image\n",
      "Results saved to \u001b[1mruns\\detect\\train\u001b[0m\n"
     ]
    },
    {
     "data": {
      "application/vnd.jupyter.widget-view+json": {
       "model_id": "",
       "version_major": 2,
       "version_minor": 0
      },
      "text/plain": [
       "VBox(children=(Label(value='10.876 MB of 10.876 MB uploaded\\r'), FloatProgress(value=1.0, max=1.0)))"
      ]
     },
     "metadata": {},
     "output_type": "display_data"
    },
    {
     "data": {
      "text/html": [
       "<style>\n",
       "    table.wandb td:nth-child(1) { padding: 0 10px; text-align: left ; width: auto;} td:nth-child(2) {text-align: left ; width: 100%}\n",
       "    .wandb-row { display: flex; flex-direction: row; flex-wrap: wrap; justify-content: flex-start; width: 100% }\n",
       "    .wandb-col { display: flex; flex-direction: column; flex-basis: 100%; flex: 1; padding: 10px; }\n",
       "    </style>\n",
       "<div class=\"wandb-row\"><div class=\"wandb-col\"><h3>Run history:</h3><br/><table class=\"wandb\"><tr><td>lr/pg0</td><td>▁</td></tr><tr><td>lr/pg1</td><td>▁</td></tr><tr><td>lr/pg2</td><td>▁</td></tr><tr><td>metrics/mAP50(B)</td><td>▁</td></tr><tr><td>metrics/mAP50-95(B)</td><td>▁</td></tr><tr><td>metrics/precision(B)</td><td>▁</td></tr><tr><td>metrics/recall(B)</td><td>▁</td></tr><tr><td>model/GFLOPs</td><td>▁</td></tr><tr><td>model/parameters</td><td>▁</td></tr><tr><td>model/speed_PyTorch(ms)</td><td>▁</td></tr><tr><td>train/box_loss</td><td>▁</td></tr><tr><td>train/cls_loss</td><td>▁</td></tr><tr><td>train/dfl_loss</td><td>▁</td></tr><tr><td>val/box_loss</td><td>▁</td></tr><tr><td>val/cls_loss</td><td>▁</td></tr><tr><td>val/dfl_loss</td><td>▁</td></tr></table><br/></div><div class=\"wandb-col\"><h3>Run summary:</h3><br/><table class=\"wandb\"><tr><td>lr/pg0</td><td>6e-05</td></tr><tr><td>lr/pg1</td><td>6e-05</td></tr><tr><td>lr/pg2</td><td>6e-05</td></tr><tr><td>metrics/mAP50(B)</td><td>0.02361</td></tr><tr><td>metrics/mAP50-95(B)</td><td>0.00666</td></tr><tr><td>metrics/precision(B)</td><td>0.00323</td></tr><tr><td>metrics/recall(B)</td><td>0.875</td></tr><tr><td>model/GFLOPs</td><td>8.194</td></tr><tr><td>model/parameters</td><td>3011043</td></tr><tr><td>model/speed_PyTorch(ms)</td><td>140.851</td></tr><tr><td>train/box_loss</td><td>3.12002</td></tr><tr><td>train/cls_loss</td><td>3.72404</td></tr><tr><td>train/dfl_loss</td><td>4.25167</td></tr><tr><td>val/box_loss</td><td>2.89773</td></tr><tr><td>val/cls_loss</td><td>3.88424</td></tr><tr><td>val/dfl_loss</td><td>4.15837</td></tr></table><br/></div></div>"
      ],
      "text/plain": [
       "<IPython.core.display.HTML object>"
      ]
     },
     "metadata": {},
     "output_type": "display_data"
    },
    {
     "data": {
      "text/html": [
       " View run <strong style=\"color:#cdcd00\">train</strong> at: <a href='https://wandb.ai/kathmanduuniversity/YOLOv8/runs/3cbad2xa' target=\"_blank\">https://wandb.ai/kathmanduuniversity/YOLOv8/runs/3cbad2xa</a><br/> View project at: <a href='https://wandb.ai/kathmanduuniversity/YOLOv8' target=\"_blank\">https://wandb.ai/kathmanduuniversity/YOLOv8</a><br/>Synced 5 W&B file(s), 22 media file(s), 5 artifact file(s) and 0 other file(s)"
      ],
      "text/plain": [
       "<IPython.core.display.HTML object>"
      ]
     },
     "metadata": {},
     "output_type": "display_data"
    },
    {
     "data": {
      "text/html": [
       "Find logs at: <code>.\\wandb\\run-20240521_092441-3cbad2xa\\logs</code>"
      ],
      "text/plain": [
       "<IPython.core.display.HTML object>"
      ]
     },
     "metadata": {},
     "output_type": "display_data"
    }
   ],
   "source": [
    "results = model.train(data=\"config.yaml\", epochs = 1)"
   ]
  },
  {
   "cell_type": "code",
   "execution_count": null,
   "id": "5eaf9c39-0ac6-4011-afa0-5dc60c7508f5",
   "metadata": {},
   "outputs": [],
   "source": []
  }
 ],
 "metadata": {
  "kernelspec": {
   "display_name": "Python 3 (ipykernel)",
   "language": "python",
   "name": "python3"
  },
  "language_info": {
   "codemirror_mode": {
    "name": "ipython",
    "version": 3
   },
   "file_extension": ".py",
   "mimetype": "text/x-python",
   "name": "python",
   "nbconvert_exporter": "python",
   "pygments_lexer": "ipython3",
   "version": "3.12.3"
  }
 },
 "nbformat": 4,
 "nbformat_minor": 5
}
