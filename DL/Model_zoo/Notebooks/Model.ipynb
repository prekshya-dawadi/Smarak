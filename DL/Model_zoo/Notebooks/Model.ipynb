{
 "cells": [
  {
   "cell_type": "code",
   "execution_count": 3,
   "id": "68cda592-96dc-47c8-8c54-eab5616d1e6e",
   "metadata": {},
   "outputs": [
    {
     "name": "stdout",
     "output_type": "stream",
     "text": [
      "\n",
      "Saved under ssd_mobilenet_v2_fpnlite_640x640_coco17_tpu-8.tar.gz\n"
     ]
    }
   ],
   "source": [
    "!python -m wget http://download.tensorflow.org/models/object_detection/tf2/20200711/ssd_mobilenet_v2_fpnlite_640x640_coco17_tpu-8.tar.gz"
   ]
  },
  {
   "cell_type": "code",
   "execution_count": 3,
   "id": "ce4559ff-7154-422f-8e69-b911d0e789da",
   "metadata": {},
   "outputs": [
    {
     "data": {
      "text/plain": [
       "'D:\\\\Projects\\\\DL\\\\MonumentDetection\\\\DL\\\\Notebooks'"
      ]
     },
     "execution_count": 3,
     "metadata": {},
     "output_type": "execute_result"
    }
   ],
   "source": [
    "import os\n",
    "\n",
    "os.getcwd()"
   ]
  },
  {
   "cell_type": "code",
   "execution_count": 12,
   "id": "cefc9e6a-d852-4fd5-b911-d50366d72690",
   "metadata": {},
   "outputs": [
    {
     "name": "stdout",
     "output_type": "stream",
     "text": [
      "Extraction completed!\n"
     ]
    }
   ],
   "source": [
    "import tarfile\n",
    "\n",
    "# Path to the .tar.gz file\n",
    "tar_file_path = 'ssd_mobilenet_v2_fpnlite_640x640_coco17_tpu-8.tar.gz'\n",
    "\n",
    "# Path to extract to (ensure it exists or create it)\n",
    "extract_path = ''\n",
    "\n",
    "# Extract the .tar.gz file\n",
    "with tarfile.open(tar_file_path, 'r:gz') as tar:\n",
    "    tar.extractall(path=extract_path)\n",
    "\n",
    "print(\"Extraction completed!\")"
   ]
  },
  {
   "cell_type": "code",
   "execution_count": 28,
   "id": "296ee621-cef3-45ce-acc6-f8fc74a335ce",
   "metadata": {},
   "outputs": [],
   "source": [
    "MODEL_DIR = r'ssd_mobilenet_v2_fpnlite_320x320_coco17_tpu-8'\n",
    "PIPELINE_CONFIG = f'{MODEL_DIR}/pipeline.config'"
   ]
  },
  {
   "cell_type": "code",
   "execution_count": 5,
   "id": "6732f0a0-e0c6-41dd-a247-4f2d142d73f3",
   "metadata": {},
   "outputs": [],
   "source": [
    "import tensorflow as tf\n",
    "import re\n",
    "import string"
   ]
  },
  {
   "cell_type": "code",
   "execution_count": 29,
   "id": "74c9cfb2-4ebb-44cf-9d64-49cf372b13d8",
   "metadata": {},
   "outputs": [],
   "source": [
    "train_record_path = r'train.record'\n",
    "test_record_path = r'test.record'\n",
    "labelmap_path = r'labelmap.pbtxt'"
   ]
  },
  {
   "cell_type": "code",
   "execution_count": 7,
   "id": "431ecdf1-86e8-47fb-93ab-ab0e0832a790",
   "metadata": {},
   "outputs": [],
   "source": [
    "batch_size = 16\n",
    "num_steps = 8000\n",
    "num_eval_steps = 1000"
   ]
  },
  {
   "cell_type": "code",
   "execution_count": 39,
   "id": "79b3e71c-dfe4-4df1-b72f-57708d3bb0d9",
   "metadata": {},
   "outputs": [],
   "source": [
    "# Use raw strings to avoid escape issues\n",
    "fine_tune_checkpoint = r'ssd_mobilenet_v2_fpnlite_640x640_coco17_tpu-8/checkpoint/ckpt-0.index'\n",
    "\n",
    "# Check if the path exists\n",
    "if not os.path.exists(fine_tune_checkpoint):\n",
    "    raise ValueError(f\"The fine-tune checkpoint path does not exist: {fine_tune_checkpoint}\")"
   ]
  },
  {
   "cell_type": "code",
   "execution_count": 31,
   "id": "71f097cb-4a22-4896-8474-7e297dbf5ffd",
   "metadata": {},
   "outputs": [],
   "source": [
    "pipeline_config = r'ssd_mobilenet_v2_fpnlite_640x640_coco17_tpu-8/pipeline.config'"
   ]
  },
  {
   "cell_type": "code",
   "execution_count": 32,
   "id": "6e8c86cc-bdbb-41ac-8645-0fef219e06b7",
   "metadata": {},
   "outputs": [
    {
     "name": "stdout",
     "output_type": "stream",
     "text": [
      "File copied successfully!\n"
     ]
    }
   ],
   "source": [
    "import shutil\n",
    "\n",
    "# Source and destination paths\n",
    "source_path = r'ssd_mobilenet_v2_fpnlite_640x640_coco17_tpu-8/pipeline.config'  # Adjust this to your actual path\n",
    "destination_path = r'model_config.config'  # The new config file to be created\n",
    "\n",
    "# Copy the file\n",
    "shutil.copy(source_path, destination_path)\n",
    "\n",
    "print(\"File copied successfully!\")\n"
   ]
  },
  {
   "cell_type": "code",
   "execution_count": 11,
   "id": "7126153c-9c29-422d-8c3a-1505f5338733",
   "metadata": {},
   "outputs": [
    {
     "name": "stdout",
     "output_type": "stream",
     "text": [
      "\n",
      "Saved under ssd_mobilenet_v2_fpnlite_640x640_coco17_tpu-8.config\n"
     ]
    }
   ],
   "source": [
    "!python -m wget http://raw.githubusercontent.com/tensorflow/models/master/research/object_detection/configs/tf2/ssd_mobilenet_v2_fpnlite_640x640_coco17_tpu-8.config"
   ]
  },
  {
   "cell_type": "code",
   "execution_count": 33,
   "id": "df4ada2a-1f77-4660-bceb-5dd14a7e080a",
   "metadata": {},
   "outputs": [],
   "source": [
    "base_config_path = r'model_config.config'"
   ]
  },
  {
   "cell_type": "code",
   "execution_count": 37,
   "id": "5faacae1-9fb9-4b04-b460-c563c989a114",
   "metadata": {},
   "outputs": [],
   "source": [
    "paths = [train_record_path, test_record_path, labelmap_path, fine_tune_checkpoint, pipeline_config]\n",
    "\n",
    "for path in paths:\n",
    "    if not os.path.exists(path):\n",
    "        print(f\"Path does not exist: {path}\")\n"
   ]
  },
  {
   "cell_type": "code",
   "execution_count": 41,
   "id": "c0ce13c8-e36b-4959-a996-749136e2ea11",
   "metadata": {},
   "outputs": [],
   "source": [
    "num_classes = 2  # Example with a valid number\n",
    "\n",
    "# Ensure that the `num_classes` value is valid\n",
    "try:\n",
    "    # Regular expression for `num_classes`\n",
    "    config = re.sub(r'num_classes: \\d+', f'num_classes: {num_classes}', config)\n",
    "except Exception as e:\n",
    "    print(\"Error during num_classes substitution:\", e)\n"
   ]
  },
  {
   "cell_type": "code",
   "execution_count": 42,
   "id": "cf5178ff-3481-4a3f-ba14-39f905bd37d9",
   "metadata": {},
   "outputs": [
    {
     "name": "stdout",
     "output_type": "stream",
     "text": [
      "Error during fine_tune_checkpoint substitution: bad escape \\c at position 68\n",
      "Configuration file updated successfully!\n"
     ]
    }
   ],
   "source": [
    "# Not workable\n",
    "\n",
    "# Ensure the paths are valid in your Windows environment\n",
    "# This step is critical when working with Windows in Jupyter Notebook\n",
    "base_config_path = os.path.normpath(destination_path)  # Ensure proper formatting\n",
    "labelmap_path = os.path.normpath(labelmap_path)\n",
    "fine_tune_checkpoint = os.path.normpath(fine_tune_checkpoint)  # Avoid backslash issues\n",
    "train_record_path = os.path.normpath(train_record_path)\n",
    "test_record_path = os.path.normpath(test_record_path)\n",
    "\n",
    "# Read the base config file\n",
    "with open(base_config_path, 'r') as f:\n",
    "    config = f.read()\n",
    "\n",
    "# Modify the configuration based on your requirements\n",
    "with open(base_config_path, 'w') as f:\n",
    "    # Set label map path\n",
    "    try:\n",
    "        config = re.sub(r'label_map_path: \".*?\"', f'label_map_path: \"{labelmap_path}\"', config)\n",
    "    except Exception as e:\n",
    "        print(\"Error in label_map substitution\")\n",
    "    # Set fine-tune checkpoint path\n",
    "\n",
    "    try:\n",
    "        # Raw string to prevent escape sequence problems\n",
    "        config = re.sub(r'fine_tune_checkpoint: \".*?\"', f'fine_tune_checkpoint: \"{fine_tune_checkpoint}\"', config)\n",
    "    except Exception as e:\n",
    "        print(\"Error during fine_tune_checkpoint substitution:\", e)\n",
    "        \n",
    "    # Set train tf-record file path\n",
    "    try:\n",
    "        config = re.sub(r'input_path: \".*?/train.*?\"', f'input_path: \"{train_record_path}\"', config)\n",
    "    except Exception as e:\n",
    "        print(\"Error in input_path substitution\")\n",
    "    \n",
    "    # Set test tf-record file path\n",
    "    try:\n",
    "        config is re.sub(r'input_path: \".*?/val.*?\"', f'input_path: \"{test_record_path}\"', config)\n",
    "    except Exception as e:\n",
    "        print(\"Error in input_path substitution\")\n",
    "    \n",
    "    # Set number of classes\n",
    "    try:\n",
    "        config is re.sub(r'num_classes: \\d+', f'num_classes: {num_classes}', config)\n",
    "    except Exception as e:\n",
    "        print(\"Error in num_classes substitution\")\n",
    "        \n",
    "    # Set batch size\n",
    "    try:\n",
    "        config is re.sub(r'batch_size: \\d+', f'batch_size: {batch_size}', config)\n",
    "    except Exception as e:\n",
    "        print(\"Error in batch_size substitution\")\n",
    "    \n",
    "    # Set training steps\n",
    "    try:\n",
    "        config is re.sub(r'num_steps: \\d+', f'num_steps: {num_steps}', config)\n",
    "    except Exception as e:\n",
    "        print(\"Error training_steps substitution\")\n",
    "        \n",
    "    # Set fine-tune checkpoint type to detection\n",
    "    try:\n",
    "        config is re.sub(r'fine_tune_checkpoint_type: \".*?\"', 'fine_tune_checkpoint_type: \"detection\"', config)\n",
    "    except Exception as e:\n",
    "        print(\"Error in checkpoint_type substitution\")\n",
    "    # Write the modified configuration to a new file\n",
    "    f.write(config)\n",
    "\n",
    "print(\"Configuration file updated successfully!\")\n"
   ]
  },
  {
   "cell_type": "code",
   "execution_count": 1,
   "id": "4dc52e13-ae16-49eb-8b59-d798916c37bd",
   "metadata": {},
   "outputs": [
    {
     "name": "stderr",
     "output_type": "stream",
     "text": [
      "Traceback (most recent call last):\n",
      "  File \"<string>\", line 1, in <module>\n",
      "ImportError: cannot import name 'model_lib_v2' from 'object_detection' (C:\\Users\\acer\\anaconda3\\envs\\object_detection\\lib\\site-packages\\object_detection\\__init__.py)\n"
     ]
    }
   ],
   "source": [
    "!python -c \"from object_detection import model_lib_v2\""
   ]
  },
  {
   "cell_type": "code",
   "execution_count": null,
   "id": "4c6d40f3-cc6c-4b03-8a93-7cc210a1a674",
   "metadata": {},
   "outputs": [],
   "source": []
  }
 ],
 "metadata": {
  "kernelspec": {
   "display_name": "Python 3 (ipykernel)",
   "language": "python",
   "name": "python3"
  },
  "language_info": {
   "codemirror_mode": {
    "name": "ipython",
    "version": 3
   },
   "file_extension": ".py",
   "mimetype": "text/x-python",
   "name": "python",
   "nbconvert_exporter": "python",
   "pygments_lexer": "ipython3",
   "version": "3.9.15"
  }
 },
 "nbformat": 4,
 "nbformat_minor": 5
}
