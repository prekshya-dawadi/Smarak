{
 "cells": [
  {
   "cell_type": "code",
   "execution_count": 51,
   "id": "b285f02a-9c47-4c2d-8df1-99c3c86077c3",
   "metadata": {},
   "outputs": [],
   "source": [
    "import os\n",
    "import shutil\n",
    "import pandas as pd\n",
    "import numpy as np\n",
    "from pathlib import Path\n",
    "import csv\n",
    "import random"
   ]
  },
  {
   "cell_type": "code",
   "execution_count": 62,
   "id": "d65ff5d8-b4e0-40bf-ad64-ff8db2675645",
   "metadata": {},
   "outputs": [],
   "source": [
    "os.chdir('..')"
   ]
  },
  {
   "cell_type": "code",
   "execution_count": 63,
   "id": "724fa800-4a72-40e9-8026-2de3c648ed90",
   "metadata": {},
   "outputs": [
    {
     "data": {
      "text/plain": [
       "'D:\\\\Projects\\\\DL\\\\MonumentDetection\\\\Dataset\\\\LabeledData'"
      ]
     },
     "execution_count": 63,
     "metadata": {},
     "output_type": "execute_result"
    }
   ],
   "source": [
    "os.getcwd()"
   ]
  },
  {
   "cell_type": "code",
   "execution_count": 18,
   "id": "e3ab88f2-eacb-4f34-b30f-b9261e198df9",
   "metadata": {},
   "outputs": [],
   "source": [
    "source_paths = ['nyathapola/nyathopola3.csv', 'goldenGate/goldenGate.csv']\n",
    "destination_folder = 'csvs'\n",
    "if not os.path.exists(destination_folder):\n",
    "    os.makedirs(destination_folder)\n",
    "for source_path in source_paths:\n",
    "    destination_path = os.path.join(destination_folder)\n",
    "    shutil.move(source_path, destination_path)"
   ]
  },
  {
   "cell_type": "code",
   "execution_count": 20,
   "id": "412f8da0-aff8-4328-a841-0cb152dfee65",
   "metadata": {},
   "outputs": [],
   "source": [
    "source_paths = ['nyathapola/coco-nyaptola/images', 'goldenGate/images']\n",
    "destination_folder = 'images'\n",
    "if not os.path.exists(destination_folder):\n",
    "    os.makedirs(destination_folder)\n",
    "for source_path in source_paths:\n",
    "    for image_file in os.listdir(source_path):\n",
    "        source_image_path = os.path.join(source_path, image_file)\n",
    "        destination_image_path = os.path.join(destination_folder, image_file)\n",
    "        shutil.move(source_image_path, destination_image_path)"
   ]
  },
  {
   "cell_type": "code",
   "execution_count": 6,
   "id": "75e260a0-29d0-4c96-8fc0-cd8448b18e52",
   "metadata": {},
   "outputs": [],
   "source": [
    "os.mkdir('Train')\n",
    "os.mkdir('Test')"
   ]
  },
  {
   "cell_type": "code",
   "execution_count": 21,
   "id": "93a33564-16d8-4566-9417-05a560fc119a",
   "metadata": {},
   "outputs": [],
   "source": [
    "from sklearn.model_selection import train_test_split"
   ]
  },
  {
   "cell_type": "code",
   "execution_count": 35,
   "id": "c8355fce-5e9a-4468-8620-bc445155de25",
   "metadata": {},
   "outputs": [],
   "source": [
    "# Path to annotation CSV files\n",
    "csv_file1 = 'csvs/nyathopola3.csv'\n",
    "csv_file2 = 'csvs/goldenGate.csv'"
   ]
  },
  {
   "cell_type": "code",
   "execution_count": 36,
   "id": "6ab0c9da-34ff-42d6-9928-d16e926450c4",
   "metadata": {},
   "outputs": [],
   "source": [
    "df1 = pd.read_csv(csv_file1)\n",
    "df2 = pd.read_csv(csv_file2)"
   ]
  },
  {
   "cell_type": "code",
   "execution_count": 44,
   "id": "bf7f9454-6341-4cef-bc78-e9e898c0aba6",
   "metadata": {},
   "outputs": [],
   "source": [
    "# Merge DataFrames\n",
    "merged_df = pd.concat([df1, df2], ignore_index=True)\n",
    "\n",
    "# Path to the merged CSV file\n",
    "merged_csv_file = 'merged_annotations.csv'"
   ]
  },
  {
   "cell_type": "code",
   "execution_count": 45,
   "id": "544c4d09-a08d-4b6d-984f-39661e203df1",
   "metadata": {},
   "outputs": [],
   "source": [
    "# Save merged DataFrame to CSV file\n",
    "merged_df.to_csv(merged_csv_file, index=False)"
   ]
  },
  {
   "cell_type": "code",
   "execution_count": 55,
   "id": "3a4391e0-5087-4dad-b8c0-29444864223d",
   "metadata": {},
   "outputs": [],
   "source": [
    "# Define paths\n",
    "csv_file_path = \"merged_annotations.csv\"\n",
    "train_folder = \"train\"\n",
    "test_folder = \"test\"\n",
    "\n",
    "# Create train and test folders if they don't exist\n",
    "os.makedirs(train_folder, exist_ok=True)\n",
    "os.makedirs(test_folder, exist_ok=True)\n",
    "\n",
    "# Open CSV file\n",
    "with open(csv_file_path, 'r') as csv_file:\n",
    "    csv_reader = csv.reader(csv_file)\n",
    "    header = next(csv_reader)  # Assuming the first row is header\n",
    "\n",
    "    # Initialize train and test files\n",
    "    train_file = open(os.path.join(train_folder, \"train.csv\"), 'w', newline='')\n",
    "    test_file = open(os.path.join(test_folder, \"test.csv\"), 'w', newline='')\n",
    "\n",
    "    # Create CSV writers for train and test files\n",
    "    train_csv_writer = csv.writer(train_file)\n",
    "    test_csv_writer = csv.writer(test_file)\n",
    "\n",
    "    # Write header to train and test files\n",
    "    train_csv_writer.writerow(header)\n",
    "    test_csv_writer.writerow(header)\n",
    "\n",
    "    # Split data into train and test\n",
    "    for row in csv_reader:\n",
    "        # Randomly assign to train or test with 80-20 split\n",
    "        if random.random() < 0.8:\n",
    "            train_csv_writer.writerow(row)\n",
    "        else:\n",
    "            test_csv_writer.writerow(row)\n",
    "\n",
    "# Close all files\n",
    "train_file.close()\n",
    "test_file.close()\n"
   ]
  },
  {
   "cell_type": "code",
   "execution_count": 70,
   "id": "a338ddb3-5f88-41e1-ab38-49e2894fa19d",
   "metadata": {},
   "outputs": [],
   "source": [
    "for name in [\"train.csv\", \"test.csv\"]:\n",
    "    # Read the CSV file into a DataFrame\n",
    "    df = pd.read_csv(name)\n",
    "\n",
    "    # Define the regular expression pattern to match either substring\n",
    "    substring_pattern = r\"/data/upload/[13]/\"\n",
    "\n",
    "    # Replace the matching substrings with an empty string in the desired column\n",
    "    df['image'] = df['image'].str.replace(substring_pattern, '', regex=True)\n",
    "\n",
    "    # Write the modified DataFrame back to a CSV file\n",
    "    df.to_csv(name, index=False)\n"
   ]
  },
  {
   "cell_type": "code",
   "execution_count": 76,
   "id": "1afe22ae-1051-4c5c-8547-dc3c9fa27cd5",
   "metadata": {},
   "outputs": [],
   "source": [
    "# os.chdir('train')\n",
    "df = pd.read_csv('train.csv')\n",
    "# Move images corresponding to train annotations to train folder\n",
    "for index, row in df.iterrows():\n",
    "    image_path = os.path.join('images', row['image'])\n",
    "    shutil.move(image_path, os.path.join(train_folder, row['image']))"
   ]
  },
  {
   "cell_type": "code",
   "execution_count": 77,
   "id": "b32f3e86-5d08-459d-b2dc-7fb8c828b81b",
   "metadata": {},
   "outputs": [],
   "source": [
    "df = pd.read_csv('test.csv')\n",
    "# Move images corresponding to train annotations to train folder\n",
    "for index, row in df.iterrows():\n",
    "    image_path = os.path.join('images', row['image'])\n",
    "    shutil.move(image_path, os.path.join(test_folder, row['image']))"
   ]
  },
  {
   "cell_type": "code",
   "execution_count": null,
   "id": "4ad320a3-6c97-45ae-8b28-07a3a0f271cb",
   "metadata": {},
   "outputs": [],
   "source": []
  }
 ],
 "metadata": {
  "kernelspec": {
   "display_name": "Python 3 (ipykernel)",
   "language": "python",
   "name": "python3"
  },
  "language_info": {
   "codemirror_mode": {
    "name": "ipython",
    "version": 3
   },
   "file_extension": ".py",
   "mimetype": "text/x-python",
   "name": "python",
   "nbconvert_exporter": "python",
   "pygments_lexer": "ipython3",
   "version": "3.9.19"
  }
 },
 "nbformat": 4,
 "nbformat_minor": 5
}
