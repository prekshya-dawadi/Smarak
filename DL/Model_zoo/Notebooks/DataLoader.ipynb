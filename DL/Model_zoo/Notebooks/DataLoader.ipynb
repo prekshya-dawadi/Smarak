{
 "cells": [
  {
   "cell_type": "code",
   "execution_count": 5,
   "id": "cd1374f1-5dad-4cc5-94e5-a5d1c0244b0f",
   "metadata": {},
   "outputs": [],
   "source": [
    "import tensorflow as tf\n",
    "import keras_cv\n",
    "import json\n",
    "import os"
   ]
  },
  {
   "cell_type": "code",
   "execution_count": 6,
   "id": "3624599e-7ea9-42e6-b8bf-020fbc65399f",
   "metadata": {},
   "outputs": [],
   "source": [
    "# Load annotations from a COCO JSON file\n",
    "def load_annotations(annotation_file):\n",
    "    with open(annotation_file, 'r') as f:\n",
    "        annotations = json.load(f)\n",
    "    return annotations"
   ]
  },
  {
   "cell_type": "code",
   "execution_count": 7,
   "id": "6bbcce3c-8471-442a-be8d-b99658c2cadf",
   "metadata": {},
   "outputs": [],
   "source": [
    "# Load image and annotation data\n",
    "def load_image_and_annotations(image_path, annotations):\n",
    "    image = tf.io.decode_jpeg(tf.io.read_file(image_path), channels=3)\n",
    "    image_info = [ann for ann in annotations['images'] if ann['file_name'] == os.path.basename(image_path)]\n",
    "    if not image_info:\n",
    "        raise ValueError(f\"Image {image_path} not found in annotations\")\n",
    "    \n",
    "    image_id = image_info[0]['id']\n",
    "    bboxes = [ann['bbox'] for ann in annotations['annotations'] if ann['image_id'] == image_id]\n",
    "    classes = [ann['category_id'] for ann in annotations['annotations'] if ann['image_id'] == image_id]\n",
    "\n",
    "    return image, bboxes, classes\n"
   ]
  },
  {
   "cell_type": "code",
   "execution_count": 8,
   "id": "06e1ad4e-c3f8-4d6f-941d-179599ce5fdf",
   "metadata": {},
   "outputs": [],
   "source": [
    "# Data loader function for a tf.data.Dataset\n",
    "def data_loader(annotation_file, image_folder):\n",
    "    annotations = load_annotations(annotation_file)\n",
    "    \n",
    "    image_files = [os.path.join(image_folder, img['file_name']) for img in annotations['images']]\n",
    "    \n",
    "    def load_data(image_file):\n",
    "        image, bboxes, classes = load_image_and_annotations(image_file, annotations)\n",
    "        # Normalize bounding boxes and convert classes to tensors\n",
    "        bboxes = tf.convert_to_tensor(bboxes, dtype=tf.float32)\n",
    "        classes = tf.convert_to_tensor(classes, dtype=tf.int32)\n",
    "        \n",
    "        # You may need additional preprocessing steps, like resizing or normalization\n",
    "        return image, {'boxes': bboxes, 'classes': classes}\n",
    "    \n",
    "    # Create a TensorFlow dataset from the image files\n",
    "    dataset = tf.data.Dataset.from_tensor_slices(image_files).map(load_data)\n",
    "    \n",
    "    return dataset"
   ]
  },
  {
   "cell_type": "code",
   "execution_count": null,
   "id": "8b478c2b-be78-4621-b14b-42533ef4b865",
   "metadata": {},
   "outputs": [],
   "source": [
    "# Data loader function for a tf.data.Dataset\n",
    "def data_loader(annotation_file, image_folder):\n",
    "    annotations = load_annotations(annotation_file)\n",
    "    \n",
    "    image_files = [os.path.join(image_folder, img['file_name']) for img in annotations['images']]\n",
    "    \n",
    "    def load_data(image_file):\n",
    "        image, bboxes, classes = load_image_and_annotations(image_file, annotations)\n",
    "        # Normalize bounding boxes and convert classes to tensors\n",
    "        bboxes = tf.convert_to_tensor(bboxes, dtype=tf.float32)\n",
    "        classes = tf.convert_to_tensor(classes, dtype=tf.int32)\n",
    "        \n",
    "        # You may need additional preprocessing steps, like resizing or normalization\n",
    "        return image, {'boxes': bboxes, 'classes': classes}\n",
    "    \n",
    "    # Create a TensorFlow dataset from the image files\n",
    "    dataset = tf.data.Dataset.from_tensor_slices(image_files).map(load_data)\n",
    "    \n",
    "    return dataset"
   ]
  }
 ],
 "metadata": {
  "kernelspec": {
   "display_name": "Python 3 (ipykernel)",
   "language": "python",
   "name": "python3"
  },
  "language_info": {
   "codemirror_mode": {
    "name": "ipython",
    "version": 3
   },
   "file_extension": ".py",
   "mimetype": "text/x-python",
   "name": "python",
   "nbconvert_exporter": "python",
   "pygments_lexer": "ipython3",
   "version": "3.12.3"
  }
 },
 "nbformat": 4,
 "nbformat_minor": 5
}
