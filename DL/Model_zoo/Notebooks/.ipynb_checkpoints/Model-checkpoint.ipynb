{
 "cells": [
  {
   "cell_type": "code",
   "execution_count": 3,
   "id": "68cda592-96dc-47c8-8c54-eab5616d1e6e",
   "metadata": {},
   "outputs": [
    {
     "name": "stdout",
     "output_type": "stream",
     "text": [
      "\n",
      "Saved under ssd_mobilenet_v2_fpnlite_640x640_coco17_tpu-8.tar.gz\n"
     ]
    }
   ],
   "source": [
    "!python -m wget http://download.tensorflow.org/models/object_detection/tf2/20200711/ssd_mobilenet_v2_fpnlite_640x640_coco17_tpu-8.tar.gz"
   ]
  },
  {
   "cell_type": "code",
   "execution_count": 11,
   "id": "ce4559ff-7154-422f-8e69-b911d0e789da",
   "metadata": {},
   "outputs": [
    {
     "data": {
      "text/plain": [
       "'D:\\\\Projects\\\\DL\\\\MonumentDetection\\\\DL\\\\models\\\\research'"
      ]
     },
     "execution_count": 11,
     "metadata": {},
     "output_type": "execute_result"
    }
   ],
   "source": [
    "import os\n",
    "\n",
    "os.getcwd()"
   ]
  },
  {
   "cell_type": "code",
   "execution_count": 12,
   "id": "cefc9e6a-d852-4fd5-b911-d50366d72690",
   "metadata": {},
   "outputs": [
    {
     "name": "stdout",
     "output_type": "stream",
     "text": [
      "Extraction completed!\n"
     ]
    }
   ],
   "source": [
    "import tarfile\n",
    "\n",
    "# Path to the .tar.gz file\n",
    "tar_file_path = 'ssd_mobilenet_v2_fpnlite_640x640_coco17_tpu-8.tar.gz'\n",
    "\n",
    "# Path to extract to (ensure it exists or create it)\n",
    "extract_path = ''\n",
    "\n",
    "# Extract the .tar.gz file\n",
    "with tarfile.open(tar_file_path, 'r:gz') as tar:\n",
    "    tar.extractall(path=extract_path)\n",
    "\n",
    "print(\"Extraction completed!\")"
   ]
  },
  {
   "cell_type": "code",
   "execution_count": 13,
   "id": "296ee621-cef3-45ce-acc6-f8fc74a335ce",
   "metadata": {},
   "outputs": [],
   "source": [
    "MODEL_DIR = 'ssd_mobilenet_v2_fpnlite_320x320_coco17_tpu-8'\n",
    "PIPELINE_CONFIG = f'{MODEL_DIR}/pipeline.config'"
   ]
  },
  {
   "cell_type": "code",
   "execution_count": 14,
   "id": "6732f0a0-e0c6-41dd-a247-4f2d142d73f3",
   "metadata": {},
   "outputs": [],
   "source": [
    "import tensorflow as tf\n",
    "import re\n",
    "import string"
   ]
  },
  {
   "cell_type": "code",
   "execution_count": 17,
   "id": "74c9cfb2-4ebb-44cf-9d64-49cf372b13d8",
   "metadata": {},
   "outputs": [],
   "source": [
    "train_record_path = \"D:/Projects/DL/MonumentDetection/DL/Notebooks/train.record\"\n",
    "test_record_path = \"D:/Projects/DL/MonumentDetection/DL/Notebooks/test.record\"\n",
    "labelmap_path = \"D:/Projects/DL/MonumentDetection/DL/Notebooks/labelmap.pbtxt\""
   ]
  },
  {
   "cell_type": "code",
   "execution_count": 18,
   "id": "431ecdf1-86e8-47fb-93ab-ab0e0832a790",
   "metadata": {},
   "outputs": [],
   "source": [
    "batch_size = 16\n",
    "num_steps = 8000\n",
    "num_eval_steps = 1000"
   ]
  },
  {
   "cell_type": "code",
   "execution_count": null,
   "id": "79b3e71c-dfe4-4df1-b72f-57708d3bb0d9",
   "metadata": {},
   "outputs": [],
   "source": [
    "fine_tune_checkpoint = \"D:/Projects/DL/MonumentDetection/DL/models/research/ssd_mobilenet_v2_fpnlite_640x640_coco17_tpu-8/checkpoint/ckpt-0.index'"
   ]
  }
 ],
 "metadata": {
  "kernelspec": {
   "display_name": "Python 3 (ipykernel)",
   "language": "python",
   "name": "python3"
  },
  "language_info": {
   "codemirror_mode": {
    "name": "ipython",
    "version": 3
   },
   "file_extension": ".py",
   "mimetype": "text/x-python",
   "name": "python",
   "nbconvert_exporter": "python",
   "pygments_lexer": "ipython3",
   "version": "3.9.15"
  }
 },
 "nbformat": 4,
 "nbformat_minor": 5
}
