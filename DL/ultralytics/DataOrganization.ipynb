{
 "cells": [
  {
   "cell_type": "code",
   "execution_count": 1,
   "id": "ba8dc217-182b-4008-9d60-74deb685ae2d",
   "metadata": {},
   "outputs": [],
   "source": [
    "import os\n",
    "from pathlib import Path\n",
    "import shutil\n",
    "import random"
   ]
  },
  {
   "cell_type": "code",
   "execution_count": 2,
   "id": "06f7b528-5ea9-4f70-b32a-018b8c0fe496",
   "metadata": {},
   "outputs": [
    {
     "data": {
      "text/plain": [
       "'D:\\\\Projects\\\\DL\\\\MonumentDetection\\\\DL\\\\ultralytics'"
      ]
     },
     "execution_count": 2,
     "metadata": {},
     "output_type": "execute_result"
    }
   ],
   "source": [
    "os.getcwd()"
   ]
  },
  {
   "cell_type": "code",
   "execution_count": 9,
   "id": "0e2dd0fb-5806-4b62-81c5-5a76f1732696",
   "metadata": {},
   "outputs": [],
   "source": [
    "#base_path = \"D:/Projects/DL/MonumentDetection/DL/ultralytics/dataset\"\n",
    "#target_dir = os.path.join(base_path,\"goldenGate\",\"labels\")\n",
    "target_dir = Path(\"C:/Users/acer/Downloads/dataset-20240529T183144Z-001/dataset/val/labels\")"
   ]
  },
  {
   "cell_type": "code",
   "execution_count": 12,
   "id": "efde3465-d3b9-46a2-8ccc-07bdc88c5e4c",
   "metadata": {},
   "outputs": [],
   "source": [
    "for file in os.listdir(target_dir):\n",
    "    file_path = os.path.join(target_dir, file)\n",
    "    with open(file_path, 'r+') as f:\n",
    "        lines = f.readlines() \n",
    "        # Process each line\n",
    "        new_lines = []\n",
    "        for line in lines:\n",
    "            if line and line[0] == '1':\n",
    "                new_line = '2' + line[1:]\n",
    "            else:\n",
    "                new_line = line\n",
    "            new_lines.append(new_line)\n",
    "        \n",
    "        # Go back to the beginning of the file\n",
    "        f.seek(0)\n",
    "        \n",
    "        # Write the new content back to the file\n",
    "        f.writelines(new_lines)\n",
    "        \n",
    "        # Truncate the file to the new length\n",
    "        f.truncate()"
   ]
  },
  {
   "cell_type": "markdown",
   "id": "92852c96-cd56-4178-a4ba-be69904c83a5",
   "metadata": {},
   "source": [
    "# Test and Train Split"
   ]
  },
  {
   "cell_type": "code",
   "execution_count": 18,
   "id": "107fd2e0-9868-428c-a289-eb359c6903da",
   "metadata": {},
   "outputs": [],
   "source": [
    "# Create directories for training and validation\n",
    "os.makedirs(\"C:/Users/acer/OneDrive/Desktop/Dataset/train/images\", exist_ok=True)\n",
    "os.makedirs(\"C:/Users/acer/OneDrive/Desktop/Dataset/train/labels\", exist_ok=True)\n",
    "os.makedirs(\"C:/Users/acer/OneDrive/Desktop/Dataset/val/images\", exist_ok=True)\n",
    "os.makedirs(\"C:/Users/acer/OneDrive/Desktop/Dataset/val/labels\", exist_ok=True)"
   ]
  },
  {
   "cell_type": "code",
   "execution_count": 19,
   "id": "4d37f3c5-686d-4ebd-bb4b-3c35740ecb04",
   "metadata": {},
   "outputs": [],
   "source": [
    "image_path = Path(\"C:/Users/acer/OneDrive/Desktop/Dataset/images\")\n",
    "label_path = Path(\"C:/Users/acer/OneDrive/Desktop/Dataset/labels\")"
   ]
  },
  {
   "cell_type": "code",
   "execution_count": 20,
   "id": "8788f93d-ece2-4f7b-ab0d-9f9edcaba240",
   "metadata": {},
   "outputs": [],
   "source": [
    "# List all images\n",
    "images = os.listdir(image_path)"
   ]
  },
  {
   "cell_type": "code",
   "execution_count": 21,
   "id": "604fe5b2-1125-451e-a1cb-f8ba6e79c8ac",
   "metadata": {},
   "outputs": [],
   "source": [
    "# Shuffle images and split into training and validation\n",
    "random.shuffle(images)\n",
    "train_ratio = 0.7\n",
    "num_train = int(len(images) * train_ratio)\n",
    "# val_ratio = 0.2\n",
    "# num_val = int(len(images) * val_ratio)"
   ]
  },
  {
   "cell_type": "code",
   "execution_count": 22,
   "id": "b36a00ca-15ad-4536-911b-b65b9a0178c1",
   "metadata": {},
   "outputs": [],
   "source": [
    "train_images = images[:num_train]\n",
    "val_images = images[num_train:]"
   ]
  },
  {
   "cell_type": "code",
   "execution_count": 23,
   "id": "9ad40a8b-8ba1-4120-b508-fa5fe63eb475",
   "metadata": {},
   "outputs": [],
   "source": [
    "# Move images and corresponding labels to respective directories\n",
    "for image in train_images:\n",
    "    base_name = os.path.splitext(image)[0]\n",
    "    label_file = f\"{base_name}.txt\"\n",
    "    \n",
    "    shutil.copy(os.path.join(image_path, image), \"C:/Users/acer/OneDrive/Desktop/Dataset/train/images\")\n",
    "    shutil.copy(os.path.join(label_path, label_file), \"C:/Users/acer/OneDrive/Desktop/Dataset/train/labels\")"
   ]
  },
  {
   "cell_type": "code",
   "execution_count": null,
   "id": "4c6d0ce8-d6a0-4a6d-b0ca-491f4fa638d4",
   "metadata": {},
   "outputs": [],
   "source": [
    "for image in val_images:\n",
    "    base_name = os.path.splitext(image)[0]\n",
    "    label_file = f\"{base_name}.txt\"\n",
    "    \n",
    "    shutil.copy(os.path.join(image_path,image), \"C:/Users/acer/OneDrive/Desktop/Dataset/val/images\")\n",
    "    shutil.copy(os.path.join(label_path, label_file), \"C:/Users/acer/OneDrive/Desktop/Dataset/val/labels\")"
   ]
  }
 ],
 "metadata": {
  "kernelspec": {
   "display_name": "Python 3 (ipykernel)",
   "language": "python",
   "name": "python3"
  },
  "language_info": {
   "codemirror_mode": {
    "name": "ipython",
    "version": 3
   },
   "file_extension": ".py",
   "mimetype": "text/x-python",
   "name": "python",
   "nbconvert_exporter": "python",
   "pygments_lexer": "ipython3",
   "version": "3.9.19"
  }
 },
 "nbformat": 4,
 "nbformat_minor": 5
}
