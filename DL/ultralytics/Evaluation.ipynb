{
 "cells": [
  {
   "cell_type": "code",
   "execution_count": 1,
   "id": "54af74ac-8a0b-4c53-889d-3ce908651b21",
   "metadata": {},
   "outputs": [],
   "source": [
    "from ultralytics import YOLO\n",
    "from pathlib import Path\n",
    "from ultralytics.data.augment import Albumentations\n",
    "from ultralytics.utils import LOGGER, colorstr\n",
    "from pathlib import Path\n",
    "from PIL import Image"
   ]
  },
  {
   "cell_type": "code",
   "execution_count": 11,
   "id": "e93142ce-1590-40ed-9129-3e3533aa98c1",
   "metadata": {},
   "outputs": [],
   "source": [
    "model = YOLO(\"runs/detect/train24/weights/best.pt\")"
   ]
  },
  {
   "cell_type": "code",
   "execution_count": 12,
   "id": "58704d21-61d7-431d-92bf-87bb58789c7c",
   "metadata": {},
   "outputs": [
    {
     "name": "stdout",
     "output_type": "stream",
     "text": [
      "\n",
      "0: 640x640 1 GoldenGate, 144.0ms\n",
      "1: 640x640 1 Fifty-Five Window Palace, 1 GoldenGate, 144.0ms\n",
      "2: 640x640 1 Nyatapola, 144.0ms\n",
      "3: 640x640 1 Krishna Temple, 144.0ms\n",
      "Speed: 3.9ms preprocess, 144.0ms inference, 0.8ms postprocess per image at shape (1, 3, 640, 640)\n"
     ]
    }
   ],
   "source": [
    "prediction = model.predict([\"Dataset/train/images/0ee277a4-image_14.png\", \"Dataset/train/images/0f53e6df-IMG_20240501_115021.jpg\", \"Dataset/train/images/1ee86809-image_482.png\", \"Dataset/train/images/2fae62ed-IMG_20240501_111408.jpg\"])"
   ]
  },
  {
   "cell_type": "code",
   "execution_count": 13,
   "id": "3d496f61-f6c2-4649-8ac2-7d13b71b939f",
   "metadata": {},
   "outputs": [],
   "source": [
    "for pred in prediction:\n",
    "    boxes = pred.boxes\n",
    "    probs = pred.probs\n",
    "    pred.show()"
   ]
  },
  {
   "cell_type": "code",
   "execution_count": 10,
   "id": "f95dfd0d-2e46-43ed-b6b0-19a7a04230c2",
   "metadata": {},
   "outputs": [
    {
     "name": "stdout",
     "output_type": "stream",
     "text": [
      "Ultralytics YOLOv8.2.18  Python-3.9.19 torch-2.3.0+cpu CPU (11th Gen Intel Core(TM) i5-1135G7 2.40GHz)\n",
      "\n",
      "\u001b[34m\u001b[1mPyTorch:\u001b[0m starting from 'runs\\detect\\train24\\weights\\best.pt' with input shape (1, 3, 640, 640) BCHW and output shape(s) (1, 13, 8400) (5.9 MB)\n",
      "\n",
      "\u001b[34m\u001b[1mTensorFlow SavedModel:\u001b[0m starting export with tensorflow 2.13.1...\n",
      "\n",
      "\u001b[34m\u001b[1mONNX:\u001b[0m starting export with onnx 1.16.0 opset 17...\n",
      "\u001b[34m\u001b[1mONNX:\u001b[0m simplifying with onnxsim 0.4.36...\n",
      "\u001b[34m\u001b[1mONNX:\u001b[0m export success  2.0s, saved as 'runs\\detect\\train24\\weights\\best.onnx' (11.7 MB)\n",
      "\u001b[34m\u001b[1mTensorFlow SavedModel:\u001b[0m starting TFLite export with onnx2tf 1.17.5...\n",
      "\u001b[34m\u001b[1mTensorFlow SavedModel:\u001b[0m export success  18.1s, saved as 'runs\\detect\\train24\\weights\\best_saved_model' (29.5 MB)\n",
      "\n",
      "\u001b[34m\u001b[1mTensorFlow Lite:\u001b[0m starting export with tensorflow 2.13.1...\n",
      "\u001b[34m\u001b[1mTensorFlow Lite:\u001b[0m export success  0.0s, saved as 'runs\\detect\\train24\\weights\\best_saved_model\\best_float32.tflite' (11.7 MB)\n",
      "\n",
      "Export complete (19.9s)\n",
      "Results saved to \u001b[1mD:\\Projects\\DL\\MonumentDetection\\DL\\ultralytics\\runs\\detect\\train24\\weights\u001b[0m\n",
      "Predict:         yolo predict task=detect model=runs\\detect\\train24\\weights\\best_saved_model\\best_float32.tflite imgsz=640  \n",
      "Validate:        yolo val task=detect model=runs\\detect\\train24\\weights\\best_saved_model\\best_float32.tflite imgsz=640 data=/content/config.yaml  \n",
      "Visualize:       https://netron.app\n"
     ]
    },
    {
     "data": {
      "text/plain": [
       "'runs\\\\detect\\\\train24\\\\weights\\\\best_saved_model\\\\best_float32.tflite'"
      ]
     },
     "execution_count": 10,
     "metadata": {},
     "output_type": "execute_result"
    }
   ],
   "source": [
    "model.export(format=\"tflite\")"
   ]
  },
  {
   "cell_type": "code",
   "execution_count": null,
   "id": "92257007-438b-4f9d-b86f-020869e34745",
   "metadata": {},
   "outputs": [],
   "source": []
  }
 ],
 "metadata": {
  "kernelspec": {
   "display_name": "Python 3 (ipykernel)",
   "language": "python",
   "name": "python3"
  },
  "language_info": {
   "codemirror_mode": {
    "name": "ipython",
    "version": 3
   },
   "file_extension": ".py",
   "mimetype": "text/x-python",
   "name": "python",
   "nbconvert_exporter": "python",
   "pygments_lexer": "ipython3",
   "version": "3.9.19"
  }
 },
 "nbformat": 4,
 "nbformat_minor": 5
}
