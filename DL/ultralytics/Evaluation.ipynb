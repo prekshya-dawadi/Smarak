{
 "cells": [
  {
   "cell_type": "code",
   "execution_count": 18,
   "id": "54af74ac-8a0b-4c53-889d-3ce908651b21",
   "metadata": {},
   "outputs": [],
   "source": [
    "from ultralytics import YOLO\n",
    "from pathlib import Path\n",
    "from ultralytics.data.augment import Albumentations\n",
    "from ultralytics.utils import LOGGER, colorstr\n",
    "from pathlib import Path\n",
    "from PIL import Image"
   ]
  },
  {
   "cell_type": "code",
   "execution_count": 24,
   "id": "e93142ce-1590-40ed-9129-3e3533aa98c1",
   "metadata": {},
   "outputs": [],
   "source": [
    "model = YOLO(\"runs/detect/train6/weights/best.pt\")"
   ]
  },
  {
   "cell_type": "code",
   "execution_count": 25,
   "id": "58704d21-61d7-431d-92bf-87bb58789c7c",
   "metadata": {},
   "outputs": [
    {
     "name": "stdout",
     "output_type": "stream",
     "text": [
      "\n",
      "0: 640x640 1 nyathapola, 226.2ms\n",
      "1: 640x640 1 goldengate, 226.2ms\n",
      "2: 640x640 1 nyathapola, 226.2ms\n",
      "3: 640x640 1 nyathapola, 226.2ms\n",
      "Speed: 7.6ms preprocess, 226.2ms inference, 1.9ms postprocess per image at shape (1, 3, 640, 640)\n"
     ]
    }
   ],
   "source": [
    "prediction = model.predict([\"dataset2/train/images/0f2b5ba0-image_485.png\", \"dataset2/train/images/6a6eb3c5-IMG_1906.JPG\", \"dataset2/train/images/augmented_0_b5b728ea-image_83.png\", \"dataset2/train/images/augmented_0_b5b728ea-image_83.png\"])"
   ]
  },
  {
   "cell_type": "code",
   "execution_count": 26,
   "id": "3d496f61-f6c2-4649-8ac2-7d13b71b939f",
   "metadata": {},
   "outputs": [],
   "source": [
    "for pred in prediction:\n",
    "    boxes = pred.boxes\n",
    "    probs = pred.probs\n",
    "    pred.show()"
   ]
  },
  {
   "cell_type": "code",
   "execution_count": null,
   "id": "f95dfd0d-2e46-43ed-b6b0-19a7a04230c2",
   "metadata": {},
   "outputs": [],
   "source": []
  }
 ],
 "metadata": {
  "kernelspec": {
   "display_name": "Python 3 (ipykernel)",
   "language": "python",
   "name": "python3"
  },
  "language_info": {
   "codemirror_mode": {
    "name": "ipython",
    "version": 3
   },
   "file_extension": ".py",
   "mimetype": "text/x-python",
   "name": "python",
   "nbconvert_exporter": "python",
   "pygments_lexer": "ipython3",
   "version": "3.9.19"
  }
 },
 "nbformat": 4,
 "nbformat_minor": 5
}
