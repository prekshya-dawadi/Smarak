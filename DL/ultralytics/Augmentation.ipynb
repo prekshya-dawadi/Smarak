{
 "cells": [
  {
   "cell_type": "code",
   "execution_count": 40,
   "id": "c3ad0a36-faca-404d-ad27-35e4a65893f7",
   "metadata": {},
   "outputs": [],
   "source": [
    "import tensorflow as tf\n",
    "from tensorflow.keras.preprocessing.image import ImageDataGenerator\n",
    "import matplotlib.pyplot as plt\n",
    "import os\n",
    "import numpy as np\n",
    "from pathlib import Path\n",
    "import random"
   ]
  },
  {
   "cell_type": "code",
   "execution_count": 41,
   "id": "85952ef9-ad21-4653-8913-8e0a37d14181",
   "metadata": {},
   "outputs": [
    {
     "data": {
      "text/plain": [
       "'D:\\\\Projects\\\\DL\\\\MonumentDetection'"
      ]
     },
     "execution_count": 41,
     "metadata": {},
     "output_type": "execute_result"
    }
   ],
   "source": [
    "os.getcwd()"
   ]
  },
  {
   "cell_type": "markdown",
   "id": "896b944c",
   "metadata": {},
   "source": [
    "## Using ImageDataGenerator"
   ]
  },
  {
   "cell_type": "code",
   "execution_count": 42,
   "id": "b64b2ee9",
   "metadata": {},
   "outputs": [],
   "source": [
    "image_size = (640, 640)"
   ]
  },
  {
   "cell_type": "code",
   "execution_count": 43,
   "id": "1c0ad979-8a82-4d02-8ce2-e9a0deb98dad",
   "metadata": {},
   "outputs": [],
   "source": [
    "datagen = ImageDataGenerator(\n",
    "    rotation_range = 40, # rotating objects\n",
    "    width_shift_range = 0.2, # small shifts\n",
    "    height_shift_range = 0.2, # small shifts\n",
    "    brightness_range=[0.8, 1.2], \n",
    "    shear_range = 0.2, # small shears\n",
    "    zoom_range = 0.2, # minor zooms \n",
    "    horizontal_flip = True, \n",
    "    fill_mode = \"nearest\"\n",
    ")"
   ]
  },
  {
   "cell_type": "code",
   "execution_count": 50,
   "id": "817ded08-2bfb-4ca7-9d22-4c456933f1ec",
   "metadata": {},
   "outputs": [],
   "source": [
    "image_dir = Path(\"D:/Projects/DL/MonumentDetection/Dataset\")"
   ]
  },
  {
   "cell_type": "code",
   "execution_count": 51,
   "id": "a8765659-f089-403f-8a41-59c27524d64e",
   "metadata": {},
   "outputs": [],
   "source": [
    "def save_augmented_images(datagen, image_path, image_size, output_dir, num_augmentations=15):\n",
    "    os.makedirs(output_dir, exist_ok=True)\n",
    "    \n",
    "    img = tf.keras.preprocessing.image.load_img(image_path, target_size= image_size)\n",
    "    x = tf.keras.preprocessing.image.img_to_array(img)\n",
    "    x = np.expand_dims(x, axis=0)\n",
    "    \n",
    "    i = 0\n",
    "    for batch in datagen.flow(x, batch_size=1, save_to_dir=output_dir, save_prefix='aug', save_format='jpg'):\n",
    "        i += 1\n",
    "        if i >= num_augmentations:\n",
    "            break\n"
   ]
  },
  {
   "cell_type": "code",
   "execution_count": 52,
   "id": "747768d0-ef06-4f7c-a9c6-4a61d630fdd1",
   "metadata": {},
   "outputs": [],
   "source": [
    "image_paths = [os.path.join(image_dir,f) for f in os.listdir(image_dir) if f.endswith(('.png', '.jpg', '.jpeg'))]\n",
    "output_dir = \"augmentedImages\"\n",
    "num_augmentations_per_image = 15\n",
    "# print(image_paths)"
   ]
  },
  {
   "cell_type": "code",
   "execution_count": 53,
   "id": "44b9358a",
   "metadata": {},
   "outputs": [],
   "source": [
    "for image_path in image_paths:\n",
    "    save_augmented_images(datagen, image_path, image_size, output_dir, num_augmentations_per_image)"
   ]
  },
  {
   "cell_type": "code",
   "execution_count": 20,
   "id": "6b7d1654",
   "metadata": {},
   "outputs": [],
   "source": [
    "def display_image(image_path):\n",
    "    img = tf.keras.preprocessing.image.load_img(image_path)\n",
    "    plt.imshow(img)\n",
    "    plt.axis('off')\n",
    "    plt.show()"
   ]
  }
 ],
 "metadata": {
  "kernelspec": {
   "display_name": "Python 3 (ipykernel)",
   "language": "python",
   "name": "python3"
  }
 },
 "nbformat": 4,
 "nbformat_minor": 5
}
