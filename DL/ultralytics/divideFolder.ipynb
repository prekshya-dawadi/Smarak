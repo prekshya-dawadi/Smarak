{
 "cells": [
  {
   "cell_type": "code",
   "execution_count": 5,
   "id": "48e56927-75a5-4d80-9b19-026d4b052449",
   "metadata": {},
   "outputs": [],
   "source": [
    "import os \n",
    "import shutil\n",
    "from pathlib import Path "
   ]
  },
  {
   "cell_type": "code",
   "execution_count": 6,
   "id": "6f414a1f-882e-445a-be34-88d04adfcd9b",
   "metadata": {},
   "outputs": [],
   "source": [
    "source_path = Path(\"D:/Projects/DL/MonumentDetection/\")"
   ]
  },
  {
   "cell_type": "code",
   "execution_count": null,
   "id": "6e86c257-8bf1-40d6-921d-8af0426e491e",
   "metadata": {},
   "outputs": [],
   "source": [
    "for files in os.listdir(source_file):\n",
    "    for i in range(20):\n",
    "        dest_name = \"folder\"+ str(i)\n",
    "        dest = os.path.join(source_path, dest_name)\n",
    "        os.makedirs(dest, exist_ok=True)\n",
    "        shutil.copy(os.path.join(source_path, file), dest)"
   ]
  }
 ],
 "metadata": {
  "kernelspec": {
   "display_name": "Python 3 (ipykernel)",
   "language": "python",
   "name": "python3"
  },
  "language_info": {
   "codemirror_mode": {
    "name": "ipython",
    "version": 3
   },
   "file_extension": ".py",
   "mimetype": "text/x-python",
   "name": "python",
   "nbconvert_exporter": "python",
   "pygments_lexer": "ipython3",
   "version": "3.9.19"
  }
 },
 "nbformat": 4,
 "nbformat_minor": 5
}
