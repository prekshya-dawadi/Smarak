{
 "cells": [
  {
   "cell_type": "code",
   "execution_count": 13,
   "metadata": {},
   "outputs": [],
   "source": [
    "from cleanvision import Imagelab\n",
    "from pathlib import Path"
   ]
  },
  {
   "cell_type": "code",
   "execution_count": 14,
   "metadata": {},
   "outputs": [],
   "source": [
    "data_path = Path(\"D:/Projects/DL/MonumentDetection/augmentedImages\")"
   ]
  },
  {
   "cell_type": "code",
   "execution_count": 15,
   "metadata": {},
   "outputs": [
    {
     "name": "stdout",
     "output_type": "stream",
     "text": [
      "Reading images from D:/Projects/DL/MonumentDetection/augmentedImages\n"
     ]
    }
   ],
   "source": [
    "imagelab = Imagelab(data_path)"
   ]
  },
  {
   "cell_type": "code",
   "execution_count": 16,
   "metadata": {},
   "outputs": [
    {
     "name": "stdout",
     "output_type": "stream",
     "text": [
      "Checking for dark, light, odd_aspect_ratio, low_information, exact_duplicates, near_duplicates, blurry, grayscale, odd_size images ...\n"
     ]
    },
    {
     "data": {
      "application/vnd.jupyter.widget-view+json": {
       "model_id": "a8cd41c71b3b479d85fc76124f912df1",
       "version_major": 2,
       "version_minor": 0
      },
      "text/plain": [
       "  0%|          | 0/4358 [00:00<?, ?it/s]"
      ]
     },
     "metadata": {},
     "output_type": "display_data"
    },
    {
     "data": {
      "application/vnd.jupyter.widget-view+json": {
       "model_id": "e3a70955c90e443e9b5d9056e8d3caa3",
       "version_major": 2,
       "version_minor": 0
      },
      "text/plain": [
       "  0%|          | 0/4358 [00:00<?, ?it/s]"
      ]
     },
     "metadata": {},
     "output_type": "display_data"
    },
    {
     "name": "stdout",
     "output_type": "stream",
     "text": [
      "Issue checks completed. 0 issues found in the dataset. To see a detailed report of issues found, use imagelab.report().\n"
     ]
    }
   ],
   "source": [
    "imagelab.find_issues()"
   ]
  },
  {
   "cell_type": "code",
   "execution_count": 17,
   "metadata": {},
   "outputs": [
    {
     "name": "stdout",
     "output_type": "stream",
     "text": [
      "Issues found in images in order of severity in the dataset\n",
      "\n",
      "|    | issue_type       |   num_images |\n",
      "|---:|:-----------------|-------------:|\n",
      "|  0 | dark             |            0 |\n",
      "|  1 | light            |            0 |\n",
      "|  2 | odd_aspect_ratio |            0 |\n",
      "|  3 | low_information  |            0 |\n",
      "|  4 | blurry           |            0 |\n",
      "|  5 | grayscale        |            0 |\n",
      "|  6 | odd_size         |            0 |\n",
      "|  7 | exact_duplicates |            0 |\n",
      "|  8 | near_duplicates  |            0 | \n",
      "\n"
     ]
    }
   ],
   "source": [
    "imagelab.report()"
   ]
  }
 ],
 "metadata": {
  "kernelspec": {
   "display_name": "Python 3 (ipykernel)",
   "language": "python",
   "name": "python3"
  },
  "language_info": {
   "codemirror_mode": {
    "name": "ipython",
    "version": 3
   },
   "file_extension": ".py",
   "mimetype": "text/x-python",
   "name": "python",
   "nbconvert_exporter": "python",
   "pygments_lexer": "ipython3",
   "version": "3.9.19"
  }
 },
 "nbformat": 4,
 "nbformat_minor": 2
}
