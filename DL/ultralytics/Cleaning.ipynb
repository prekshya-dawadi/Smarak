{
 "cells": [
  {
   "cell_type": "code",
   "execution_count": 1,
   "metadata": {},
   "outputs": [],
   "source": [
    "from cleanvision import Imagelab\n",
    "from pathlib import Path\n",
    "\n",
    "import os\n",
    "import glob\n",
    "import json"
   ]
  },
  {
   "cell_type": "code",
   "execution_count": 14,
   "metadata": {},
   "outputs": [],
   "source": [
    "data_path = Path(\"D:/Projects/DL/MonumentDetection/augmentedImages\")"
   ]
  },
  {
   "cell_type": "code",
   "execution_count": 15,
   "metadata": {},
   "outputs": [
    {
     "name": "stdout",
     "output_type": "stream",
     "text": [
      "Reading images from D:/Projects/DL/MonumentDetection/augmentedImages\n"
     ]
    }
   ],
   "source": [
    "imagelab = Imagelab(data_path)"
   ]
  },
  {
   "cell_type": "code",
   "execution_count": 16,
   "metadata": {},
   "outputs": [
    {
     "name": "stdout",
     "output_type": "stream",
     "text": [
      "Checking for dark, light, odd_aspect_ratio, low_information, exact_duplicates, near_duplicates, blurry, grayscale, odd_size images ...\n"
     ]
    },
    {
     "data": {
      "application/vnd.jupyter.widget-view+json": {
       "model_id": "a8cd41c71b3b479d85fc76124f912df1",
       "version_major": 2,
       "version_minor": 0
      },
      "text/plain": [
       "  0%|          | 0/4358 [00:00<?, ?it/s]"
      ]
     },
     "metadata": {},
     "output_type": "display_data"
    },
    {
     "data": {
      "application/vnd.jupyter.widget-view+json": {
       "model_id": "e3a70955c90e443e9b5d9056e8d3caa3",
       "version_major": 2,
       "version_minor": 0
      },
      "text/plain": [
       "  0%|          | 0/4358 [00:00<?, ?it/s]"
      ]
     },
     "metadata": {},
     "output_type": "display_data"
    },
    {
     "name": "stdout",
     "output_type": "stream",
     "text": [
      "Issue checks completed. 0 issues found in the dataset. To see a detailed report of issues found, use imagelab.report().\n"
     ]
    }
   ],
   "source": [
    "imagelab.find_issues()"
   ]
  },
  {
   "cell_type": "code",
   "execution_count": 17,
   "metadata": {
    "scrolled": true
   },
   "outputs": [
    {
     "name": "stdout",
     "output_type": "stream",
     "text": [
      "Issues found in images in order of severity in the dataset\n",
      "\n",
      "|    | issue_type       |   num_images |\n",
      "|---:|:-----------------|-------------:|\n",
      "|  0 | dark             |            0 |\n",
      "|  1 | light            |            0 |\n",
      "|  2 | odd_aspect_ratio |            0 |\n",
      "|  3 | low_information  |            0 |\n",
      "|  4 | blurry           |            0 |\n",
      "|  5 | grayscale        |            0 |\n",
      "|  6 | odd_size         |            0 |\n",
      "|  7 | exact_duplicates |            0 |\n",
      "|  8 | near_duplicates  |            0 | \n",
      "\n"
     ]
    }
   ],
   "source": [
    "imagelab.report()"
   ]
  },
  {
   "cell_type": "markdown",
   "metadata": {},
   "source": [
    "## Ground Truths Checking"
   ]
  },
  {
   "cell_type": "code",
   "execution_count": 3,
   "metadata": {},
   "outputs": [],
   "source": [
    "def normalize_bbox(x_center, y_center, width, height, img_width, img_height):\n",
    "    return [\n",
    "        x_center / img_width,\n",
    "        y_center / img_height,\n",
    "        width / img_width,\n",
    "        height / img_height\n",
    "    ]"
   ]
  },
  {
   "cell_type": "code",
   "execution_count": 4,
   "metadata": {},
   "outputs": [],
   "source": [
    "def check_and_correct_bboxes(label_path, img_width, img_height):\n",
    "    with open(label_path, 'r') as file:\n",
    "        lines = file.readlines()\n",
    "\n",
    "    corrected_bboxes = []\n",
    "    for line in lines:\n",
    "        parts = line.strip().split()\n",
    "        class_id = parts[0]\n",
    "        bbox = list(map(float, parts[1:]))\n",
    "        normalized_bbox = normalize_bbox(*bbox, img_width, img_height)\n",
    "        \n",
    "        if all(0 <= coord <= 1 for coord in normalized_bbox):\n",
    "            corrected_bboxes.append(f\"{class_id} \" + \" \".join(map(str, normalized_bbox)))\n",
    "        else:\n",
    "            print(f\"Out of bounds bbox found and ignored: {bbox}\")\n",
    "\n",
    "    with open(label_path, 'w') as file:\n",
    "        file.write(\"\\n\".join(corrected_bboxes))"
   ]
  },
  {
   "cell_type": "code",
   "execution_count": 5,
   "metadata": {},
   "outputs": [],
   "source": [
    "image_dir = 'path/to/images'\n",
    "label_dir = 'path/to/labels'"
   ]
  },
  {
   "cell_type": "code",
   "execution_count": null,
   "metadata": {},
   "outputs": [],
   "source": [
    "for img_file in glob.glob(os.path.join(image_dir, '*.jpg')):\n",
    "    img_width, img_height = get_image_dimensions(img_file)  # Replace with actual function to get dimensions\n",
    "    label_file = os.path.join(label_dir, os.path.basename(img_file).replace('.jpg', '.txt'))\n",
    "    check_and_correct_bboxes(label_file, img_width, img_height)"
   ]
  },
  {
   "cell_type": "markdown",
   "metadata": {},
   "source": [
    "## Clamping values within bounds"
   ]
  },
  {
   "cell_type": "code",
   "execution_count": 11,
   "metadata": {},
   "outputs": [],
   "source": [
    "labels_dirs = [\"D:/Projects/DL/MonumentDetection/DL/ultralytics/dataset2/train/labels\", \"D:/Projects/DL/MonumentDetection/DL/ultralytics/dataset2/val/labels\"]"
   ]
  },
  {
   "cell_type": "code",
   "execution_count": 12,
   "metadata": {},
   "outputs": [],
   "source": [
    "def clamp(value, min_value=0.0, max_value=1.0):\n",
    "    \"\"\"Clamp a value to stay within min and max bounds.\"\"\"\n",
    "    return max(min_value, min(max_value, value))"
   ]
  },
  {
   "cell_type": "code",
   "execution_count": 13,
   "metadata": {},
   "outputs": [],
   "source": [
    "def normalize_annotations(label_file):\n",
    "    with open(label_file, 'r') as file:\n",
    "        lines = file.readlines()\n",
    "\n",
    "    modified = False\n",
    "    normalized_lines = []\n",
    "\n",
    "    for line in lines:\n",
    "        parts = line.strip().split()\n",
    "        if len(parts) != 5:\n",
    "            continue  # Skip invalid lines\n",
    "        class_id, x_center, y_center, width, height = map(float, parts)\n",
    "\n",
    "        # Clamp the values to be within [0, 1]\n",
    "        x_center = clamp(x_center)\n",
    "        y_center = clamp(y_center)\n",
    "        width = clamp(width)\n",
    "        height = clamp(height)\n",
    "\n",
    "        # Calculate new x_min, x_max, y_min, y_max to check if the bounding box is within the image\n",
    "        x_min = clamp(x_center - width / 2)\n",
    "        x_max = clamp(x_center + width / 2)\n",
    "        y_min = clamp(y_center - height / 2)\n",
    "        y_max = clamp(y_center + height / 2)\n",
    "\n",
    "        # Update x_center, y_center, width, height based on clamped values\n",
    "        x_center = (x_min + x_max) / 2\n",
    "        y_center = (y_min + y_max) / 2\n",
    "        width = x_max - x_min\n",
    "        height = y_max - y_min\n",
    "\n",
    "        normalized_lines.append(f\"{int(class_id)} {x_center} {y_center} {width} {height}\\n\")\n",
    "\n",
    "        if x_center != float(parts[1]) or y_center != float(parts[2]) or width != float(parts[3]) or height != float(parts[4]):\n",
    "            modified = True\n",
    "\n",
    "    if modified:\n",
    "        with open(label_file, 'w') as file:\n",
    "            file.writelines(normalized_lines)"
   ]
  },
  {
   "cell_type": "code",
   "execution_count": 14,
   "metadata": {},
   "outputs": [],
   "source": [
    "def normalize_all_labels(labels_dir):\n",
    "    for label_file in os.listdir(labels_dir):\n",
    "        if label_file.endswith('.txt'):\n",
    "            normalize_annotations(os.path.join(labels_dir, label_file))"
   ]
  },
  {
   "cell_type": "code",
   "execution_count": 15,
   "metadata": {},
   "outputs": [
    {
     "name": "stdout",
     "output_type": "stream",
     "text": [
      "Normalization process completed.\n"
     ]
    }
   ],
   "source": [
    "# Call the function to normalize all labels\n",
    "for labels_dir in labels_dirs:\n",
    "    normalize_all_labels(labels_dir)\n",
    "\n",
    "print(\"Normalization process completed.\")"
   ]
  },
  {
   "cell_type": "code",
   "execution_count": null,
   "metadata": {},
   "outputs": [],
   "source": []
  }
 ],
 "metadata": {
  "kernelspec": {
   "display_name": "Python 3 (ipykernel)",
   "language": "python",
   "name": "python3"
  },
  "language_info": {
   "codemirror_mode": {
    "name": "ipython",
    "version": 3
   },
   "file_extension": ".py",
   "mimetype": "text/x-python",
   "name": "python",
   "nbconvert_exporter": "python",
   "pygments_lexer": "ipython3",
   "version": "3.9.19"
  }
 },
 "nbformat": 4,
 "nbformat_minor": 4
}
