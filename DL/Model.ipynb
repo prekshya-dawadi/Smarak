{
 "cells": [
  {
   "cell_type": "code",
   "execution_count": 9,
   "id": "38121443-a5d6-4c86-a54b-d8ddff6fa289",
   "metadata": {},
   "outputs": [
    {
     "data": {
      "text/plain": [
       "'D:\\\\Projects\\\\DL\\\\MonumentDetection\\\\DL'"
      ]
     },
     "execution_count": 9,
     "metadata": {},
     "output_type": "execute_result"
    }
   ],
   "source": [
    "os.getcwd()"
   ]
  },
  {
   "cell_type": "code",
   "execution_count": 176,
   "id": "cfa141a4-a900-4d62-b14e-dc21511dffe8",
   "metadata": {},
   "outputs": [],
   "source": [
    "import os\n",
    "import tensorflow as tf\n",
    "import numpy as np\n",
    "from PIL import Image\n",
    "from pathlib import Path\n",
    "import math\n",
    "import keras_cv\n",
    "import matplotlib.pyplot as plt\n",
    "import keras_cv.visualization as visualization\n",
    "import cv2\n",
    "import keras\n",
    "from keras_cv import models, losses, callbacks\n",
    "import keras_cv.losses as losses\n",
    "from keras_cv.models import YOLOV8Detector\n",
    "import matplotlib.patches as patches\n",
    "from tensorflow import data as tf_data\n",
    "import tensorflow_datasets as tfds\n",
    "import keras\n",
    "import keras_cv\n",
    "import numpy as np\n",
    "from keras_cv import bounding_box\n",
    "import os\n",
    "from keras_cv import visualization\n",
    "import tqdm"
   ]
  },
  {
   "cell_type": "markdown",
   "id": "6d5f652e-2981-402a-bb39-daef954b47a7",
   "metadata": {},
   "source": [
    "## Visualization"
   ]
  },
  {
   "cell_type": "code",
   "execution_count": 177,
   "id": "792411ba-376d-4537-8857-2ea473b2cffe",
   "metadata": {},
   "outputs": [],
   "source": [
    "IMAGE_SIZE = (640, 640)  # Input size for YOLOv8\n",
    "BATCH_SIZE = 3  # Number of samples per batch\n",
    "NUM_CLASSES = 1  # Example number of classes, adjust as needed\n",
    "BOUNDING_BOX_FORMAT = \"xywh\"  # YOLO bounding box format\n",
    "PAD_TO_ASPECT_RATIO = True  # To maintain aspect ratio when resizing"
   ]
  },
  {
   "cell_type": "code",
   "execution_count": 178,
   "id": "69756c5b-db71-4a0d-8313-7b6ca82c4a30",
   "metadata": {},
   "outputs": [],
   "source": [
    "# Paths to the datasets\n",
    "TRAIN_IMAGES_DIR = Path(\"dataset/train/images/\")\n",
    "TRAIN_LABELS_DIR = Path(\"dataset/train/labels/\")\n",
    "\n",
    "VAL_IMAGES_DIR = Path(\"dataset/val/images/\")\n",
    "VAL_LABELS_DIR = Path(\"dataset/val/labels/\")"
   ]
  },
  {
   "cell_type": "code",
   "execution_count": 179,
   "id": "ee882b3d-88c7-4758-a8a9-f79cff9fea6e",
   "metadata": {},
   "outputs": [
    {
     "name": "stdout",
     "output_type": "stream",
     "text": [
      "(408, 612, 3)\n",
      "(338, 509, 3)\n",
      "(960, 545, 3)\n",
      "(612, 408, 3)\n",
      "(408, 612, 3)\n",
      "(413, 612, 3)\n",
      "(612, 408, 3)\n",
      "(612, 408, 3)\n",
      "(406, 612, 3)\n",
      "(612, 343, 3)\n",
      "(360, 640, 3)\n",
      "(612, 408, 3)\n",
      "(407, 612, 3)\n",
      "(667, 1000, 3)\n",
      "(612, 408, 3)\n",
      "(408, 612, 3)\n",
      "(612, 476, 3)\n",
      "(612, 408, 3)\n",
      "(612, 392, 3)\n",
      "(408, 612, 3)\n",
      "(612, 408, 3)\n",
      "(400, 612, 3)\n",
      "(360, 540, 3)\n",
      "(330, 660, 3)\n",
      "(612, 416, 3)\n",
      "(408, 612, 3)\n",
      "(612, 392, 3)\n",
      "(408, 612, 3)\n",
      "(338, 507, 3)\n",
      "(612, 398, 3)\n",
      "(612, 408, 3)\n",
      "(612, 408, 3)\n",
      "(612, 408, 3)\n",
      "(408, 612, 3)\n",
      "(612, 408, 3)\n",
      "(612, 408, 3)\n",
      "(408, 612, 3)\n",
      "(612, 408, 3)\n",
      "(408, 612, 3)\n",
      "(720, 960, 3)\n",
      "(339, 509, 3)\n",
      "(612, 413, 3)\n",
      "(360, 640, 3)\n",
      "(408, 612, 3)\n",
      "(360, 458, 3)\n",
      "(408, 612, 3)\n",
      "(490, 612, 3)\n",
      "(612, 406, 3)\n",
      "(612, 408, 3)\n",
      "(459, 612, 3)\n",
      "(338, 509, 3)\n",
      "(408, 612, 3)\n",
      "(408, 612, 3)\n",
      "(640, 516, 3)\n",
      "(400, 612, 3)\n",
      "(339, 509, 3)\n",
      "(408, 612, 3)\n",
      "(428, 612, 3)\n",
      "(612, 408, 3)\n",
      "(612, 408, 3)\n",
      "(612, 392, 3)\n",
      "(612, 591, 3)\n",
      "(408, 612, 3)\n",
      "(612, 408, 3)\n",
      "(612, 408, 3)\n",
      "(408, 612, 3)\n",
      "(438, 612, 3)\n",
      "(667, 1000, 3)\n",
      "(612, 408, 3)\n",
      "(408, 612, 3)\n",
      "(612, 406, 3)\n",
      "(360, 540, 3)\n",
      "(900, 600, 3)\n",
      "(360, 539, 3)\n",
      "(408, 612, 3)\n",
      "(344, 612, 3)\n",
      "(612, 464, 3)\n",
      "(612, 408, 3)\n",
      "(459, 612, 3)\n",
      "(408, 612, 3)\n"
     ]
    }
   ],
   "source": [
    "# Assuming TRAIN_IMAGES_DIR is a directory containing image file paths\n",
    "for filename in os.listdir(TRAIN_IMAGES_DIR):\n",
    "    image_path = TRAIN_IMAGES_DIR / filename  # Construct the full image path\n",
    "    if not image_path.exists():\n",
    "        print(f\"File does not exist: {image_path}\")\n",
    "        continue\n",
    "\n",
    "    image = cv2.imread(str(image_path))  # Convert to string if necessary for cv2.imread\n",
    "    \n",
    "    if image is None:\n",
    "        print(f\"Failed to read image: {image_path}\")\n",
    "    else:\n",
    "        print(image.shape)\n"
   ]
  },
  {
   "cell_type": "code",
   "execution_count": 180,
   "id": "e6680462-dfd2-4fb5-ae1d-5a65f384e102",
   "metadata": {},
   "outputs": [],
   "source": [
    "# Function to load YOLO annotations\n",
    "def load_yolo_annotations(label_path, image_size):\n",
    "    annotations = []\n",
    "    with open(label_path, 'r') as file:\n",
    "        for line in file:\n",
    "            parts = line.strip().split(\" \")\n",
    "            if len(parts) != 5:\n",
    "                continue  # Skip lines that don't match expected format\n",
    "\n",
    "            class_id = int(parts[0])\n",
    "            x_center = float(parts[1])\n",
    "            y_center = float(parts[2])\n",
    "            width = float(parts[3])\n",
    "            height = float(parts[4])\n",
    "\n",
    "            # Convert normalized \"xywh\" to pixel-based \"xyxy\" format\n",
    "            x_min = (x_center - width / 2) * image_size[0]\n",
    "            y_min = (y_center - height / 2) * image_size[1]\n",
    "            x_max = (x_center + width / 2) * image_size[0]\n",
    "            y_max = (y_center + height / 2) * image_size[1]\n",
    "\n",
    "            annotations.append([x_min, y_min, x_max, y_max, class_id])\n",
    "\n",
    "    return np.array(annotations, dtype=np.float32)"
   ]
  },
  {
   "cell_type": "code",
   "execution_count": 181,
   "id": "3cb9598a-87bd-4e6e-bc15-fb359fa7d245",
   "metadata": {},
   "outputs": [],
   "source": [
    "# Function to load image and corresponding annotations\n",
    "def load_sample(image_path, labels_dir):\n",
    "    image_path_str = tf.keras.backend.get_value(image_path).decode(\"utf-8\")  # Convert tensor to string\n",
    "    image = Image.open(image_path_str).resize(IMAGE_SIZE)  # Resize to 640x640\n",
    "    image = np.array(image) / 255.0  # Normalize\n",
    "    \n",
    "    # Construct the label path and validate its existence\n",
    "    image_stem = Path(image_path_str).stem\n",
    "    label_path = os.path.join(labels_dir, image_stem + \".txt\")\n",
    "\n",
    "    if not os.path.isfile(label_path):\n",
    "        raise FileNotFoundError(f\"Label file not found: {label_path}\")\n",
    "\n",
    "    # Load YOLO annotations\n",
    "    annotations = load_yolo_annotations(label_path, IMAGE_SIZE)  # Load annotations\n",
    "    return image, annotations"
   ]
  },
  {
   "cell_type": "code",
   "execution_count": 390,
   "id": "6054bcf6-104d-471c-9677-629910b78576",
   "metadata": {},
   "outputs": [],
   "source": [
    "# Function to resize image for inference\n",
    "def inference_resizing(image, annotations):\n",
    "    print(f\"Image shape: {image.shape}, Annotations: {annotations}\")\n",
    "    resized_image = tf.image.resize(image, [640, 640])\n",
    "    return resized_image, annotations"
   ]
  },
  {
   "cell_type": "code",
   "execution_count": 391,
   "id": "26b53297-b762-4c3c-b138-3c4e4fbc9249",
   "metadata": {},
   "outputs": [],
   "source": [
    "# Function to count elements in a dataset\n",
    "def count_elements(dataset):\n",
    "    return dataset.cardinality().numpy()\n",
    "\n",
    "# Check if the dataset is empty\n",
    "def is_dataset_empty(dataset):\n",
    "    return count_elements(dataset) <= 0"
   ]
  },
  {
   "cell_type": "code",
   "execution_count": 392,
   "id": "a5dffbdd-4c1f-44b6-83f6-0814bdad0af3",
   "metadata": {},
   "outputs": [],
   "source": [
    "# Function to separate class IDs from bounding box coordinates\n",
    "def extract_bounding_box_info(bounding_boxes_raw):\n",
    "    # Check if the last dimension has five elements\n",
    "    if bounding_boxes_raw.shape[-1] == 5:\n",
    "        # Extract the class ID (last element) and bounding box coordinates\n",
    "        class_ids = bounding_boxes_raw[..., -1]  # The last element is the class ID\n",
    "        bounding_boxes = bounding_boxes_raw[..., :-1]  # The rest is the bounding box coordinates\n",
    "    else:\n",
    "        raise ValueError(f\"Unexpected bounding box shape: {bounding_boxes_raw.shape}\")\n",
    "    return bounding_boxes, class_ids"
   ]
  },
  {
   "cell_type": "code",
   "execution_count": 393,
   "id": "2d728cb6-0d48-4513-aeeb-f5ab25b53bb2",
   "metadata": {},
   "outputs": [],
   "source": [
    "# Function to normalize image data\n",
    "def normalize_image_data(image):\n",
    "    print(f\"Original image shape: {image.shape}\")  # Debug print\n",
    "    # Convert TensorFlow tensor to NumPy array\n",
    "    image = image.numpy()  # Explicit conversion\n",
    "    # If data is in float format, scale to [0, 255]\n",
    "    if image.dtype == np.float32 or image.dtype == np.float64:\n",
    "        image = (image * 255).astype(np.uint8)  # Scale to [0, 255]\n",
    "    print(f\"Normalized image shape: {image.shape}\")  # Debug print\n",
    "    return image"
   ]
  },
  {
   "cell_type": "code",
   "execution_count": 394,
   "id": "579c499c-da86-4bfe-a6b9-e1dfd4b3d8a6",
   "metadata": {},
   "outputs": [],
   "source": [
    "# Function to convert from BGR to RGB if needed\n",
    "def ensure_rgb_format(image):\n",
    "    # If the image appears incorrect, try converting BGR to RGB\n",
    "    if image.shape[-1] == 3:  # Assuming three channels (RGB or BGR)\n",
    "        return image[..., ::-1]  # Reverse the color channels to convert BGR to RGB\n",
    "    return image\n"
   ]
  },
  {
   "cell_type": "code",
   "execution_count": 395,
   "id": "ca6ada37-47ce-4d27-8138-4027ad1baaa1",
   "metadata": {},
   "outputs": [],
   "source": [
    "def filter_empty_annotations(image, annotations):\n",
    "    # Check if all annotation values are equal to -1\n",
    "    is_empty = tf.reduce_all(tf.equal(annotations, -1), axis=-1)\n",
    "    # Return True if any annotation is not empty, False otherwise\n",
    "    return tf.math.logical_not(tf.reduce_all(is_empty))"
   ]
  },
  {
   "cell_type": "code",
   "execution_count": 396,
   "id": "cafe9096-22f6-41c5-81e4-57ad239480c8",
   "metadata": {},
   "outputs": [],
   "source": [
    "def pad_annotations(image, annotations, max_annotations=5):\n",
    "    print(f\"Image shape: {image.shape}, Annotations: {annotations}\")  # Debug print\n",
    "    num_annotations = tf.shape(annotations)[0]\n",
    "    annotations = tf.reshape(annotations, [num_annotations, 5])\n",
    "\n",
    "    padding = [[0, max_annotations - num_annotations], [0, 0]]\n",
    "    annotations = tf.pad(annotations, padding, constant_values=-1)\n",
    "\n",
    "    boxes = annotations[:, :4]\n",
    "    classes = tf.expand_dims(annotations[:, 4], axis=-1)\n",
    "    \n",
    "    return image, {'boxes': boxes, 'classes': classes}"
   ]
  },
  {
   "cell_type": "code",
   "execution_count": 397,
   "id": "c29aff6b-e9b5-4cbe-b980-908f35af6efc",
   "metadata": {},
   "outputs": [],
   "source": [
    "def data_loader(images_dir, labels_dir, batch_size):\n",
    "    image_paths = list(Path(images_dir).rglob(\"*.jpg\")) + list(Path(images_dir).rglob(\"*.png\"))\n",
    "\n",
    "    if len(image_paths) == 0:\n",
    "        raise ValueError(f\"No images found in {images_dir}. Check your dataset path.\")\n",
    "\n",
    "    dataset = tf.data.Dataset.from_tensor_slices([str(p) for p in image_paths])\n",
    "\n",
    "    def load_sample_with_shape(image_path):\n",
    "        image, annotations = tf.py_function(\n",
    "            lambda y: load_sample(y, labels_dir),\n",
    "            [image_path],\n",
    "            [tf.float32, tf.float32]\n",
    "        )\n",
    "        image.set_shape(IMAGE_SIZE + (3,))\n",
    "        annotations.set_shape([None, 5])\n",
    "        return image, annotations\n",
    "\n",
    "    dataset = dataset.map(load_sample_with_shape, num_parallel_calls=tf.data.AUTOTUNE)\n",
    "\n",
    "    def resize_with_shape(image, annotations):\n",
    "        image, annotations = tf.py_function(\n",
    "            func=lambda img, ann: inference_resizing(img, ann),\n",
    "            inp=[image, annotations],\n",
    "            Tout=[tf.float32, tf.float32]\n",
    "        )\n",
    "        image.set_shape([640, 640, 3])\n",
    "        annotations.set_shape([None, 5])\n",
    "        return image, annotations\n",
    "\n",
    "    dataset = dataset.map(resize_with_shape, num_parallel_calls=tf.data.AUTOTUNE)\n",
    "\n",
    "    def normalize_with_shape(image, annotations):\n",
    "        image, annotations = tf.py_function(\n",
    "            func=lambda img, ann: (normalize_image_data(img), ann),\n",
    "            inp=[image, annotations],\n",
    "            Tout=[tf.float32, tf.float32]\n",
    "        )\n",
    "        image.set_shape([640, 640, 3])\n",
    "        annotations.set_shape([None, 5])\n",
    "        return image, annotations\n",
    "\n",
    "    dataset = dataset.map(normalize_with_shape, num_parallel_calls=tf.data.AUTOTUNE)\n",
    "\n",
    "    def ensure_rgb_with_shape(image, annotations):\n",
    "        image, annotations = tf.py_function(\n",
    "            func=lambda img, ann: (ensure_rgb_format(img), ann),\n",
    "            inp=[image, annotations],\n",
    "            Tout=[tf.float32, tf.float32]\n",
    "        )\n",
    "        image.set_shape([640, 640, 3])\n",
    "        annotations.set_shape([None, 5])\n",
    "        return image, annotations\n",
    "\n",
    "    dataset = dataset.map(ensure_rgb_with_shape, num_parallel_calls=tf.data.AUTOTUNE)\n",
    "\n",
    "    dataset = dataset.filter(lambda image, annotations: tf.py_function(\n",
    "        func=filter_empty_annotations,\n",
    "        inp=[image, annotations],\n",
    "        Tout=tf.bool)\n",
    "    )\n",
    "\n",
    "    dataset = dataset.map(lambda image, annotations: pad_annotations(image, annotations))\n",
    "\n",
    "    dataset = dataset.batch(batch_size, drop_remainder=False).prefetch(tf.data.AUTOTUNE)\n",
    "\n",
    "    return dataset"
   ]
  },
  {
   "cell_type": "code",
   "execution_count": 432,
   "id": "b7b72f97-5958-4bac-9887-a37bd090f3ad",
   "metadata": {},
   "outputs": [
    {
     "name": "stdout",
     "output_type": "stream",
     "text": [
      "Image shape: (640, 640, 3), Annotations: [[179.3936    3.87872 432.4848  864.9699    0.     ]]\n",
      "Image shape: (640, 640, 3), Annotations: [[ 22.63264 113.6096  226.32608 340.8288    0.     ]]\n",
      "Original image shape: (640, 640, 3)\n",
      "Original image shape: (640, 640, 3)\n",
      "Normalized image shape: (640, 640, 3)\n",
      "Normalized image shape: (640, 640, 3)\n",
      "Image shape: (640, 640, 3), Annotations: [[ 24.66016   4.66624 573.064   325.33313   0.     ]]\n",
      "Image shape: (640, 640, 3), Annotations: [[219.60768  89.41184 387.97375 581.96094   0.     ]]\n",
      "Image shape: (640, 640, 3), Annotations: [[ 21.96096   7.32    607.0592  404.7056    0.     ]]\n",
      "Image shape: (640, 640, 3), Annotations: [[  6.27456   3.09952 638.9542  946.8282    0.     ]]\n",
      "Image shape: (640, 640, 3), Annotations: [[ 78.43136   7.32    619.60767 413.0717    0.     ]]\n",
      "Image shape: (640, 640, 3), Annotations: [[ 95.68608  15.6864  487.84286 325.2288    0.     ]]\n",
      "Original image shape: (640, 640, 3)\n",
      "Original image shape: (640, 640, 3)\n",
      "Normalized image shape: (640, 640, 3)\n",
      "Normalized image shape: (640, 640, 3)\n",
      "Original image shape: (640, 640, 3)\n",
      "Original image shape: (640, 640, 3)\n",
      "Normalized image shape: (640, 640, 3)\n",
      "Normalized image shape: (640, 640, 3)\n",
      "Original image shape: (640, 640, 3)\n",
      "Normalized image shape: (640, 640, 3)\n",
      "Image shape: (640, 640, 3), Annotations: [[269.0003   26.66688 394.      700.4448    0.     ]]\n",
      "Image shape: (640, 640, 3), Annotations: [[170.98016  15.6864  495.68607 330.4576    0.     ]]\n",
      "Original image shape: (640, 640, 3)\n",
      "Normalized image shape: (640, 640, 3)\n",
      "Image shape: (640, 640, 3), Annotations: [[138.07584  94.11744 557.9011  312.67935   0.     ]]\n",
      "Image shape: (640, 640, 3), Annotations: [[ 20.9152  130.83711 215.42528 324.72897   0.     ]]\n",
      "Image shape: (640, 640, 3), Annotations: [[ 79.328    10.4576  588.90753 458.03903   0.     ]]\n",
      "Image shape: (640, 640, 3), Annotations: [[169.41151  15.68672 564.7056  376.47073   0.     ]]\n",
      "Original image shape: (640, 640, 3)\n",
      "Normalized image shape: (640, 640, 3)\n",
      "Original image shape: (640, 640, 3)\n",
      "Original image shape: (640, 640, 3)\n",
      "Normalized image shape: (640, 640, 3)\n",
      "Image shape: (640, 640, 3), Annotations: [[158.95456   6.28992 542.7453  816.11774   0.     ]]\n",
      "Normalized image shape: (640, 640, 3)\n",
      "Image shape: (640, 640, 3), Annotations: [[314.24    45.0976 599.04   898.1114   0.    ]]\n",
      "Image shape: (640, 640, 3), Annotations: [[ 21.96096 140.13055 249.41183 166.27457   0.     ]]\n",
      "Image shape: (640, 640, 3), Annotations: [[ 44.61536  13.59456 613.84607 417.25473   0.     ]]\n",
      "Original image shape: (640, 640, 3)\n",
      "Normalized image shape: (640, 640, 3)\n",
      "Image shape: (640, 640, 3), Annotations: [[ 22.85728  10.45728 610.6122  391.11072   0.     ]]\n"
     ]
    },
    {
     "name": "stderr",
     "output_type": "stream",
     "text": [
      "Clipping input data to the valid range for imshow with RGB data ([0..1] for floats or [0..255] for integers).\n"
     ]
    },
    {
     "name": "stdout",
     "output_type": "stream",
     "text": [
      "Image shape: (640, 640, 3), Annotations: [[193.18529   5.33344 480.      720.0003    0.     ]]\n",
      "Original image shape: (640, 640, 3)\n",
      "Image shape: (640, 640, 3), Annotations: [[353.464   185.09824 437.12415 655.6864    0.     ]]\n",
      "Image shape: (640, 640, 3), Annotations: [[109.80416  41.82976 580.39233 386.928     0.     ]]\n",
      "Image shape: (640, 640, 3), Annotations: [[  6.27456  12.8     624.3136  955.2       0.     ]]\n",
      "Normalized image shape: (640, 640, 3)\n",
      "Image shape: (640, 640, 3), Annotations: [[ 23.00672  47.05888 160.      240.00032   0.     ]]\n",
      "Original image shape: (640, 640, 3)\n",
      "Original image shape: (640, 640, 3)\n",
      "Normalized image shape: (640, 640, 3)\n",
      "Normalized image shape: (640, 640, 3)\n",
      "Original image shape: (640, 640, 3)\n",
      "Skipping invalid bounding box: boxes\n",
      "Skipping invalid bounding box: classes\n",
      "Image shape: (640, 640, 3), Annotations: [[366.01312 197.64703 446.536   669.80383   0.     ]]\n",
      "Normalized image shape: (640, 640, 3)\n",
      "Original image shape: (640, 640, 3)\n",
      "Normalized image shape: (640, 640, 3)\n",
      "Image shape: (640, 640, 3), Annotations: [[220.65376  12.54912 430.8496  646.27454   0.     ]]\n",
      "Original image shape: (640, 640, 3)\n",
      "Normalized image shape: (640, 640, 3)\n",
      "Original image shape: (640, 640, 3)\n",
      "Image shape: (640, 640, 3), Annotations: [[234.79263   1.89376 459.48703 689.2307    0.     ]]\n",
      "Normalized image shape: (640, 640, 3)\n",
      "Original image shape: (640, 640, 3)\n",
      "Original image shape: (640, 640, 3)\n",
      "Normalized image shape: (640, 640, 3)\n",
      "Image shape: (640, 640, 3), Annotations: [[ 22.85696   3.13696 636.73474 407.84286   0.     ]]\n",
      "Normalized image shape: (640, 640, 3)\n",
      "Image shape: (640, 640, 3), Annotations: [[ 45.49024 106.66688 600.7843  400.5229    0.     ]]\n",
      "Original image shape: (640, 640, 3)\n",
      "Image shape: (640, 640, 3), Annotations: [[139.60768 176.73216 490.98047 327.3203    0.     ]]\n",
      "Original image shape: (640, 640, 3)\n",
      "Normalized image shape: (640, 640, 3)\n",
      "Normalized image shape: (640, 640, 3)\n",
      "Image shape: (640, 640, 3), Annotations: [[ 56.28128  38.6928  623.9197  405.75137   0.     ]]\n",
      "Image shape: (640, 640, 3), Annotations: [[  0.        3.13696 640.      426.66656   0.     ]]\n",
      "Original image shape: (640, 640, 3)\n",
      "Normalized image shape: (640, 640, 3)\n"
     ]
    },
    {
     "name": "stderr",
     "output_type": "stream",
     "text": [
      "D:\\miniconda\\envs\\object_detection\\Lib\\site-packages\\matplotlib\\cm.py:494: RuntimeWarning: invalid value encountered in cast\n",
      "  xx = (xx * 255).astype(np.uint8)\n"
     ]
    },
    {
     "data": {
      "image/png": "[encoded data removed]",
      "text/plain": [
       "<Figure size 640x480 with 1 Axes>"
      ]
     },
     "metadata": {},
     "output_type": "display_data"
    },
    {
     "name": "stdout",
     "output_type": "stream",
     "text": [
      "Image shape: (640, 640, 3), Annotations: [[279.21567 134.90176 360.78433 541.17633   0.     ]]\n",
      "Original image shape: (640, 640, 3)\n",
      "Skipping invalid bounding box: boxes\n",
      "Skipping invalid bounding box: classes\n",
      "Image shape: (640, 640, 3), Annotations: [[  4.70592   1.04544 638.43134 425.6208    0.     ]]\n",
      "Normalized image shape: (640, 640, 3)\n",
      "Original image shape: (640, 640, 3)\n",
      "Image shape: (640, 640, 3), Annotations: [[ 15.68608  13.59488 558.431   372.288     0.     ]]\n",
      "Normalized image shape: (640, 640, 3)\n",
      "Original image shape: (640, 640, 3)\n"
     ]
    },
    {
     "name": "stderr",
     "output_type": "stream",
     "text": [
      "Clipping input data to the valid range for imshow with RGB data ([0..1] for floats or [0..255] for integers).\n"
     ]
    },
    {
     "name": "stdout",
     "output_type": "stream",
     "text": [
      "Normalized image shape: (640, 640, 3)\n",
      "Image shape: (640, 640, 3), Annotations: [[239.47713  20.39232 528.1043  792.1568    0.     ]]\n",
      "Image shape: (640, 640, 3), Annotations: [[  6.27424   2.09184 570.98016 380.65375   0.     ]]\n",
      "Original image shape: (640, 640, 3)\n",
      "Original image shape: (640, 640, 3)\n",
      "Normalized image shape: (640, 640, 3)\n",
      "Image shape: (640, 640, 3), Annotations: [[207.05888   6.27424 456.9936  685.49023   0.     ]]\n",
      "Normalized image shape: (640, 640, 3)\n",
      "Original image shape: (640, 640, 3)\n",
      "Original image shape: (640, 640, 3)\n",
      "Normalized image shape: (640, 640, 3)\n",
      "Normalized image shape: (640, 640, 3)\n"
     ]
    },
    {
     "data": {
      "image/png": "[encoded data removed]",
      "text/plain": [
       "<Figure size 640x480 with 1 Axes>"
      ]
     },
     "metadata": {},
     "output_type": "display_data"
    },
    {
     "name": "stderr",
     "output_type": "stream",
     "text": [
      "Clipping input data to the valid range for imshow with RGB data ([0..1] for floats or [0..255] for integers).\n"
     ]
    },
    {
     "name": "stdout",
     "output_type": "stream",
     "text": [
      "Image shape: (640, 640, 3), Annotations: [[1.3202336e+02 3.1999999e-04 6.3874274e+02 9.5905634e+02 0.0000000e+00]]\n",
      "Image shape: (640, 640, 3), Annotations: [[180.       65.77792 572.6669  763.55585   0.     ]]\n",
      "Skipping invalid bounding box: boxes\n",
      "Skipping invalid bounding box: classes\n",
      "Image shape: (640, 640, 3), Annotations: [[ 52.688    19.86944 557.86945 376.47104   0.     ]]\n",
      "Original image shape: (640, 640, 3)Original image shape: (640, 640, 3)\n",
      "\n",
      "Original image shape: (640, 640, 3)\n",
      "Normalized image shape: (640, 640, 3)\n",
      "Normalized image shape: (640, 640, 3)\n",
      "Normalized image shape: (640, 640, 3)\n",
      "Image shape: (640, 640, 3), Annotations: [[136.99329   9.41184 270.84927 406.27457   0.     ]]\n",
      "Image shape: (640, 640, 3), Annotations: [[180.00032   8.88896 426.0003  757.3331    0.     ]]\n",
      "Original image shape: (640, 640, 3)\n",
      "Normalized image shape: (640, 640, 3)\n",
      "Original image shape: (640, 640, 3)\n",
      "Normalized image shape: (640, 640, 3)\n",
      "Image shape: (640, 640, 3), Annotations: [[107.59808  26.66688 395.45856 503.11105   0.     ]]\n",
      "Image shape: (640, 640, 3), Annotations: [[135.94753   6.27424 638.9542  958.431     0.     ]]\n",
      "Original image shape: (640, 640, 3)\n",
      "Normalized image shape: (640, 640, 3)\n"
     ]
    },
    {
     "data": {
      "image/png": "[encoded data removed]",
      "text/plain": [
       "<Figure size 640x480 with 1 Axes>"
      ]
     },
     "metadata": {},
     "output_type": "display_data"
    },
    {
     "name": "stdout",
     "output_type": "stream",
     "text": [
      "Original image shape: (640, 640, 3)\n",
      "Image shape: (640, 640, 3), Annotations: [[189.28128 190.69344 320.      399.67328   0.     ]]\n",
      "Original image shape: (640, 640, 3)\n",
      "Normalized image shape: (640, 640, 3)\n",
      "Normalized image shape: (640, 640, 3)\n",
      "Skipping invalid bounding box: boxes\n",
      "Skipping invalid bounding box: classes\n"
     ]
    },
    {
     "name": "stderr",
     "output_type": "stream",
     "text": [
      "Clipping input data to the valid range for imshow with RGB data ([0..1] for floats or [0..255] for integers).\n"
     ]
    },
    {
     "name": "stdout",
     "output_type": "stream",
     "text": [
      "Image shape: (640, 640, 3), Annotations: [[ 43.92128  15.68608 597.6467  398.43103   0.     ]]\n",
      "Image shape: (640, 640, 3), Annotations: [[ 1.1034560e+01 -3.1999999e-04  6.2896545e+02  4.1725473e+02\n",
      "   0.0000000e+00]]\n",
      "Original image shape: (640, 640, 3)\n",
      "Original image shape: (640, 640, 3)\n",
      "Original image shape: (640, 640, 3)\n",
      "Normalized image shape: (640, 640, 3)\n",
      "Normalized image shape: (640, 640, 3)\n",
      "Normalized image shape: (640, 640, 3)\n",
      "Image shape: (640, 640, 3), Annotations: [[118.16992 105.96928 497.7776  663.7037    0.     ]]\n",
      "Image shape: (640, 640, 3), Annotations: [[100.58944  34.08256 290.45184 437.39648   0.     ]]\n",
      "Original image shape: (640, 640, 3)\n",
      "Image shape: (640, 640, 3), Annotations: [[192.41792  10.98016 392.1568  588.2352    0.     ]]\n",
      "Normalized image shape: (640, 640, 3)\n"
     ]
    },
    {
     "data": {
      "image/png": "[encoded data removed]",
      "text/plain": [
       "<Figure size 640x480 with 1 Axes>"
      ]
     },
     "metadata": {},
     "output_type": "display_data"
    },
    {
     "name": "stderr",
     "output_type": "stream",
     "text": [
      "Clipping input data to the valid range for imshow with RGB data ([0..1] for floats or [0..255] for integers).\n"
     ]
    },
    {
     "name": "stdout",
     "output_type": "stream",
     "text": [
      "Original image shape: (640, 640, 3)\n",
      "Image shape: (640, 640, 3), Annotations: [[357.64703  10.98048 581.43774 872.1568    0.     ]]\n",
      "Skipping invalid bounding box: boxes\n",
      "Skipping invalid bounding box: classes\n",
      "Original image shape: (640, 640, 3)\n",
      "Normalized image shape: (640, 640, 3)\n",
      "Normalized image shape: (640, 640, 3)\n",
      "Image shape: (640, 640, 3), Annotations: [[  7.44192  76.00032 637.51935 514.0003    0.     ]]\n",
      "Image shape: (640, 640, 3), Annotations: [[170.45792  84.8     374.3792  572.8       0.     ]]Original image shape: (640, 640, 3)\n",
      "\n",
      "Normalized image shape: (640, 640, 3)\n"
     ]
    },
    {
     "data": {
      "image/png": "[encoded data removed]",
      "text/plain": [
       "<Figure size 640x480 with 1 Axes>"
      ]
     },
     "metadata": {},
     "output_type": "display_data"
    },
    {
     "name": "stdout",
     "output_type": "stream",
     "text": [
      "Original image shape: (640, 640, 3)\n",
      "Image shape: (640, 640, 3), Annotations: [[157.17088   1.88768 436.30624 655.103     0.     ]]\n",
      "Skipping invalid bounding box: boxes\n",
      "Skipping invalid bounding box: classes\n",
      "Normalized image shape: (640, 640, 3)\n",
      "Original image shape: (640, 640, 3)\n",
      "Normalized image shape: (640, 640, 3)\n",
      "Image shape: (640, 640, 3), Annotations: [[361.83008  10.9808  572.02594 858.03937   0.     ]]\n"
     ]
    },
    {
     "name": "stderr",
     "output_type": "stream",
     "text": [
      "Clipping input data to the valid range for imshow with RGB data ([0..1] for floats or [0..255] for integers).\n"
     ]
    },
    {
     "name": "stdout",
     "output_type": "stream",
     "text": [
      "Image shape: (640, 640, 3), Annotations: [[222.74529  10.46752 467.4512  668.4112    0.     ]]Original image shape: (640, 640, 3)\n",
      "\n",
      "Normalized image shape: (640, 640, 3)\n"
     ]
    },
    {
     "data": {
      "image/png": "[encoded data removed]",
      "text/plain": [
       "<Figure size 640x480 with 1 Axes>"
      ]
     },
     "metadata": {},
     "output_type": "display_data"
    },
    {
     "name": "stdout",
     "output_type": "stream",
     "text": [
      "Image shape: (640, 640, 3), Annotations: [[ 79.99968  20.91488 583.5293  389.0192    0.     ]]\n",
      "Original image shape: (640, 640, 3)\n",
      "Normalized image shape: (640, 640, 3)\n",
      "Skipping invalid bounding box: boxes\n",
      "Skipping invalid bounding box: classes\n",
      "Image shape: (640, 640, 3), Annotations: [[ 65.88256  20.91488 586.66656 391.11072   0.     ]]\n",
      "Original image shape: (640, 640, 3)\n"
     ]
    },
    {
     "name": "stderr",
     "output_type": "stream",
     "text": [
      "Clipping input data to the valid range for imshow with RGB data ([0..1] for floats or [0..255] for integers).\n"
     ]
    },
    {
     "name": "stdout",
     "output_type": "stream",
     "text": [
      "Normalized image shape: (640, 640, 3)\n",
      "Image shape: (640, 640, 3), Annotations: [[ 1.9591999e+01 -3.1999999e-04  6.3836768e+02  4.0888864e+02\n",
      "   0.0000000e+00]]\n",
      "Original image shape: (640, 640, 3)\n",
      "Normalized image shape: (640, 640, 3)\n"
     ]
    },
    {
     "data": {
      "image/png": "[encoded data removed]",
      "text/plain": [
       "<Figure size 640x480 with 1 Axes>"
      ]
     },
     "metadata": {},
     "output_type": "display_data"
    },
    {
     "name": "stdout",
     "output_type": "stream",
     "text": [
      "Original image shape: (640, 640, 3)\n",
      "Image shape: (640, 640, 3), Annotations: [[ 33.56992  15.68608 629.17053 607.5818    0.     ]]\n",
      "Normalized image shape: (640, 640, 3)\n",
      "Original image shape: (640, 640, 3)\n",
      "Image shape: (640, 640, 3), Annotations: [[232.15712   0.      467.4512  701.17633   0.     ]]\n",
      "Skipping invalid bounding box: boxes\n",
      "Skipping invalid bounding box: classes\n",
      "Normalized image shape: (640, 640, 3)\n",
      "Original image shape: (640, 640, 3)\n"
     ]
    },
    {
     "name": "stderr",
     "output_type": "stream",
     "text": [
      "Clipping input data to the valid range for imshow with RGB data ([0..1] for floats or [0..255] for integers).\n"
     ]
    },
    {
     "name": "stdout",
     "output_type": "stream",
     "text": [
      "Image shape: (640, 640, 3), Annotations: [[100.392    47.05888 459.608   306.40543   0.     ]]Normalized image shape: (640, 640, 3)\n",
      "\n"
     ]
    },
    {
     "data": {
      "image/png": "[encoded data removed]",
      "text/plain": [
       "<Figure size 640x480 with 1 Axes>"
      ]
     },
     "metadata": {},
     "output_type": "display_data"
    },
    {
     "name": "stdout",
     "output_type": "stream",
     "text": [
      "Original image shape: (640, 640, 3)\n",
      "Image shape: (640, 640, 3), Annotations: [[ 83.13728 155.81728 597.64734 398.43167   0.     ]]\n",
      "Skipping invalid bounding box: boxes\n",
      "Skipping invalid bounding box: classes\n",
      "Image shape: (640, 640, 3), Annotations: [[165.22913 106.66656 387.9741  581.96063   0.     ]]\n",
      "Normalized image shape: (640, 640, 3)\n",
      "Original image shape: (640, 640, 3)\n",
      "Original image shape: (640, 640, 3)\n",
      "Normalized image shape: (640, 640, 3)\n",
      "Normalized image shape: (640, 640, 3)\n",
      "Image shape: (640, 640, 3), Annotations: [[219.60768  10.22848 514.50946 718.9043    0.     ]]\n"
     ]
    },
    {
     "name": "stderr",
     "output_type": "stream",
     "text": [
      "Clipping input data to the valid range for imshow with RGB data ([0..1] for floats or [0..255] for integers).\n"
     ]
    },
    {
     "data": {
      "image/png": "[encoded data removed]",
      "text/plain": [
       "<Figure size 640x480 with 1 Axes>"
      ]
     },
     "metadata": {},
     "output_type": "display_data"
    },
    {
     "name": "stderr",
     "output_type": "stream",
     "text": [
      "Clipping input data to the valid range for imshow with RGB data ([0..1] for floats or [0..255] for integers).\n"
     ]
    },
    {
     "name": "stdout",
     "output_type": "stream",
     "text": [
      "Original image shape: (640, 640, 3)\n",
      "Image shape: (640, 640, 3), Annotations: [[316.8      47.01664 561.92    842.4592    0.     ]]\n",
      "Image shape: (640, 640, 3), Annotations: [[  6.27424  15.68608 638.431   425.6208    0.     ]]\n",
      "Normalized image shape: (640, 640, 3)\n",
      "Skipping invalid bounding box: boxes\n",
      "Skipping invalid bounding box: classes\n",
      "Original image shape: (640, 640, 3)\n",
      "Normalized image shape: (640, 640, 3)\n",
      "Image shape: (640, 640, 3), Annotations: [[183.0064    7.84288 437.12415 655.6861    0.     ]]\n",
      "Original image shape: (640, 640, 3)\n",
      "Normalized image shape: (640, 640, 3)\n"
     ]
    },
    {
     "data": {
      "image/png": "[encoded data removed]",
      "text/plain": [
       "<Figure size 640x480 with 1 Axes>"
      ]
     },
     "metadata": {},
     "output_type": "display_data"
    },
    {
     "name": "stderr",
     "output_type": "stream",
     "text": [
      "Clipping input data to the valid range for imshow with RGB data ([0..1] for floats or [0..255] for integers).\n"
     ]
    },
    {
     "name": "stdout",
     "output_type": "stream",
     "text": [
      "Original image shape: (640, 640, 3)Image shape: (640, 640, 3), Annotations: [[ 14.1872    1.04544 638.42334 423.52927   0.     ]]\n",
      "\n",
      "Skipping invalid bounding box: boxes\n",
      "Skipping invalid bounding box: classes\n",
      "Original image shape: (640, 640, 3)\n",
      "Normalized image shape: (640, 640, 3)\n",
      "Image shape: (640, 640, 3), Annotations: [[ 74.66688   8.88896 572.4448  858.6669    0.     ]]\n",
      "Normalized image shape: (640, 640, 3)\n",
      "Image shape: (640, 640, 3), Annotations: [[ 14.93344  11.37792 617.60034 411.73376   0.     ]]\n",
      "Original image shape: (640, 640, 3)\n",
      "Normalized image shape: (640, 640, 3)\n"
     ]
    },
    {
     "data": {
      "image/png": "[encoded data removed]",
      "text/plain": [
       "<Figure size 640x480 with 1 Axes>"
      ]
     },
     "metadata": {},
     "output_type": "display_data"
    },
    {
     "name": "stdout",
     "output_type": "stream",
     "text": [
      "Original image shape: (640, 640, 3)Image shape: (640, 640, 3), Annotations: [[404.8976   94.22208 630.5008  944.        0.     ]]\n",
      "Skipping invalid bounding box: boxes\n",
      "Skipping invalid bounding box: classes\n",
      "\n",
      "Image shape: (640, 640, 3), Annotations: [[160.      141.17632 516.6016  774.90173   0.     ]]\n",
      "Original image shape: (640, 640, 3)\n",
      "Normalized image shape: (640, 640, 3)\n",
      "Original image shape: (640, 640, 3)\n",
      "Normalized image shape: (640, 640, 3)\n",
      "Image shape: (640, 640, 3), Annotations: [[173.59456  11.16256 555.29376 987.90686   0.     ]]\n"
     ]
    },
    {
     "name": "stderr",
     "output_type": "stream",
     "text": [
      "Clipping input data to the valid range for imshow with RGB data ([0..1] for floats or [0..255] for integers).\n"
     ]
    },
    {
     "name": "stdout",
     "output_type": "stream",
     "text": [
      "Normalized image shape: (640, 640, 3)\n"
     ]
    },
    {
     "data": {
      "image/png": "[encoded data removed]",
      "text/plain": [
       "<Figure size 640x480 with 1 Axes>"
      ]
     },
     "metadata": {},
     "output_type": "display_data"
    },
    {
     "name": "stdout",
     "output_type": "stream",
     "text": [
      "Original image shape: (640, 640, 3)\n",
      "Image shape: (640, 640, 3), Annotations: [[140.68929  36.60096 514.48254 390.06528   0.     ]]\n",
      "Original image shape: (640, 640, 3)\n",
      "Image shape: (640, 640, 3), Annotations: [[ 48.6272  111.89568 630.58813 420.39233   0.     ]]\n",
      "Normalized image shape: (640, 640, 3)\n",
      "Skipping invalid bounding box: boxes\n",
      "Skipping invalid bounding box: classes\n",
      "Original image shape: (640, 640, 3)\n",
      "Normalized image shape: (640, 640, 3)\n",
      "Image shape: (640, 640, 3), Annotations: [[ 48.10464   0.      619.08514 825.4464    0.     ]]\n"
     ]
    },
    {
     "name": "stderr",
     "output_type": "stream",
     "text": [
      "Clipping input data to the valid range for imshow with RGB data ([0..1] for floats or [0..255] for integers).\n"
     ]
    },
    {
     "name": "stdout",
     "output_type": "stream",
     "text": [
      "Normalized image shape: (640, 640, 3)\n"
     ]
    },
    {
     "data": {
      "image/png": "[encoded data removed]",
      "text/plain": [
       "<Figure size 640x480 with 1 Axes>"
      ]
     },
     "metadata": {},
     "output_type": "display_data"
    },
    {
     "name": "stdout",
     "output_type": "stream",
     "text": [
      "Image shape: (640, 640, 3), Annotations: [[268.7581  128.6272  367.05887 550.58813   0.     ]]Original image shape: (640, 640, 3)\n",
      "\n",
      "Original image shape: (640, 640, 3)\n",
      "Original image shape: (640, 640, 3)\n",
      "Skipping invalid bounding box: boxes\n",
      "Skipping invalid bounding box: classes\n",
      "Normalized image shape: (640, 640, 3)\n",
      "Normalized image shape: (640, 640, 3)\n",
      "Normalized image shape: (640, 640, 3)\n"
     ]
    },
    {
     "name": "stderr",
     "output_type": "stream",
     "text": [
      "Clipping input data to the valid range for imshow with RGB data ([0..1] for floats or [0..255] for integers).\n"
     ]
    },
    {
     "data": {
      "image/png": "[encoded data removed]",
      "text/plain": [
       "<Figure size 640x480 with 1 Axes>"
      ]
     },
     "metadata": {},
     "output_type": "display_data"
    },
    {
     "name": "stdout",
     "output_type": "stream",
     "text": [
      "Original image shape: (640, 640, 3)\n",
      "Original image shape: (640, 640, 3)\n",
      "Original image shape: (640, 640, 3)\n",
      "Skipping invalid bounding box: boxes\n",
      "Skipping invalid bounding box: classes\n",
      "Normalized image shape: (640, 640, 3)\n",
      "Normalized image shape: (640, 640, 3)\n",
      "Normalized image shape: (640, 640, 3)\n"
     ]
    },
    {
     "name": "stderr",
     "output_type": "stream",
     "text": [
      "Clipping input data to the valid range for imshow with RGB data ([0..1] for floats or [0..255] for integers).\n"
     ]
    },
    {
     "data": {
      "image/png": "[encoded data removed]",
      "text/plain": [
       "<Figure size 640x480 with 1 Axes>"
      ]
     },
     "metadata": {},
     "output_type": "display_data"
    },
    {
     "name": "stdout",
     "output_type": "stream",
     "text": [
      "Original image shape: (640, 640, 3)\n",
      "Original image shape: (640, 640, 3)\n",
      "Original image shape: (640, 640, 3)\n",
      "Skipping invalid bounding box: boxes\n",
      "Skipping invalid bounding box: classes\n",
      "Normalized image shape: (640, 640, 3)\n"
     ]
    },
    {
     "name": "stderr",
     "output_type": "stream",
     "text": [
      "Clipping input data to the valid range for imshow with RGB data ([0..1] for floats or [0..255] for integers).\n"
     ]
    },
    {
     "name": "stdout",
     "output_type": "stream",
     "text": [
      "Normalized image shape: (640, 640, 3)\n",
      "Normalized image shape: (640, 640, 3)\n"
     ]
    },
    {
     "data": {
      "image/png": "[encoded data removed]",
      "text/plain": [
       "<Figure size 640x480 with 1 Axes>"
      ]
     },
     "metadata": {},
     "output_type": "display_data"
    },
    {
     "name": "stdout",
     "output_type": "stream",
     "text": [
      "Skipping invalid bounding box: boxes\n",
      "Skipping invalid bounding box: classes\n"
     ]
    },
    {
     "name": "stderr",
     "output_type": "stream",
     "text": [
      "Clipping input data to the valid range for imshow with RGB data ([0..1] for floats or [0..255] for integers).\n"
     ]
    },
    {
     "data": {
      "image/png": "[encoded data removed]",
      "text/plain": [
       "<Figure size 640x480 with 1 Axes>"
      ]
     },
     "metadata": {},
     "output_type": "display_data"
    },
    {
     "name": "stdout",
     "output_type": "stream",
     "text": [
      "Skipping invalid bounding box: boxes"
     ]
    },
    {
     "name": "stderr",
     "output_type": "stream",
     "text": [
      "Clipping input data to the valid range for imshow with RGB data ([0..1] for floats or [0..255] for integers).\n"
     ]
    },
    {
     "name": "stdout",
     "output_type": "stream",
     "text": [
      "\n",
      "Skipping invalid bounding box: classes\n"
     ]
    },
    {
     "data": {
      "image/png": "[encoded data removed]",
      "text/plain": [
       "<Figure size 640x480 with 1 Axes>"
      ]
     },
     "metadata": {},
     "output_type": "display_data"
    },
    {
     "name": "stdout",
     "output_type": "stream",
     "text": [
      "Skipping invalid bounding box: boxes\n",
      "Skipping invalid bounding box: classes\n"
     ]
    },
    {
     "name": "stderr",
     "output_type": "stream",
     "text": [
      "Clipping input data to the valid range for imshow with RGB data ([0..1] for floats or [0..255] for integers).\n"
     ]
    },
    {
     "data": {
      "image/png": "[encoded data removed]",
      "text/plain": [
       "<Figure size 640x480 with 1 Axes>"
      ]
     },
     "metadata": {},
     "output_type": "display_data"
    },
    {
     "name": "stderr",
     "output_type": "stream",
     "text": [
      "Clipping input data to the valid range for imshow with RGB data ([0..1] for floats or [0..255] for integers).\n"
     ]
    },
    {
     "name": "stdout",
     "output_type": "stream",
     "text": [
      "Skipping invalid bounding box: boxes\n",
      "Skipping invalid bounding box: classes\n"
     ]
    },
    {
     "data": {
      "image/png": "[encoded data removed]",
      "text/plain": [
       "<Figure size 640x480 with 1 Axes>"
      ]
     },
     "metadata": {},
     "output_type": "display_data"
    },
    {
     "name": "stderr",
     "output_type": "stream",
     "text": [
      "Clipping input data to the valid range for imshow with RGB data ([0..1] for floats or [0..255] for integers).\n"
     ]
    },
    {
     "name": "stdout",
     "output_type": "stream",
     "text": [
      "Skipping invalid bounding box: boxes\n",
      "Skipping invalid bounding box: classes\n"
     ]
    },
    {
     "data": {
      "image/png": "[encoded data removed]",
      "text/plain": [
       "<Figure size 640x480 with 1 Axes>"
      ]
     },
     "metadata": {},
     "output_type": "display_data"
    },
    {
     "name": "stdout",
     "output_type": "stream",
     "text": [
      "Skipping invalid bounding box: boxes\n",
      "Skipping invalid bounding box: classes\n"
     ]
    },
    {
     "name": "stderr",
     "output_type": "stream",
     "text": [
      "Clipping input data to the valid range for imshow with RGB data ([0..1] for floats or [0..255] for integers).\n"
     ]
    },
    {
     "data": {
      "image/png": "[encoded data removed]",
      "text/plain": [
       "<Figure size 640x480 with 1 Axes>"
      ]
     },
     "metadata": {},
     "output_type": "display_data"
    },
    {
     "name": "stdout",
     "output_type": "stream",
     "text": [
      "Skipping invalid bounding box: boxes\n",
      "Skipping invalid bounding box: classes\n"
     ]
    },
    {
     "name": "stderr",
     "output_type": "stream",
     "text": [
      "Clipping input data to the valid range for imshow with RGB data ([0..1] for floats or [0..255] for integers).\n"
     ]
    },
    {
     "data": {
      "image/png": "[encoded data removed]",
      "text/plain": [
       "<Figure size 640x480 with 1 Axes>"
      ]
     },
     "metadata": {},
     "output_type": "display_data"
    },
    {
     "name": "stdout",
     "output_type": "stream",
     "text": [
      "Skipping invalid bounding box: boxes\n",
      "Skipping invalid bounding box: classes\n"
     ]
    },
    {
     "name": "stderr",
     "output_type": "stream",
     "text": [
      "Clipping input data to the valid range for imshow with RGB data ([0..1] for floats or [0..255] for integers).\n"
     ]
    },
    {
     "data": {
      "image/png": "[encoded data removed]",
      "text/plain": [
       "<Figure size 640x480 with 1 Axes>"
      ]
     },
     "metadata": {},
     "output_type": "display_data"
    },
    {
     "name": "stdout",
     "output_type": "stream",
     "text": [
      "Skipping invalid bounding box: boxes\n",
      "Skipping invalid bounding box: classes\n"
     ]
    },
    {
     "name": "stderr",
     "output_type": "stream",
     "text": [
      "Clipping input data to the valid range for imshow with RGB data ([0..1] for floats or [0..255] for integers).\n"
     ]
    },
    {
     "data": {
      "image/png": "[encoded data removed]",
      "text/plain": [
       "<Figure size 640x480 with 1 Axes>"
      ]
     },
     "metadata": {},
     "output_type": "display_data"
    },
    {
     "name": "stderr",
     "output_type": "stream",
     "text": [
      "Clipping input data to the valid range for imshow with RGB data ([0..1] for floats or [0..255] for integers).\n"
     ]
    },
    {
     "name": "stdout",
     "output_type": "stream",
     "text": [
      "Skipping invalid bounding box: boxes\n",
      "Skipping invalid bounding box: classes\n"
     ]
    },
    {
     "data": {
      "image/png": "[encoded data removed]",
      "text/plain": [
       "<Figure size 640x480 with 1 Axes>"
      ]
     },
     "metadata": {},
     "output_type": "display_data"
    },
    {
     "name": "stdout",
     "output_type": "stream",
     "text": [
      "Skipping invalid bounding box: boxes\n",
      "Skipping invalid bounding box: classes\n"
     ]
    },
    {
     "data": {
      "image/png": "[encoded data removed]",
      "text/plain": [
       "<Figure size 640x480 with 1 Axes>"
      ]
     },
     "metadata": {},
     "output_type": "display_data"
    }
   ],
   "source": [
    "import matplotlib.pyplot as plt\n",
    "import cv2\n",
    "\n",
    "# Function to visualize bounding boxes in the dataset\n",
    "def visualize_dataset(dataset):\n",
    "    for image, bounding_boxes in dataset:\n",
    "        img = image.numpy()  # Convert image tensor to numpy array\n",
    "        img = cv2.cvtColor(img, cv2.COLOR_RGB2BGR)  # Convert RGB image to BGR for OpenCV\n",
    "        \n",
    "        for box_str in bounding_boxes:\n",
    "            try:\n",
    "                # Parse bounding box coordinates from string format\n",
    "                xmin, ymin, xmax, ymax = map(float, box_str.split(' '))\n",
    "                xmin, ymin, xmax, ymax = int(xmin), int(ymin), int(xmax), int(ymax)\n",
    "                \n",
    "                # Draw bounding box on the image\n",
    "                cv2.rectangle(img, (xmin, ymin), (xmax, ymax), (0, 255, 0), 2)\n",
    "            except ValueError as e:\n",
    "                print(f\"Skipping invalid bounding box: {box_str}\")\n",
    "        \n",
    "        # Display the image with bounding boxes\n",
    "        plt.imshow(img)\n",
    "        plt.axis('off')\n",
    "        plt.show()\n",
    "\n",
    "# Visualize the dataset\n",
    "visualize_dataset(train_dataset)\n"
   ]
  },
  {
   "cell_type": "code",
   "execution_count": 433,
   "id": "84af5ea1-f503-408c-8ee4-b89a7be5af3f",
   "metadata": {},
   "outputs": [
    {
     "name": "stdout",
     "output_type": "stream",
     "text": [
      "Image shape: (640, 640, 3), Annotations: Tensor(\"args_1:0\", shape=(None, 5), dtype=float32)\n",
      "Image shape: (640, 640, 3), Annotations: Tensor(\"args_1:0\", shape=(None, 5), dtype=float32)\n"
     ]
    }
   ],
   "source": [
    "# Create datasets for training, validation, and testing\n",
    "train_dataset = data_loader(TRAIN_IMAGES_DIR, TRAIN_LABELS_DIR, BATCH_SIZE)\n",
    "val_dataset = data_loader(VAL_IMAGES_DIR, VAL_LABELS_DIR, BATCH_SIZE // 2)"
   ]
  },
  {
   "cell_type": "code",
   "execution_count": 434,
   "id": "6f7dc7ef-82e3-4a7b-9928-9bf57e9ed6e0",
   "metadata": {},
   "outputs": [
    {
     "name": "stdout",
     "output_type": "stream",
     "text": [
      "Image shape: (640, 640, 3), Annotations: [[172.5488    6.27424 401.56833 602.35297   0.     ]]Image shape: (640, 640, 3), Annotations: [[ 37.64736   2.09184 560.      373.33344   0.     ]]\n",
      "Image shape: (640, 640, 3), Annotations: [[180.91489  10.98016 611.7648  917.64703   0.     ]]\n",
      "\n",
      "Image shape: (640, 640, 3), Annotations: [[ 10.98048 174.64032 155.29408 103.52928   0.     ]]\n",
      "Image shape: (640, 640, 3), Annotations: [[189.28064   1.57632 385.88223 581.67487   0.     ]]\n",
      "Image shape: (640, 640, 3), Annotations: [[104.3616   45.44416 250.21632 376.8048    0.     ]]\n",
      "Original image shape: (640, 640, 3)\n",
      "Image shape: (640, 640, 3), Annotations: [[2.2274529e+02 3.1999999e-04 4.8941217e+02 6.8383582e+02 0.0000000e+00]]\n",
      "Original image shape: (640, 640, 3)\n",
      "Normalized image shape: (640, 640, 3)\n",
      "Image shape: (640, 640, 3), Annotations: [[ 70.41248   5.664   632.456   949.61664   0.     ]]\n",
      "Normalized image shape: (640, 640, 3)\n",
      "Original image shape: (640, 640, 3)\n",
      "Original image shape: (640, 640, 3)\n",
      "Original image shape: (640, 640, 3)\n",
      "Normalized image shape: (640, 640, 3)\n",
      "Normalized image shape: (640, 640, 3)\n",
      "Normalized image shape: (640, 640, 3)\n",
      "Image shape: (640, 640, 3), Annotations: [[100.68992  35.55584 477.2416  361.8304    0.     ]]\n",
      "Original image shape: (640, 640, 3)\n",
      "Image shape: (640, 640, 3), Annotations: [[367.05887 191.3728  441.3072  661.96094   0.     ]]\n",
      "Normalized image shape: (640, 640, 3)\n",
      "Original image shape: (640, 640, 3)\n",
      "Original image shape: (640, 640, 3)\n",
      "Normalized image shape: (640, 640, 3)\n",
      "Normalized image shape: (640, 640, 3)\n",
      "Original image shape: (640, 640, 3)\n",
      "Original image shape: (640, 640, 3)\n",
      "Normalized image shape: (640, 640, 3)\n",
      "Normalized image shape: (640, 640, 3)\n",
      "Skipping invalid bounding box: boxes\n",
      "Skipping invalid bounding box: classes\n"
     ]
    },
    {
     "data": {
      "image/png": "[encoded data removed]",
      "text/plain": [
       "<Figure size 640x480 with 1 Axes>"
      ]
     },
     "metadata": {},
     "output_type": "display_data"
    },
    {
     "name": "stdout",
     "output_type": "stream",
     "text": [
      "Skipping invalid bounding box: boxes\n",
      "Skipping invalid bounding box: classes\n",
      "Image shape: (640, 640, 3), Annotations: [[285.53888 194.06271 384.93793 256.56256   0.     ]\n",
      " [275.69217 333.12512 386.8128  257.81247   0.     ]]\n",
      "Image shape: (640, 640, 3), Annotations: [[224.83617   8.76704 495.68607 692.60254   0.     ]]\n",
      "Image shape: (640, 640, 3), Annotations: [[333.44     41.25952 565.76    848.2163    0.     ]]\n",
      "Image shape: (640, 640, 3), Annotations: [[121.62368  12.44416 446.3469  672.        0.     ]]\n",
      "Image shape: (640, 640, 3), Annotations: [[ 31.37216 107.192   218.56192 329.45825   0.     ]]\n",
      "Image shape: (640, 640, 3), Annotations: [[ 98.30048  10.98016 639.9997  959.9997    0.     ]]\n",
      "Image shape: (640, 640, 3), Annotations: [[ 53.33344   1.04608 313.72577 209.1504    0.     ]]\n",
      "Image shape: (640, 640, 3), Annotations: [[135.94753 150.58817 492.54913 656.7322    0.     ]]\n",
      "Original image shape: (640, 640, 3)\n",
      "Image shape: (640, 640, 3), Annotations: [[ 54.37888   1.56864 557.3856  836.07874   0.     ]]\n",
      "Original image shape: (640, 640, 3)\n",
      "Original image shape: (640, 640, 3)\n",
      "Original image shape: (640, 640, 3)\n",
      "Original image shape: (640, 640, 3)\n",
      "Original image shape: (640, 640, 3)\n",
      "Normalized image shape: (640, 640, 3)\n",
      "Normalized image shape: (640, 640, 3)\n",
      "Normalized image shape: (640, 640, 3)\n",
      "Normalized image shape: (640, 640, 3)\n",
      "Normalized image shape: (640, 640, 3)\n",
      "Original image shape: (640, 640, 3)\n",
      "Normalized image shape: (640, 640, 3)\n",
      "Original image shape: (640, 640, 3)\n",
      "Original image shape: (640, 640, 3)\n",
      "Normalized image shape: (640, 640, 3)\n",
      "Normalized image shape: (640, 640, 3)\n",
      "Normalized image shape: (640, 640, 3)\n"
     ]
    },
    {
     "data": {
      "image/png": "[encoded data removed]",
      "text/plain": [
       "<Figure size 640x480 with 1 Axes>"
      ]
     },
     "metadata": {},
     "output_type": "display_data"
    },
    {
     "name": "stdout",
     "output_type": "stream",
     "text": [
      "Skipping invalid bounding box: boxes\n",
      "Skipping invalid bounding box: classes\n",
      "Image shape: (640, 640, 3), Annotations: [[ 58.03904  27.18944 589.8035  393.20224   0.     ]]\n",
      "Original image shape: (640, 640, 3)\n",
      "Normalized image shape: (640, 640, 3)\n"
     ]
    },
    {
     "data": {
      "image/png": "[encoded data removed]",
      "text/plain": [
       "<Figure size 640x480 with 1 Axes>"
      ]
     },
     "metadata": {},
     "output_type": "display_data"
    },
    {
     "name": "stdout",
     "output_type": "stream",
     "text": [
      "Skipping invalid bounding box: boxes\n",
      "Skipping invalid bounding box: classes\n"
     ]
    },
    {
     "data": {
      "image/png": "[encoded data removed]",
      "text/plain": [
       "<Figure size 640x480 with 1 Axes>"
      ]
     },
     "metadata": {},
     "output_type": "display_data"
    },
    {
     "name": "stdout",
     "output_type": "stream",
     "text": [
      "Skipping invalid bounding box: boxes\n",
      "Skipping invalid bounding box: classes\n"
     ]
    },
    {
     "data": {
      "image/png": "[encoded data removed]",
      "text/plain": [
       "<Figure size 640x480 with 1 Axes>"
      ]
     },
     "metadata": {},
     "output_type": "display_data"
    },
    {
     "name": "stdout",
     "output_type": "stream",
     "text": [
      "Skipping invalid bounding box: boxes\n",
      "Skipping invalid bounding box: classes\n"
     ]
    },
    {
     "name": "stderr",
     "output_type": "stream",
     "text": [
      "Clipping input data to the valid range for imshow with RGB data ([0..1] for floats or [0..255] for integers).\n"
     ]
    },
    {
     "data": {
      "image/png": "[encoded data removed]",
      "text/plain": [
       "<Figure size 640x480 with 1 Axes>"
      ]
     },
     "metadata": {},
     "output_type": "display_data"
    },
    {
     "name": "stdout",
     "output_type": "stream",
     "text": [
      "Skipping invalid bounding box: boxes\n",
      "Skipping invalid bounding box: classes\n"
     ]
    },
    {
     "name": "stderr",
     "output_type": "stream",
     "text": [
      "Clipping input data to the valid range for imshow with RGB data ([0..1] for floats or [0..255] for integers).\n"
     ]
    },
    {
     "data": {
      "image/png": "[encoded data removed]",
      "text/plain": [
       "<Figure size 640x480 with 1 Axes>"
      ]
     },
     "metadata": {},
     "output_type": "display_data"
    },
    {
     "name": "stdout",
     "output_type": "stream",
     "text": [
      "Skipping invalid bounding box: boxes\n",
      "Skipping invalid bounding box: classes\n"
     ]
    },
    {
     "data": {
      "image/png": "[encoded data removed]",
      "text/plain": [
       "<Figure size 640x480 with 1 Axes>"
      ]
     },
     "metadata": {},
     "output_type": "display_data"
    },
    {
     "name": "stdout",
     "output_type": "stream",
     "text": [
      "Skipping invalid bounding box: boxes\n",
      "Skipping invalid bounding box: classes\n"
     ]
    },
    {
     "data": {
      "image/png": "[encoded data removed]",
      "text/plain": [
       "<Figure size 640x480 with 1 Axes>"
      ]
     },
     "metadata": {},
     "output_type": "display_data"
    },
    {
     "name": "stdout",
     "output_type": "stream",
     "text": [
      "Skipping invalid bounding box: boxes\n",
      "Skipping invalid bounding box: classes\n"
     ]
    },
    {
     "data": {
      "image/png": "[encoded data removed]",
      "text/plain": [
       "<Figure size 640x480 with 1 Axes>"
      ]
     },
     "metadata": {},
     "output_type": "display_data"
    },
    {
     "name": "stdout",
     "output_type": "stream",
     "text": [
      "Skipping invalid bounding box: boxes\n",
      "Skipping invalid bounding box: classes\n"
     ]
    },
    {
     "data": {
      "image/png": "[encoded data removed]",
      "text/plain": [
       "<Figure size 640x480 with 1 Axes>"
      ]
     },
     "metadata": {},
     "output_type": "display_data"
    },
    {
     "name": "stdout",
     "output_type": "stream",
     "text": [
      "Skipping invalid bounding box: boxes\n",
      "Skipping invalid bounding box: classes\n"
     ]
    },
    {
     "data": {
      "image/png": "[encoded data removed]",
      "text/plain": [
       "<Figure size 640x480 with 1 Axes>"
      ]
     },
     "metadata": {},
     "output_type": "display_data"
    },
    {
     "name": "stdout",
     "output_type": "stream",
     "text": [
      "Skipping invalid bounding box: boxes\n",
      "Skipping invalid bounding box: classes\n"
     ]
    },
    {
     "data": {
      "image/png": "[encoded data removed]",
      "text/plain": [
       "<Figure size 640x480 with 1 Axes>"
      ]
     },
     "metadata": {},
     "output_type": "display_data"
    },
    {
     "name": "stdout",
     "output_type": "stream",
     "text": [
      "Skipping invalid bounding box: boxes\n",
      "Skipping invalid bounding box: classes\n"
     ]
    },
    {
     "data": {
      "image/png": "[encoded data removed]",
      "text/plain": [
       "<Figure size 640x480 with 1 Axes>"
      ]
     },
     "metadata": {},
     "output_type": "display_data"
    },
    {
     "name": "stdout",
     "output_type": "stream",
     "text": [
      "Skipping invalid bounding box: boxes\n",
      "Skipping invalid bounding box: classes\n"
     ]
    },
    {
     "data": {
      "image/png": "[encoded data removed]",
      "text/plain": [
       "<Figure size 640x480 with 1 Axes>"
      ]
     },
     "metadata": {},
     "output_type": "display_data"
    },
    {
     "name": "stdout",
     "output_type": "stream",
     "text": [
      "Skipping invalid bounding box: boxes\n",
      "Skipping invalid bounding box: classes\n"
     ]
    },
    {
     "data": {
      "image/png": "[encoded data removed]",
      "text/plain": [
       "<Figure size 640x480 with 1 Axes>"
      ]
     },
     "metadata": {},
     "output_type": "display_data"
    },
    {
     "name": "stdout",
     "output_type": "stream",
     "text": [
      "Skipping invalid bounding box: boxes\n",
      "Skipping invalid bounding box: classes\n"
     ]
    },
    {
     "data": {
      "image/png": "[encoded data removed]",
      "text/plain": [
       "<Figure size 640x480 with 1 Axes>"
      ]
     },
     "metadata": {},
     "output_type": "display_data"
    },
    {
     "name": "stdout",
     "output_type": "stream",
     "text": [
      "Skipping invalid bounding box: boxes\n",
      "Skipping invalid bounding box: classes\n"
     ]
    },
    {
     "data": {
      "image/png": "[encoded data removed]",
      "text/plain": [
       "<Figure size 640x480 with 1 Axes>"
      ]
     },
     "metadata": {},
     "output_type": "display_data"
    },
    {
     "name": "stdout",
     "output_type": "stream",
     "text": [
      "Skipping invalid bounding box: boxes\n",
      "Skipping invalid bounding box: classes\n"
     ]
    },
    {
     "data": {
      "image/png": "[encoded data removed]",
      "text/plain": [
       "<Figure size 640x480 with 1 Axes>"
      ]
     },
     "metadata": {},
     "output_type": "display_data"
    },
    {
     "name": "stdout",
     "output_type": "stream",
     "text": [
      "Skipping invalid bounding box: boxes\n",
      "Skipping invalid bounding box: classes\n"
     ]
    },
    {
     "data": {
      "image/png": "[encoded data removed]",
      "text/plain": [
       "<Figure size 640x480 with 1 Axes>"
      ]
     },
     "metadata": {},
     "output_type": "display_data"
    }
   ],
   "source": [
    "visualize_dataset(val_dataset)"
   ]
  },
  {
   "cell_type": "markdown",
   "id": "7b0be0e4-f1d0-4f7e-b3cc-be88d50c37b0",
   "metadata": {},
   "source": [
    "## Model"
   ]
  },
  {
   "cell_type": "code",
   "execution_count": 435,
   "id": "1282ed9d-c3f8-4c92-a181-77093e3d1c71",
   "metadata": {},
   "outputs": [
    {
     "name": "stdout",
     "output_type": "stream",
     "text": [
      "Image shape: (640, 640, 3), Annotations: [[179.3936    3.87872 432.4848  864.9699    0.     ]]\n",
      "Original image shape: (640, 640, 3)\n",
      "Image shape: (640, 640, 3), Annotations: [[ 22.63264 113.6096  226.32608 340.8288    0.     ]]\n",
      "Normalized image shape: (640, 640, 3)\n",
      "Original image shape: (640, 640, 3)\n",
      "Normalized image shape: (640, 640, 3)\n",
      "Image shape: (640, 640, 3), Annotations: [[219.60768  89.41184 387.97375 581.96094   0.     ]]\n",
      "Image shape: (640, 640, 3), Annotations: [[  6.27456   3.09952 638.9542  946.8282    0.     ]]\n",
      "Image shape: (640, 640, 3), Annotations: [[ 21.96096   7.32    607.0592  404.7056    0.     ]]\n",
      "Image shape: (640, 640, 3), Annotations: [[ 24.66016   4.66624 573.064   325.33313   0.     ]]\n",
      "Image shape: (640, 640, 3), Annotations: [[ 20.9152  130.83711 215.42528 324.72897   0.     ]]\n",
      "Image shape: (640, 640, 3), Annotations: [[ 78.43136   7.32    619.60767 413.0717    0.     ]]\n",
      "Image shape: (640, 640, 3), Annotations: [[ 95.68608  15.6864  487.84286 325.2288    0.     ]]\n",
      "Original image shape: (640, 640, 3)\n",
      "Original image shape: (640, 640, 3)\n",
      "Original image shape: (640, 640, 3)\n",
      "Normalized image shape: (640, 640, 3)\n",
      "Normalized image shape: (640, 640, 3)\n",
      "Normalized image shape: (640, 640, 3)\n",
      "Original image shape: (640, 640, 3)\n",
      "Original image shape: (640, 640, 3)\n",
      "Original image shape: (640, 640, 3)\n",
      "Normalized image shape: (640, 640, 3)\n",
      "Normalized image shape: (640, 640, 3)\n",
      "Normalized image shape: (640, 640, 3)\n",
      "Image shape: (640, 640, 3), Annotations: [[269.0003   26.66688 394.      700.4448    0.     ]]\n",
      "Image shape: (640, 640, 3), Annotations: [[138.07584  94.11744 557.9011  312.67935   0.     ]]\n",
      "Image shape: (640, 640, 3), Annotations: [[170.98016  15.6864  495.68607 330.4576    0.     ]]\n",
      "Original image shape: (640, 640, 3)\n",
      "Image shape: (640, 640, 3), Annotations: [[158.95456   6.28992 542.7453  816.11774   0.     ]]\n",
      "Normalized image shape: (640, 640, 3)\n",
      "Original image shape: (640, 640, 3)\n",
      "Normalized image shape: (640, 640, 3)\n",
      "Original image shape: (640, 640, 3)\n",
      "Original image shape: (640, 640, 3)\n",
      "Normalized image shape: (640, 640, 3)\n",
      "Normalized image shape: (640, 640, 3)\n",
      "Image shape: (640, 640, 3), Annotations: [[314.24    45.0976 599.04   898.1114   0.    ]]\n",
      "Original image shape: (640, 640, 3)\n",
      "Normalized image shape: (640, 640, 3)\n",
      "Image shape: (640, 640, 3), Annotations: [[ 79.328    10.4576  588.90753 458.03903   0.     ]]\n",
      "Image shape: (640, 640, 3), Annotations: [[353.464   185.09824 437.12415 655.6864    0.     ]]\n",
      "Original image shape: (640, 640, 3)\n",
      "Normalized image shape: (640, 640, 3)\n",
      "Image shape: (640, 640, 3), Annotations: [[169.41151  15.68672 564.7056  376.47073   0.     ]]\n",
      "Image shape: (640, 640, 3), Annotations: [[  6.27456  12.8     624.3136  955.2       0.     ]]\n",
      "Image shape: (640, 640, 3), Annotations: [[ 22.85728  10.45728 610.6122  391.11072   0.     ]]\n",
      "Original image shape: (640, 640, 3)\n",
      "Normalized image shape: (640, 640, 3)\n",
      "Original image shape: (640, 640, 3)\n",
      "Image shape: (640, 640, 3), Annotations: [[193.18529   5.33344 480.      720.0003    0.     ]]\n",
      "Original image shape: (640, 640, 3)\n",
      "Image shape: (3, 640, 640, 3)\n",
      "Annotations: {'boxes': <tf.Tensor: shape=(3, 5, 4), dtype=float32, numpy=\n",
      "array([[[179.3936 ,   3.87872, 432.4848 , 864.9699 ],\n",
      "        [ -1.     ,  -1.     ,  -1.     ,  -1.     ],\n",
      "        [ -1.     ,  -1.     ,  -1.     ,  -1.     ],\n",
      "        [ -1.     ,  -1.     ,  -1.     ,  -1.     ],\n",
      "        [ -1.     ,  -1.     ,  -1.     ,  -1.     ]],\n",
      "\n",
      "       [[ 22.63264, 113.6096 , 226.32608, 340.8288 ],\n",
      "        [ -1.     ,  -1.     ,  -1.     ,  -1.     ],\n",
      "        [ -1.     ,  -1.     ,  -1.     ,  -1.     ],\n",
      "        [ -1.     ,  -1.     ,  -1.     ,  -1.     ],\n",
      "        [ -1.     ,  -1.     ,  -1.     ,  -1.     ]],\n",
      "\n",
      "       [[ 24.66016,   4.66624, 573.064  , 325.33313],\n",
      "        [ -1.     ,  -1.     ,  -1.     ,  -1.     ],\n",
      "        [ -1.     ,  -1.     ,  -1.     ,  -1.     ],\n",
      "        [ -1.     ,  -1.     ,  -1.     ,  -1.     ],\n",
      "        [ -1.     ,  -1.     ,  -1.     ,  -1.     ]]], dtype=float32)>, 'classes': <tf.Tensor: shape=(3, 5, 1), dtype=float32, numpy=\n",
      "array([[[ 0.],\n",
      "        [-1.],\n",
      "        [-1.],\n",
      "        [-1.],\n",
      "        [-1.]],\n",
      "\n",
      "       [[ 0.],\n",
      "        [-1.],\n",
      "        [-1.],\n",
      "        [-1.],\n",
      "        [-1.]],\n",
      "\n",
      "       [[ 0.],\n",
      "        [-1.],\n",
      "        [-1.],\n",
      "        [-1.],\n",
      "        [-1.]]], dtype=float32)>}\n",
      "Normalized image shape: (640, 640, 3)\n",
      "Image shape: (640, 640, 3), Annotations: [[366.01312 197.64703 446.536   669.80383   0.     ]]\n",
      "Normalized image shape: (640, 640, 3)\n",
      "Image shape: (640, 640, 3), Annotations: [[109.80416  41.82976 580.39233 386.928     0.     ]]\n",
      "Image shape: (640, 640, 3), Annotations: [[ 21.96096 140.13055 249.41183 166.27457   0.     ]]\n",
      "Image shape: (640, 640, 3), Annotations: [[ 44.61536  13.59456 613.84607 417.25473   0.     ]]\n",
      "Original image shape: (640, 640, 3)\n",
      "Normalized image shape: (640, 640, 3)\n"
     ]
    }
   ],
   "source": [
    "for image, annotations in train_dataset.take(1):\n",
    "    print(\"Image shape:\", image.shape)\n",
    "    print(\"Annotations:\", annotations)\n"
   ]
  },
  {
   "cell_type": "code",
   "execution_count": 446,
   "id": "be6c87d7-5e2d-4202-9b5a-39f8c608d9ad",
   "metadata": {},
   "outputs": [],
   "source": [
    "import tensorflow as tf\n",
    "from tensorflow.keras.applications import ResNet50\n",
    "\n",
    "def get_backbone():\n",
    "    # Load ResNet50 model without the top classification layer\n",
    "    backbone = ResNet50(\n",
    "        include_top=False,\n",
    "        input_shape=[640, 640, 3],\n",
    "        weights='imagenet'\n",
    "    )\n",
    "\n",
    "    # Extract the output of the backbone to create a feature pyramid\n",
    "    layer_names = ['conv3_block4_out', 'conv4_block6_out', 'conv5_block3_out']\n",
    "    backbone_outputs = [backbone.get_layer(name).output for name in layer_names]\n",
    "\n",
    "    # Create the feature extractor model\n",
    "    backbone = tf.keras.Model(inputs=backbone.input, outputs=backbone_outputs)\n",
    "    return backbone\n",
    "\n",
    "backbone = get_backbone()\n"
   ]
  },
  {
   "cell_type": "code",
   "execution_count": 448,
   "id": "a3e8fe3f-1387-4d62-92d6-9b4422d57df5",
   "metadata": {},
   "outputs": [
    {
     "name": "stdout",
     "output_type": "stream",
     "text": [
      "Epoch 1/50\n"
     ]
    },
    {
     "ename": "ValueError",
     "evalue": "Exception encountered when calling Cond.call().\n\n\u001b[1mDimension must be 4 but is 3 for '{{node yolov8_label_encoder_12_1/cond/transpose}} = Transpose[T=DT_FLOAT, Tperm=DT_INT32](yolov8_label_encoder_12_1/cond/Reshape_2, yolov8_label_encoder_12_1/cond/transpose/perm)' with input shapes: [?,?,?,?], [3].\u001b[0m\n\nArguments received by Cond.call():\n  • args=('tf.Tensor(shape=(), dtype=bool)', '<function YOLOV8LabelEncoder.call.<locals>.<lambda> at 0x0000016A8936ECA0>', '<function YOLOV8LabelEncoder.call.<locals>.<lambda> at 0x0000016A8936EF20>')\n  • kwargs=<class 'inspect._empty'>",
     "output_type": "error",
     "traceback": [
      "\u001b[1;31m---------------------------------------------------------------------------\u001b[0m",
      "\u001b[1;31mValueError\u001b[0m                                Traceback (most recent call last)",
      "Cell \u001b[1;32mIn[448], line 2\u001b[0m\n\u001b[0;32m      1\u001b[0m \u001b[38;5;66;03m# Train the model\u001b[39;00m\n\u001b[1;32m----> 2\u001b[0m \u001b[43mmodel\u001b[49m\u001b[38;5;241;43m.\u001b[39;49m\u001b[43mfit\u001b[49m\u001b[43m(\u001b[49m\n\u001b[0;32m      3\u001b[0m \u001b[43m    \u001b[49m\u001b[43mtrain_dataset\u001b[49m\u001b[43m,\u001b[49m\n\u001b[0;32m      4\u001b[0m \u001b[43m    \u001b[49m\u001b[43mepochs\u001b[49m\u001b[38;5;241;43m=\u001b[39;49m\u001b[38;5;241;43m50\u001b[39;49m\u001b[43m,\u001b[49m\u001b[43m  \u001b[49m\u001b[38;5;66;43;03m# Adjust based on your needs\u001b[39;49;00m\n\u001b[0;32m      5\u001b[0m \u001b[43m    \u001b[49m\u001b[43mvalidation_data\u001b[49m\u001b[38;5;241;43m=\u001b[39;49m\u001b[43mval_dataset\u001b[49m\u001b[43m  \u001b[49m\u001b[38;5;66;43;03m# Assuming you have a validation dataset\u001b[39;49;00m\n\u001b[0;32m      6\u001b[0m \u001b[43m)\u001b[49m\n\u001b[0;32m      8\u001b[0m \u001b[38;5;66;03m# Step 5: Evaluate the Model\u001b[39;00m\n\u001b[0;32m      9\u001b[0m model\u001b[38;5;241m.\u001b[39mevaluate(val_dataset)\n",
      "File \u001b[1;32mD:\\miniconda\\envs\\object_detection\\Lib\\site-packages\\keras\\src\\utils\\traceback_utils.py:122\u001b[0m, in \u001b[0;36mfilter_traceback.<locals>.error_handler\u001b[1;34m(*args, **kwargs)\u001b[0m\n\u001b[0;32m    119\u001b[0m     filtered_tb \u001b[38;5;241m=\u001b[39m _process_traceback_frames(e\u001b[38;5;241m.\u001b[39m__traceback__)\n\u001b[0;32m    120\u001b[0m     \u001b[38;5;66;03m# To get the full stack trace, call:\u001b[39;00m\n\u001b[0;32m    121\u001b[0m     \u001b[38;5;66;03m# `keras.config.disable_traceback_filtering()`\u001b[39;00m\n\u001b[1;32m--> 122\u001b[0m     \u001b[38;5;28;01mraise\u001b[39;00m e\u001b[38;5;241m.\u001b[39mwith_traceback(filtered_tb) \u001b[38;5;28;01mfrom\u001b[39;00m \u001b[38;5;28;01mNone\u001b[39;00m\n\u001b[0;32m    123\u001b[0m \u001b[38;5;28;01mfinally\u001b[39;00m:\n\u001b[0;32m    124\u001b[0m     \u001b[38;5;28;01mdel\u001b[39;00m filtered_tb\n",
      "File \u001b[1;32mD:\\miniconda\\envs\\object_detection\\Lib\\site-packages\\keras_cv\\src\\models\\object_detection\\yolo_v8\\yolo_v8_detector.py:526\u001b[0m, in \u001b[0;36mYOLOV8Detector.train_step\u001b[1;34m(self, *args)\u001b[0m\n\u001b[0;32m    524\u001b[0m args \u001b[38;5;241m=\u001b[39m args[:\u001b[38;5;241m-\u001b[39m\u001b[38;5;241m1\u001b[39m]\n\u001b[0;32m    525\u001b[0m x, y \u001b[38;5;241m=\u001b[39m unpack_input(data)\n\u001b[1;32m--> 526\u001b[0m \u001b[38;5;28;01mreturn\u001b[39;00m \u001b[38;5;28;43msuper\u001b[39;49m\u001b[43m(\u001b[49m\u001b[43m)\u001b[49m\u001b[38;5;241;43m.\u001b[39;49m\u001b[43mtrain_step\u001b[49m\u001b[43m(\u001b[49m\u001b[38;5;241;43m*\u001b[39;49m\u001b[43margs\u001b[49m\u001b[43m,\u001b[49m\u001b[43m \u001b[49m\u001b[43m(\u001b[49m\u001b[43mx\u001b[49m\u001b[43m,\u001b[49m\u001b[43m \u001b[49m\u001b[43my\u001b[49m\u001b[43m)\u001b[49m\u001b[43m)\u001b[49m\n",
      "File \u001b[1;32mD:\\miniconda\\envs\\object_detection\\Lib\\site-packages\\keras_cv\\src\\models\\object_detection\\yolo_v8\\yolo_v8_detector.py:555\u001b[0m, in \u001b[0;36mYOLOV8Detector.compute_loss\u001b[1;34m(self, x, y, y_pred, sample_weight, **kwargs)\u001b[0m\n\u001b[0;32m    546\u001b[0m gt_bboxes \u001b[38;5;241m=\u001b[39m bounding_box\u001b[38;5;241m.\u001b[39mconvert_format(\n\u001b[0;32m    547\u001b[0m     y[\u001b[38;5;124m\"\u001b[39m\u001b[38;5;124mboxes\u001b[39m\u001b[38;5;124m\"\u001b[39m],\n\u001b[0;32m    548\u001b[0m     source\u001b[38;5;241m=\u001b[39m\u001b[38;5;28mself\u001b[39m\u001b[38;5;241m.\u001b[39mbounding_box_format,\n\u001b[0;32m    549\u001b[0m     target\u001b[38;5;241m=\u001b[39m\u001b[38;5;124m\"\u001b[39m\u001b[38;5;124mxyxy\u001b[39m\u001b[38;5;124m\"\u001b[39m,\n\u001b[0;32m    550\u001b[0m     images\u001b[38;5;241m=\u001b[39mx,\n\u001b[0;32m    551\u001b[0m )\n\u001b[0;32m    553\u001b[0m pred_bboxes \u001b[38;5;241m=\u001b[39m dist2bbox(pred_boxes, anchor_points)\n\u001b[1;32m--> 555\u001b[0m target_bboxes, target_scores, fg_mask \u001b[38;5;241m=\u001b[39m \u001b[38;5;28;43mself\u001b[39;49m\u001b[38;5;241;43m.\u001b[39;49m\u001b[43mlabel_encoder\u001b[49m\u001b[43m(\u001b[49m\n\u001b[0;32m    556\u001b[0m \u001b[43m    \u001b[49m\u001b[43mpred_scores\u001b[49m\u001b[43m,\u001b[49m\n\u001b[0;32m    557\u001b[0m \u001b[43m    \u001b[49m\u001b[43mops\u001b[49m\u001b[38;5;241;43m.\u001b[39;49m\u001b[43mcast\u001b[49m\u001b[43m(\u001b[49m\u001b[43mpred_bboxes\u001b[49m\u001b[43m \u001b[49m\u001b[38;5;241;43m*\u001b[39;49m\u001b[43m \u001b[49m\u001b[43mstride_tensor\u001b[49m\u001b[43m,\u001b[49m\u001b[43m \u001b[49m\u001b[43mgt_bboxes\u001b[49m\u001b[38;5;241;43m.\u001b[39;49m\u001b[43mdtype\u001b[49m\u001b[43m)\u001b[49m\u001b[43m,\u001b[49m\n\u001b[0;32m    558\u001b[0m \u001b[43m    \u001b[49m\u001b[43manchor_points\u001b[49m\u001b[43m \u001b[49m\u001b[38;5;241;43m*\u001b[39;49m\u001b[43m \u001b[49m\u001b[43mstride_tensor\u001b[49m\u001b[43m,\u001b[49m\n\u001b[0;32m    559\u001b[0m \u001b[43m    \u001b[49m\u001b[43mgt_labels\u001b[49m\u001b[43m,\u001b[49m\n\u001b[0;32m    560\u001b[0m \u001b[43m    \u001b[49m\u001b[43mgt_bboxes\u001b[49m\u001b[43m,\u001b[49m\n\u001b[0;32m    561\u001b[0m \u001b[43m    \u001b[49m\u001b[43mmask_gt\u001b[49m\u001b[43m,\u001b[49m\n\u001b[0;32m    562\u001b[0m \u001b[43m\u001b[49m\u001b[43m)\u001b[49m\n\u001b[0;32m    564\u001b[0m target_bboxes \u001b[38;5;241m/\u001b[39m\u001b[38;5;241m=\u001b[39m stride_tensor\n\u001b[0;32m    565\u001b[0m target_scores_sum \u001b[38;5;241m=\u001b[39m ops\u001b[38;5;241m.\u001b[39mmaximum(ops\u001b[38;5;241m.\u001b[39msum(target_scores), \u001b[38;5;241m1\u001b[39m)\n",
      "File \u001b[1;32mD:\\miniconda\\envs\\object_detection\\Lib\\site-packages\\keras_cv\\src\\models\\object_detection\\yolo_v8\\yolo_v8_label_encoder.py:248\u001b[0m, in \u001b[0;36mYOLOV8LabelEncoder.call\u001b[1;34m(self, scores, decode_bboxes, anchors, gt_labels, gt_bboxes, gt_mask)\u001b[0m\n\u001b[0;32m    244\u001b[0m max_num_boxes \u001b[38;5;241m=\u001b[39m ops\u001b[38;5;241m.\u001b[39mshape(gt_bboxes)[\u001b[38;5;241m1\u001b[39m]\n\u001b[0;32m    246\u001b[0m \u001b[38;5;66;03m# If there are no GT boxes in the batch, we short-circuit and return\u001b[39;00m\n\u001b[0;32m    247\u001b[0m \u001b[38;5;66;03m# empty targets to avoid NaNs.\u001b[39;00m\n\u001b[1;32m--> 248\u001b[0m \u001b[38;5;28;01mreturn\u001b[39;00m \u001b[43mops\u001b[49m\u001b[38;5;241;43m.\u001b[39;49m\u001b[43mcond\u001b[49m\u001b[43m(\u001b[49m\n\u001b[0;32m    249\u001b[0m \u001b[43m    \u001b[49m\u001b[43mops\u001b[49m\u001b[38;5;241;43m.\u001b[39;49m\u001b[43marray\u001b[49m\u001b[43m(\u001b[49m\u001b[43mmax_num_boxes\u001b[49m\u001b[43m \u001b[49m\u001b[38;5;241;43m>\u001b[39;49m\u001b[43m \u001b[49m\u001b[38;5;241;43m0\u001b[39;49m\u001b[43m)\u001b[49m\u001b[43m,\u001b[49m\n\u001b[0;32m    250\u001b[0m \u001b[43m    \u001b[49m\u001b[38;5;28;43;01mlambda\u001b[39;49;00m\u001b[43m:\u001b[49m\u001b[43m \u001b[49m\u001b[38;5;28;43mself\u001b[39;49m\u001b[38;5;241;43m.\u001b[39;49m\u001b[43massign\u001b[49m\u001b[43m(\u001b[49m\n\u001b[0;32m    251\u001b[0m \u001b[43m        \u001b[49m\u001b[43mscores\u001b[49m\u001b[43m,\u001b[49m\u001b[43m \u001b[49m\u001b[43mdecode_bboxes\u001b[49m\u001b[43m,\u001b[49m\u001b[43m \u001b[49m\u001b[43manchors\u001b[49m\u001b[43m,\u001b[49m\u001b[43m \u001b[49m\u001b[43mgt_labels\u001b[49m\u001b[43m,\u001b[49m\u001b[43m \u001b[49m\u001b[43mgt_bboxes\u001b[49m\u001b[43m,\u001b[49m\u001b[43m \u001b[49m\u001b[43mgt_mask\u001b[49m\n\u001b[0;32m    252\u001b[0m \u001b[43m    \u001b[49m\u001b[43m)\u001b[49m\u001b[43m,\u001b[49m\n\u001b[0;32m    253\u001b[0m \u001b[43m    \u001b[49m\u001b[38;5;28;43;01mlambda\u001b[39;49;00m\u001b[43m:\u001b[49m\u001b[43m \u001b[49m\u001b[43m(\u001b[49m\n\u001b[0;32m    254\u001b[0m \u001b[43m        \u001b[49m\u001b[43mops\u001b[49m\u001b[38;5;241;43m.\u001b[39;49m\u001b[43mzeros_like\u001b[49m\u001b[43m(\u001b[49m\u001b[43mdecode_bboxes\u001b[49m\u001b[43m)\u001b[49m\u001b[43m,\u001b[49m\n\u001b[0;32m    255\u001b[0m \u001b[43m        \u001b[49m\u001b[43mops\u001b[49m\u001b[38;5;241;43m.\u001b[39;49m\u001b[43mzeros_like\u001b[49m\u001b[43m(\u001b[49m\u001b[43mscores\u001b[49m\u001b[43m)\u001b[49m\u001b[43m,\u001b[49m\n\u001b[0;32m    256\u001b[0m \u001b[43m        \u001b[49m\u001b[43mops\u001b[49m\u001b[38;5;241;43m.\u001b[39;49m\u001b[43mzeros_like\u001b[49m\u001b[43m(\u001b[49m\u001b[43mscores\u001b[49m\u001b[43m[\u001b[49m\u001b[38;5;241;43m.\u001b[39;49m\u001b[38;5;241;43m.\u001b[39;49m\u001b[38;5;241;43m.\u001b[39;49m\u001b[43m,\u001b[49m\u001b[43m \u001b[49m\u001b[38;5;241;43m0\u001b[39;49m\u001b[43m]\u001b[49m\u001b[43m)\u001b[49m\u001b[43m,\u001b[49m\n\u001b[0;32m    257\u001b[0m \u001b[43m    \u001b[49m\u001b[43m)\u001b[49m\u001b[43m,\u001b[49m\n\u001b[0;32m    258\u001b[0m \u001b[43m\u001b[49m\u001b[43m)\u001b[49m\n",
      "File \u001b[1;32mD:\\miniconda\\envs\\object_detection\\Lib\\site-packages\\keras_cv\\src\\models\\object_detection\\yolo_v8\\yolo_v8_label_encoder.py:250\u001b[0m, in \u001b[0;36mYOLOV8LabelEncoder.call.<locals>.<lambda>\u001b[1;34m()\u001b[0m\n\u001b[0;32m    244\u001b[0m max_num_boxes \u001b[38;5;241m=\u001b[39m ops\u001b[38;5;241m.\u001b[39mshape(gt_bboxes)[\u001b[38;5;241m1\u001b[39m]\n\u001b[0;32m    246\u001b[0m \u001b[38;5;66;03m# If there are no GT boxes in the batch, we short-circuit and return\u001b[39;00m\n\u001b[0;32m    247\u001b[0m \u001b[38;5;66;03m# empty targets to avoid NaNs.\u001b[39;00m\n\u001b[0;32m    248\u001b[0m \u001b[38;5;28;01mreturn\u001b[39;00m ops\u001b[38;5;241m.\u001b[39mcond(\n\u001b[0;32m    249\u001b[0m     ops\u001b[38;5;241m.\u001b[39marray(max_num_boxes \u001b[38;5;241m>\u001b[39m \u001b[38;5;241m0\u001b[39m),\n\u001b[1;32m--> 250\u001b[0m     \u001b[38;5;28;01mlambda\u001b[39;00m: \u001b[38;5;28;43mself\u001b[39;49m\u001b[38;5;241;43m.\u001b[39;49m\u001b[43massign\u001b[49m\u001b[43m(\u001b[49m\n\u001b[0;32m    251\u001b[0m \u001b[43m        \u001b[49m\u001b[43mscores\u001b[49m\u001b[43m,\u001b[49m\u001b[43m \u001b[49m\u001b[43mdecode_bboxes\u001b[49m\u001b[43m,\u001b[49m\u001b[43m \u001b[49m\u001b[43manchors\u001b[49m\u001b[43m,\u001b[49m\u001b[43m \u001b[49m\u001b[43mgt_labels\u001b[49m\u001b[43m,\u001b[49m\u001b[43m \u001b[49m\u001b[43mgt_bboxes\u001b[49m\u001b[43m,\u001b[49m\u001b[43m \u001b[49m\u001b[43mgt_mask\u001b[49m\n\u001b[0;32m    252\u001b[0m \u001b[43m    \u001b[49m\u001b[43m)\u001b[49m,\n\u001b[0;32m    253\u001b[0m     \u001b[38;5;28;01mlambda\u001b[39;00m: (\n\u001b[0;32m    254\u001b[0m         ops\u001b[38;5;241m.\u001b[39mzeros_like(decode_bboxes),\n\u001b[0;32m    255\u001b[0m         ops\u001b[38;5;241m.\u001b[39mzeros_like(scores),\n\u001b[0;32m    256\u001b[0m         ops\u001b[38;5;241m.\u001b[39mzeros_like(scores[\u001b[38;5;241m.\u001b[39m\u001b[38;5;241m.\u001b[39m\u001b[38;5;241m.\u001b[39m, \u001b[38;5;241m0\u001b[39m]),\n\u001b[0;32m    257\u001b[0m     ),\n\u001b[0;32m    258\u001b[0m )\n",
      "File \u001b[1;32mD:\\miniconda\\envs\\object_detection\\Lib\\site-packages\\keras_cv\\src\\models\\object_detection\\yolo_v8\\yolo_v8_label_encoder.py:97\u001b[0m, in \u001b[0;36mYOLOV8LabelEncoder.assign\u001b[1;34m(self, scores, decode_bboxes, anchors, gt_labels, gt_bboxes, gt_mask)\u001b[0m\n\u001b[0;32m     89\u001b[0m \u001b[38;5;66;03m# Box scores are the predicted scores for each anchor, ground truth box\u001b[39;00m\n\u001b[0;32m     90\u001b[0m \u001b[38;5;66;03m# pair. Only the predicted score for the class of the GT box is included\u001b[39;00m\n\u001b[0;32m     91\u001b[0m \u001b[38;5;66;03m# Shape: (B, num_gt_boxes, num_anchors) (after transpose)\u001b[39;00m\n\u001b[0;32m     92\u001b[0m bbox_scores \u001b[38;5;241m=\u001b[39m ops\u001b[38;5;241m.\u001b[39mtake_along_axis(\n\u001b[0;32m     93\u001b[0m     scores,\n\u001b[0;32m     94\u001b[0m     ops\u001b[38;5;241m.\u001b[39mcast(ops\u001b[38;5;241m.\u001b[39mmaximum(gt_labels[:, \u001b[38;5;28;01mNone\u001b[39;00m, :], \u001b[38;5;241m0\u001b[39m), \u001b[38;5;124m\"\u001b[39m\u001b[38;5;124mint32\u001b[39m\u001b[38;5;124m\"\u001b[39m),\n\u001b[0;32m     95\u001b[0m     axis\u001b[38;5;241m=\u001b[39m\u001b[38;5;241m-\u001b[39m\u001b[38;5;241m1\u001b[39m,\n\u001b[0;32m     96\u001b[0m )\n\u001b[1;32m---> 97\u001b[0m bbox_scores \u001b[38;5;241m=\u001b[39m \u001b[43mops\u001b[49m\u001b[38;5;241;43m.\u001b[39;49m\u001b[43mtranspose\u001b[49m\u001b[43m(\u001b[49m\u001b[43mbbox_scores\u001b[49m\u001b[43m,\u001b[49m\u001b[43m \u001b[49m\u001b[43m(\u001b[49m\u001b[38;5;241;43m0\u001b[39;49m\u001b[43m,\u001b[49m\u001b[43m \u001b[49m\u001b[38;5;241;43m2\u001b[39;49m\u001b[43m,\u001b[49m\u001b[43m \u001b[49m\u001b[38;5;241;43m1\u001b[39;49m\u001b[43m)\u001b[49m\u001b[43m)\u001b[49m\n\u001b[0;32m     99\u001b[0m \u001b[38;5;66;03m# Overlaps are the IoUs of each predicted box and each GT box.\u001b[39;00m\n\u001b[0;32m    100\u001b[0m \u001b[38;5;66;03m# Shape: (B, num_gt_boxes, num_anchors)\u001b[39;00m\n\u001b[0;32m    101\u001b[0m overlaps \u001b[38;5;241m=\u001b[39m compute_ciou(\n\u001b[0;32m    102\u001b[0m     ops\u001b[38;5;241m.\u001b[39mexpand_dims(gt_bboxes, axis\u001b[38;5;241m=\u001b[39m\u001b[38;5;241m2\u001b[39m),\n\u001b[0;32m    103\u001b[0m     ops\u001b[38;5;241m.\u001b[39mexpand_dims(decode_bboxes, axis\u001b[38;5;241m=\u001b[39m\u001b[38;5;241m1\u001b[39m),\n\u001b[0;32m    104\u001b[0m     bounding_box_format\u001b[38;5;241m=\u001b[39m\u001b[38;5;124m\"\u001b[39m\u001b[38;5;124mxyxy\u001b[39m\u001b[38;5;124m\"\u001b[39m,\n\u001b[0;32m    105\u001b[0m )\n",
      "\u001b[1;31mValueError\u001b[0m: Exception encountered when calling Cond.call().\n\n\u001b[1mDimension must be 4 but is 3 for '{{node yolov8_label_encoder_12_1/cond/transpose}} = Transpose[T=DT_FLOAT, Tperm=DT_INT32](yolov8_label_encoder_12_1/cond/Reshape_2, yolov8_label_encoder_12_1/cond/transpose/perm)' with input shapes: [?,?,?,?], [3].\u001b[0m\n\nArguments received by Cond.call():\n  • args=('tf.Tensor(shape=(), dtype=bool)', '<function YOLOV8LabelEncoder.call.<locals>.<lambda> at 0x0000016A8936ECA0>', '<function YOLOV8LabelEncoder.call.<locals>.<lambda> at 0x0000016A8936EF20>')\n  • kwargs=<class 'inspect._empty'>"
     ]
    }
   ],
   "source": [
    "# Train the model\n",
    "model.fit(\n",
    "    train_dataset,\n",
    "    epochs=50,  # Adjust based on your needs\n",
    "    validation_data=val_dataset  # Assuming you have a validation dataset\n",
    ")\n",
    "\n",
    "# Step 5: Evaluate the Model\n",
    "model.evaluate(val_dataset)\n",
    "\n",
    "# Step 6: Perform Inference on New Images\n",
    "# Assuming `test_images` is a batch of test images\n",
    "predictions = model.predict(test_images)\n",
    "\n",
    "# The predictions will include bounding boxes and class scores\n"
   ]
  },
  {
   "cell_type": "code",
   "execution_count": null,
   "id": "4e048de6-7e19-49e7-a0a2-787432b52fd0",
   "metadata": {},
   "outputs": [],
   "source": []
  }
 ],
 "metadata": {
  "kernelspec": {
   "display_name": "Python 3 (ipykernel)",
   "language": "python",
   "name": "python3"
  },
  "language_info": {
   "codemirror_mode": {
    "name": "ipython",
    "version": 3
   },
   "file_extension": ".py",
   "mimetype": "text/x-python",
   "name": "python",
   "nbconvert_exporter": "python",
   "pygments_lexer": "ipython3",
   "version": "3.12.3"
  }
 },
 "nbformat": 4,
 "nbformat_minor": 5
}
