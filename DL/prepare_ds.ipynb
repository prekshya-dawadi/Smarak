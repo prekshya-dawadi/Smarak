{
 "cells": [
  {
   "cell_type": "code",
   "execution_count": 9,
   "id": "2415e9d8-b68f-47b7-b7b1-09632788855e",
   "metadata": {},
   "outputs": [],
   "source": [
    "import tensorflow as tf\n",
    "import json\n",
    "import os\n",
    "import logging  # To log errors or missing files"
   ]
  },
  {
   "cell_type": "markdown",
   "id": "f5bb30dc-9c93-4611-9d3a-d3bf8a1ba506",
   "metadata": {},
   "source": [
    "## Images rename to image_id"
   ]
  },
  {
   "cell_type": "code",
   "execution_count": 20,
   "id": "daf9945d-6251-40d5-b29a-1ef1406d3e5c",
   "metadata": {},
   "outputs": [
    {
     "data": {
      "text/plain": [
       "'D:\\\\Projects\\\\DL\\\\MonumentDetection\\\\DL\\\\keras_cv'"
      ]
     },
     "execution_count": 20,
     "metadata": {},
     "output_type": "execute_result"
    }
   ],
   "source": [
    "os.getcwd()"
   ]
  },
  {
   "cell_type": "code",
   "execution_count": 27,
   "id": "f891ba62-378c-450d-bd25-6d5d6d540a8c",
   "metadata": {},
   "outputs": [],
   "source": [
    "os.chdir('coco-nyaptola')"
   ]
  },
  {
   "cell_type": "code",
   "execution_count": 31,
   "id": "c459b358-d8d0-4307-8a9c-2375a6276ad9",
   "metadata": {},
   "outputs": [
    {
     "data": {
      "text/plain": [
       "'D:\\\\Projects\\\\DL\\\\MonumentDetection\\\\DL\\\\keras_cv\\\\coco-nyaptola'"
      ]
     },
     "execution_count": 31,
     "metadata": {},
     "output_type": "execute_result"
    }
   ],
   "source": [
    "os.getcwd()"
   ]
  },
  {
   "cell_type": "code",
   "execution_count": 35,
   "id": "32e5427a-527a-4a89-865a-d81682ce18e8",
   "metadata": {},
   "outputs": [],
   "source": [
    "count = 0\n",
    "image_dir = 'images'\n",
    "for file in os.listdir(image_dir):\n",
    "    old_filename = os.path.join(image_dir, file)\n",
    "    new_filename = os.path.join(image_dir, str(count) + '.png')\n",
    "    os.rename(old_filename, new_filename)\n",
    "    count += 1"
   ]
  },
  {
   "cell_type": "markdown",
   "id": "2df3c78d-0864-4bcc-b858-9444eed83e97",
   "metadata": {},
   "source": [
    "## Keras_CV Compatible Annotation file"
   ]
  },
  {
   "cell_type": "code",
   "execution_count": 36,
   "id": "f4a26a95-db71-491c-bd39-b037bbf61337",
   "metadata": {},
   "outputs": [],
   "source": [
    "def load_and_convert_annotations(annotations_file, output_file):\n",
    "  with open(annotations_file, 'r') as f:\n",
    "    annotations = json.load(f)\n",
    "\n",
    "  xywh_annotations = convert_coco_to_xywh(annotations)\n",
    "\n",
    "  with open(output_file, 'w') as f:\n",
    "    json.dump(xywh_annotations, f, indent=2) "
   ]
  },
  {
   "cell_type": "code",
   "execution_count": 37,
   "id": "96d16172-c09b-4a19-a970-76bf81ac8bbf",
   "metadata": {},
   "outputs": [],
   "source": [
    "def convert_coco_to_xywh(annotations):\n",
    "  #Converts bounding boxes in COCO format to xywh format.\n",
    "  xywh_annotations = []\n",
    "  for ann in annotations[\"annotations\"]:\n",
    "    image_id = ann[\"image_id\"]\n",
    "    bbox = ann[\"bbox\"]  # Assuming bbox is in [xmin, ymin, width, height] format\n",
    "    x_min, y_min, width, height = bbox\n",
    "\n",
    "    # Convert to xywh format\n",
    "    x_center = x_min + width / 2\n",
    "    y_center = y_min + height / 2\n",
    "\n",
    "    xywh_annotations.append({\n",
    "      \"image_id\": image_id,\n",
    "      \"bbox\": [x_center, y_center, width, height],\n",
    "      \"category_id\": ann[\"category_id\"],  # Assuming category_id exists\n",
    "    })\n",
    "  return xywh_annotations"
   ]
  },
  {
   "cell_type": "code",
   "execution_count": 40,
   "id": "d3d63980-7acf-4060-bec4-4d6b1efb2bae",
   "metadata": {},
   "outputs": [],
   "source": [
    "annotation_file = \"result.json\"\n",
    "annotation_file = os.path.abspath(annotation_file)\n",
    "output_file = \"annotations.json\""
   ]
  },
  {
   "cell_type": "code",
   "execution_count": 41,
   "id": "db1826a9-040a-42c5-b59a-0afd8cd0a062",
   "metadata": {},
   "outputs": [],
   "source": [
    "converted_annotations = load_and_convert_annotations(annotation_file,output_file)"
   ]
  },
  {
   "cell_type": "markdown",
   "id": "124cfa78-aa8c-4a91-8dc5-a64844d87991",
   "metadata": {},
   "source": [
    "## Conversion of annotations to yolo format"
   ]
  },
  {
   "cell_type": "code",
   "execution_count": 2,
   "id": "70c7c7db-0af6-4a55-b402-e5227c7f4d46",
   "metadata": {},
   "outputs": [
    {
     "name": "stdout",
     "output_type": "stream",
     "text": [
      "Collecting xmltodict\n",
      "  Downloading xmltodict-0.13.0-py2.py3-none-any.whl.metadata (7.7 kB)\n",
      "Downloading xmltodict-0.13.0-py2.py3-none-any.whl (10.0 kB)\n",
      "Installing collected packages: xmltodict\n",
      "Successfully installed xmltodict-0.13.0\n"
     ]
    },
    {
     "name": "stderr",
     "output_type": "stream",
     "text": [
      "DEPRECATION: Loading egg at c:\\users\\acer\\anaconda3\\envs\\object_detection\\lib\\site-packages\\avro_python3-1.10.2-py3.9.egg is deprecated. pip 24.3 will enforce this behaviour change. A possible replacement is to use pip for package installation.. Discussion can be found at https://github.com/pypa/pip/issues/12330\n"
     ]
    }
   ],
   "source": [
    "!pip install xmltodict\n"
   ]
  },
  {
   "cell_type": "code",
   "execution_count": 4,
   "id": "9335602c-2e39-475e-a00e-573bb3cc2780",
   "metadata": {},
   "outputs": [],
   "source": [
    "import xmltodict\n",
    "import os\n",
    "\n",
    "# Function to convert XML to YOLO format\n",
    "def convert_annotation(xml_file):\n",
    "    with open(xml_file, 'r') as file:\n",
    "        annotation = xmltodict.parse(file.read())['annotation']\n",
    "    \n",
    "    yolo_annotations = []\n",
    "    \n",
    "    # Check if 'object' is a list or a single item\n",
    "    objects = annotation.get('object', [])\n",
    "    \n",
    "    if isinstance(objects, dict):\n",
    "        # If it's a dictionary, convert it to a list for consistent processing\n",
    "        objects = [objects]\n",
    "\n",
    "    for obj in objects:\n",
    "        class_name = obj['name']\n",
    "        bbox = obj['bndbox']\n",
    "        \n",
    "        xmin = int(bbox['xmin'])\n",
    "        ymin = int(bbox['ymin'])\n",
    "        xmax = int(bbox['xmax'])\n",
    "        ymax = int(bbox['xmax'])\n",
    "        \n",
    "        # Calculate YOLO format\n",
    "        image_width = int(annotation['size']['width'])\n",
    "        image_height = int(annotation['size']['height'])\n",
    "\n",
    "        x_center = (xmin + xmax) / 2 / image_width\n",
    "        y_center = (ymin + ymax) / 2 / image_height\n",
    "        width = (xmax - xmin) / image_width\n",
    "        height = (ymax - ymin) / image_height\n",
    "        \n",
    "        class_id = 0  # Adjust according to your class mapping\n",
    "        yolo_annotations.append(f\"{class_id} {x_center:.6f} {y_center:.6f} {width:.6f} {height:.6f}\")\n",
    "\n",
    "    return yolo_annotations\n"
   ]
  },
  {
   "cell_type": "code",
   "execution_count": 5,
   "id": "2853b0fb-ce83-4462-bbf3-0a430eafd7ef",
   "metadata": {},
   "outputs": [],
   "source": [
    "# Loop over all XML annotation files\n",
    "for annotation_file in os.listdir(annotations_path):\n",
    "    if annotation_file.endswith('.xml'):\n",
    "        xml_path = os.path.join(annotations_path, annotation_file)\n",
    "        \n",
    "        # Convert XML to YOLO format\n",
    "        yolo_annotations = convert_annotation(xml_path)\n",
    "        \n",
    "        # Create corresponding text file for YOLO\n",
    "        txt_filename = annotation_file.replace('.xml', '.txt')\n",
    "        txt_path = os.path.join(output_path, txt_filename)\n",
    "        \n",
    "        with open(txt_path, 'w') as txt_file:\n",
    "            txt_file.write('\\n'.join(yolo_annotations))"
   ]
  },
  {
   "cell_type": "code",
   "execution_count": 6,
   "id": "d0b2a137-1ce1-4818-a89c-068644b0ab6c",
   "metadata": {},
   "outputs": [],
   "source": [
    "import os\n",
    "import shutil\n",
    "import random\n",
    "\n",
    "# Set paths\n",
    "images_path = \"dataset/images/\"\n",
    "yolo_labels_path = \"dataset/yolo_labels/\"\n",
    "\n",
    "# Create directories for training and validation\n",
    "os.makedirs(\"dataset/train/images\", exist_ok=True)\n",
    "os.makedirs(\"dataset/train/labels\", exist_ok=True)\n",
    "os.makedirs(\"dataset/val/images\", exist_ok=True)\n",
    "os.makedirs(\"dataset/val/labels\", exist_ok=True)\n",
    "\n",
    "# List all images\n",
    "images = os.listdir(images_path)\n",
    "\n",
    "# Shuffle images and split into training and validation\n",
    "random.shuffle(images)\n",
    "train_ratio = 0.8\n",
    "num_train = int(len(images) * train_ratio)\n",
    "\n",
    "train_images = images[:num_train]\n",
    "val_images = images[num_train:]\n",
    "\n",
    "# Move images and corresponding labels to respective directories\n",
    "for image in train_images:\n",
    "    base_name = os.path.splitext(image)[0]\n",
    "    label_file = f\"{base_name}.txt\"\n",
    "    \n",
    "    shutil.copy(os.path.join(images_path, image), \"dataset/train/images/\")\n",
    "    shutil.copy(os.path.join(yolo_labels_path, label_file), \"dataset/train/labels/\")\n",
    "\n",
    "for image in val_images:\n",
    "    base_name = os.path.splitext(image)[0]\n",
    "    label_file = f\"{base_name}.txt\"\n",
    "    \n",
    "    shutil.copy(os.path.join(images_path, image), \"dataset/val/images/\")\n",
    "    shutil.copy(os.path.join(yolo_labels_path, label_file), \"dataset/val/labels/\")\n"
   ]
  },
  {
   "cell_type": "code",
   "execution_count": null,
   "id": "bd8818d8-9d69-4b36-b774-684cd688b0f5",
   "metadata": {},
   "outputs": [],
   "source": []
  }
 ],
 "metadata": {
  "kernelspec": {
   "display_name": "Python 3 (ipykernel)",
   "language": "python",
   "name": "python3"
  },
  "language_info": {
   "codemirror_mode": {
    "name": "ipython",
    "version": 3
   },
   "file_extension": ".py",
   "mimetype": "text/x-python",
   "name": "python",
   "nbconvert_exporter": "python",
   "pygments_lexer": "ipython3",
   "version": "3.12.3"
  }
 },
 "nbformat": 4,
 "nbformat_minor": 5
}
