{
 "cells": [
  {
   "cell_type": "code",
   "execution_count": 9,
   "id": "2415e9d8-b68f-47b7-b7b1-09632788855e",
   "metadata": {},
   "outputs": [],
   "source": [
    "import tensorflow as tf\n",
    "import json\n",
    "import os\n",
    "import logging  # To log errors or missing files"
   ]
  },
  {
   "cell_type": "markdown",
   "id": "f5bb30dc-9c93-4611-9d3a-d3bf8a1ba506",
   "metadata": {},
   "source": [
    "## Images rename to image_id"
   ]
  },
  {
   "cell_type": "code",
   "execution_count": 20,
   "id": "daf9945d-6251-40d5-b29a-1ef1406d3e5c",
   "metadata": {},
   "outputs": [
    {
     "data": {
      "text/plain": [
       "'D:\\\\Projects\\\\DL\\\\MonumentDetection\\\\DL\\\\keras_cv'"
      ]
     },
     "execution_count": 20,
     "metadata": {},
     "output_type": "execute_result"
    }
   ],
   "source": [
    "os.getcwd()"
   ]
  },
  {
   "cell_type": "code",
   "execution_count": 27,
   "id": "f891ba62-378c-450d-bd25-6d5d6d540a8c",
   "metadata": {},
   "outputs": [],
   "source": [
    "os.chdir('coco-nyaptola')"
   ]
  },
  {
   "cell_type": "code",
   "execution_count": 31,
   "id": "c459b358-d8d0-4307-8a9c-2375a6276ad9",
   "metadata": {},
   "outputs": [
    {
     "data": {
      "text/plain": [
       "'D:\\\\Projects\\\\DL\\\\MonumentDetection\\\\DL\\\\keras_cv\\\\coco-nyaptola'"
      ]
     },
     "execution_count": 31,
     "metadata": {},
     "output_type": "execute_result"
    }
   ],
   "source": [
    "os.getcwd()"
   ]
  },
  {
   "cell_type": "code",
   "execution_count": 35,
   "id": "32e5427a-527a-4a89-865a-d81682ce18e8",
   "metadata": {},
   "outputs": [],
   "source": [
    "count = 0\n",
    "image_dir = 'images'\n",
    "for file in os.listdir(image_dir):\n",
    "    old_filename = os.path.join(image_dir, file)\n",
    "    new_filename = os.path.join(image_dir, str(count) + '.png')\n",
    "    os.rename(old_filename, new_filename)\n",
    "    count += 1"
   ]
  },
  {
   "cell_type": "markdown",
   "id": "2df3c78d-0864-4bcc-b858-9444eed83e97",
   "metadata": {},
   "source": [
    "## Keras_CV Compatible Annotation file"
   ]
  },
  {
   "cell_type": "code",
   "execution_count": 36,
   "id": "f4a26a95-db71-491c-bd39-b037bbf61337",
   "metadata": {},
   "outputs": [],
   "source": [
    "def load_and_convert_annotations(annotations_file, output_file):\n",
    "  with open(annotations_file, 'r') as f:\n",
    "    annotations = json.load(f)\n",
    "\n",
    "  xywh_annotations = convert_coco_to_xywh(annotations)\n",
    "\n",
    "  with open(output_file, 'w') as f:\n",
    "    json.dump(xywh_annotations, f, indent=2) "
   ]
  },
  {
   "cell_type": "code",
   "execution_count": 37,
   "id": "96d16172-c09b-4a19-a970-76bf81ac8bbf",
   "metadata": {},
   "outputs": [],
   "source": [
    "def convert_coco_to_xywh(annotations):\n",
    "  #Converts bounding boxes in COCO format to xywh format.\n",
    "  xywh_annotations = []\n",
    "  for ann in annotations[\"annotations\"]:\n",
    "    image_id = ann[\"image_id\"]\n",
    "    bbox = ann[\"bbox\"]  # Assuming bbox is in [xmin, ymin, width, height] format\n",
    "    x_min, y_min, width, height = bbox\n",
    "\n",
    "    # Convert to xywh format\n",
    "    x_center = x_min + width / 2\n",
    "    y_center = y_min + height / 2\n",
    "\n",
    "    xywh_annotations.append({\n",
    "      \"image_id\": image_id,\n",
    "      \"bbox\": [x_center, y_center, width, height],\n",
    "      \"category_id\": ann[\"category_id\"],  # Assuming category_id exists\n",
    "    })\n",
    "  return xywh_annotations"
   ]
  },
  {
   "cell_type": "code",
   "execution_count": 40,
   "id": "d3d63980-7acf-4060-bec4-4d6b1efb2bae",
   "metadata": {},
   "outputs": [],
   "source": [
    "annotation_file = \"result.json\"\n",
    "annotation_file = os.path.abspath(annotation_file)\n",
    "output_file = \"annotations.json\""
   ]
  },
  {
   "cell_type": "code",
   "execution_count": 41,
   "id": "db1826a9-040a-42c5-b59a-0afd8cd0a062",
   "metadata": {},
   "outputs": [],
   "source": [
    "converted_annotations = load_and_convert_annotations(annotation_file,output_file)"
   ]
  },
  {
   "cell_type": "code",
   "execution_count": null,
   "id": "5f36d0c5-0ef5-40a4-9ce2-b64e8b556328",
   "metadata": {},
   "outputs": [],
   "source": []
  }
 ],
 "metadata": {
  "kernelspec": {
   "display_name": "Python 3 (ipykernel)",
   "language": "python",
   "name": "python3"
  },
  "language_info": {
   "codemirror_mode": {
    "name": "ipython",
    "version": 3
   },
   "file_extension": ".py",
   "mimetype": "text/x-python",
   "name": "python",
   "nbconvert_exporter": "python",
   "pygments_lexer": "ipython3",
   "version": "3.12.3"
  }
 },
 "nbformat": 4,
 "nbformat_minor": 5
}
