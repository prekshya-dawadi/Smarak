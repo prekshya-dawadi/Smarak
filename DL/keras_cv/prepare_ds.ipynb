{
 "cells": [
  {
   "cell_type": "code",
   "execution_count": 1,
   "id": "2415e9d8-b68f-47b7-b7b1-09632788855e",
   "metadata": {},
   "outputs": [],
   "source": [
    "import tensorflow as tf\n",
    "import json\n",
    "import os\n",
    "import logging  # To log errors or missing files"
   ]
  },
  {
   "cell_type": "code",
   "execution_count": 2,
   "id": "96d16172-c09b-4a19-a970-76bf81ac8bbf",
   "metadata": {},
   "outputs": [],
   "source": [
    "def convert_coco_to_xywh(annotations):\n",
    "  #Converts bounding boxes in COCO format to xywh format.\n",
    "  xywh_annotations = []\n",
    "  for ann in annotations[\"annotations\"]:\n",
    "    image_id = ann[\"image_id\"]\n",
    "    bbox = ann[\"bbox\"]  # Assuming bbox is in [xmin, ymin, width, height] format\n",
    "    x_min, y_min, width, height = bbox\n",
    "\n",
    "    # Convert to xywh format\n",
    "    x_center = x_min + width / 2\n",
    "    y_center = y_min + height / 2\n",
    "\n",
    "    xywh_annotations.append({\n",
    "      \"image_id\": image_id,\n",
    "      \"bbox\": [x_center, y_center, width, height],\n",
    "      \"category_id\": ann[\"category_id\"],  # Assuming category_id exists\n",
    "    })\n",
    "  return xywh_annotations"
   ]
  },
  {
   "cell_type": "code",
   "execution_count": 3,
   "id": "d3d63980-7acf-4060-bec4-4d6b1efb2bae",
   "metadata": {},
   "outputs": [],
   "source": [
    "annotation_file = \"D:/Projects/DL/MonumentDetection/DL/keras_cv/coco-nyaptola/result.json\"\n",
    "annotation_file = os.path.abspath(annotation_file)"
   ]
  },
  {
   "cell_type": "code",
   "execution_count": null,
   "id": "db1826a9-040a-42c5-b59a-0afd8cd0a062",
   "metadata": {},
   "outputs": [],
   "source": []
  }
 ],
 "metadata": {
  "kernelspec": {
   "display_name": "Python 3 (ipykernel)",
   "language": "python",
   "name": "python3"
  },
  "language_info": {
   "codemirror_mode": {
    "name": "ipython",
    "version": 3
   },
   "file_extension": ".py",
   "mimetype": "text/x-python",
   "name": "python",
   "nbconvert_exporter": "python",
   "pygments_lexer": "ipython3",
   "version": "3.12.3"
  }
 },
 "nbformat": 4,
 "nbformat_minor": 5
}
