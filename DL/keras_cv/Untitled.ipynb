{
 "cells": [
  {
   "cell_type": "code",
   "execution_count": 36,
   "id": "cfa141a4-a900-4d62-b14e-dc21511dffe8",
   "metadata": {},
   "outputs": [],
   "source": [
    "import os\n",
    "import tensorflow as tf\n",
    "import numpy as np\n",
    "from PIL import Image\n",
    "from pathlib import Path"
   ]
  },
  {
   "cell_type": "code",
   "execution_count": 37,
   "id": "792411ba-376d-4537-8857-2ea473b2cffe",
   "metadata": {},
   "outputs": [],
   "source": [
    "# Constants\n",
    "IMAGE_SIZE = (416, 416)  # Input size for YOLOv8\n",
    "BATCH_SIZE = 16  # Number of samples per batch"
   ]
  },
  {
   "cell_type": "code",
   "execution_count": 38,
   "id": "69756c5b-db71-4a0d-8313-7b6ca82c4a30",
   "metadata": {},
   "outputs": [],
   "source": [
    "# Path to the dataset\n",
    "TRAIN_IMAGES_DIR = \"dataset/train/images/\"\n",
    "TRAIN_LABELS_DIR = \"dataset/train/labels/\"\n",
    "\n",
    "VAL_IMAGES_DIR = \"dataset/val/images/\"\n",
    "VAL_LABELS_DIR = \"dataset/val/labels/\""
   ]
  },
  {
   "cell_type": "code",
   "execution_count": 39,
   "id": "e719a1b1-b7a4-4697-9f5b-2dfa4b89ab40",
   "metadata": {},
   "outputs": [],
   "source": [
    "# Function to load and preprocess images\n",
    "def load_image(image_path):\n",
    "    if isinstance(image_path, tf.Tensor):  # Check if it's a TensorFlow tensor\n",
    "        image_path = image_path.numpy().decode(\"utf-8\")  # Convert to string\n",
    "    image = Image.open(image_path).resize(IMAGE_SIZE)  # Resize\n",
    "    image = np.array(image) / 255.0  # Normalize\n",
    "    return image.astype(np.float32)"
   ]
  },
  {
   "cell_type": "code",
   "execution_count": 40,
   "id": "e6680462-dfd2-4fb5-ae1d-5a65f384e102",
   "metadata": {},
   "outputs": [],
   "source": [
    "# Function to load and parse YOLO annotations\n",
    "def load_yolo_annotations(label_path):\n",
    "    if isinstance(label_path, tf.Tensor):\n",
    "        label_path = label_path.numpy().decode(\"utf-8\")\n",
    "    \n",
    "    annotations = []\n",
    "    with open(label_path, 'r') as file:\n",
    "        for line in file:\n",
    "            parts = line.strip().split(\" \")\n",
    "            class_id = int(parts[0])\n",
    "            x_center = float(parts[1])\n",
    "            y_center = float(parts[2])\n",
    "            width = float(parts[3])\n",
    "            height = float(parts[4])\n",
    "\n",
    "            # Convert YOLO to bounding box format\n",
    "            x_min = (x_center - width / 2) * IMAGE_SIZE[0]\n",
    "            y_min = (y_center - height / 2) * IMAGE_SIZE[1]\n",
    "            x_max = (x_center + width / 2) * IMAGE_SIZE[0]\n",
    "            y_max = (x_center + height / 2) * IMAGE_SIZE[1]\n",
    "\n",
    "            annotations.append([x_min, y_min, x_max, y_max, class_id])\n",
    "\n",
    "    return np.array(annotations, dtype=np.float32)"
   ]
  },
  {
   "cell_type": "code",
   "execution_count": 41,
   "id": "3cb9598a-87bd-4e6e-bc15-fb359fa7d245",
   "metadata": {},
   "outputs": [],
   "source": [
    "# Function to load image and corresponding annotations\n",
    "def load_sample(image_path):\n",
    "    if isinstance(image_path, tf.Tensor):\n",
    "        image_path = image_path.numpy().decode(\"utf-8\")  # Explicit conversion to string\n",
    "    \n",
    "    image = load_image(image_path)\n",
    "    label_path = TRAIN_LABELS_DIR + Path(image_path).stem + \".txt\"  # Now label_path is a valid string\n",
    "    annotations = load_yolo_annotations(label_path)\n",
    "    return image, annotations\n"
   ]
  },
  {
   "cell_type": "code",
   "execution_count": 42,
   "id": "c29aff6b-e9b5-4cbe-b980-908f35af6efc",
   "metadata": {},
   "outputs": [],
   "source": [
    "def data_loader(images_dir, batch_size):\n",
    "    image_paths = list(Path(images_dir).rglob(\"*.jpg\"))  # Get all image paths\n",
    "    \n",
    "    # Create TensorFlow dataset\n",
    "    dataset = tf.data.Dataset.from_tensor_slices([str(p) for p in image_paths])\n",
    "\n",
    "    # Map function to load images and annotations\n",
    "    dataset = dataset.map(\n",
    "        lambda x: tf.py_function(\n",
    "            load_sample, [x], [tf.float32, tf.float32]\n",
    "        ),\n",
    "        num_parallel_calls=tf.data.AUTOTUNE,\n",
    "    )\n",
    "\n",
    "    # Apply batching and prefetching\n",
    "    dataset = dataset.batch(batch_size).prefetch(tf.data.AUTOTUNE)\n",
    "    \n",
    "    return dataset"
   ]
  },
  {
   "cell_type": "code",
   "execution_count": 43,
   "id": "a51bd074-4fee-4359-b609-5c9b504af1f7",
   "metadata": {},
   "outputs": [
    {
     "name": "stdout",
     "output_type": "stream",
     "text": [
      "Image batch shape: (1, 416, 416, 3)\n",
      "Labels batch shape: (1, 1, 5)\n"
     ]
    }
   ],
   "source": [
    "# Create training dataset\n",
    "train_dataset = data_loader(TRAIN_IMAGES_DIR, BATCH_SIZE)\n",
    "\n",
    "# Test if the dataset can be iterated over without errors\n",
    "for batch in train_dataset:\n",
    "    images, labels = batch  # Verify the output\n",
    "    print(\"Image batch shape:\", images.shape)  # Should be (BATCH_SIZE, 416, 416, 3)\n",
    "    print(\"Labels batch shape:\", labels.shape)  # Varies based on annotations\n"
   ]
  },
  {
   "cell_type": "code",
   "execution_count": 26,
   "id": "2028e889-15af-4674-9509-628dac435060",
   "metadata": {},
   "outputs": [
    {
     "name": "stdout",
     "output_type": "stream",
     "text": [
      "Requirement already satisfied: matplotlib in c:\\users\\acer\\anaconda3\\envs\\object_detection\\lib\\site-packages (3.8.4)\n",
      "Requirement already satisfied: contourpy>=1.0.1 in c:\\users\\acer\\anaconda3\\envs\\object_detection\\lib\\site-packages (from matplotlib) (1.2.1)\n",
      "Requirement already satisfied: cycler>=0.10 in c:\\users\\acer\\anaconda3\\envs\\object_detection\\lib\\site-packages (from matplotlib) (0.12.1)\n",
      "Requirement already satisfied: fonttools>=4.22.0 in c:\\users\\acer\\anaconda3\\envs\\object_detection\\lib\\site-packages (from matplotlib) (4.51.0)\n",
      "Requirement already satisfied: kiwisolver>=1.3.1 in c:\\users\\acer\\anaconda3\\envs\\object_detection\\lib\\site-packages (from matplotlib) (1.4.5)\n",
      "Requirement already satisfied: numpy>=1.21 in c:\\users\\acer\\anaconda3\\envs\\object_detection\\lib\\site-packages (from matplotlib) (1.26.4)\n",
      "Requirement already satisfied: packaging>=20.0 in c:\\users\\acer\\anaconda3\\envs\\object_detection\\lib\\site-packages (from matplotlib) (24.0)\n",
      "Requirement already satisfied: pillow>=8 in c:\\users\\acer\\anaconda3\\envs\\object_detection\\lib\\site-packages (from matplotlib) (10.3.0)\n",
      "Requirement already satisfied: pyparsing>=2.3.1 in c:\\users\\acer\\anaconda3\\envs\\object_detection\\lib\\site-packages (from matplotlib) (3.1.2)\n",
      "Requirement already satisfied: python-dateutil>=2.7 in c:\\users\\acer\\anaconda3\\envs\\object_detection\\lib\\site-packages (from matplotlib) (2.9.0)\n",
      "Requirement already satisfied: six>=1.5 in c:\\users\\acer\\anaconda3\\envs\\object_detection\\lib\\site-packages (from python-dateutil>=2.7->matplotlib) (1.16.0)\n"
     ]
    },
    {
     "name": "stderr",
     "output_type": "stream",
     "text": [
      "DEPRECATION: Loading egg at c:\\users\\acer\\anaconda3\\envs\\object_detection\\lib\\site-packages\\avro_python3-1.10.2-py3.9.egg is deprecated. pip 24.3 will enforce this behaviour change. A possible replacement is to use pip for package installation.. Discussion can be found at https://github.com/pypa/pip/issues/12330\n"
     ]
    }
   ],
   "source": [
    "# Install necessary visualization libraries\n",
    "!pip install matplotlib"
   ]
  },
  {
   "cell_type": "code",
   "execution_count": 44,
   "id": "14d54da0-bcc6-4975-84be-456c7ba1e667",
   "metadata": {},
   "outputs": [],
   "source": [
    "import keras_cv\n",
    "import matplotlib.pyplot as plt\n",
    "import keras_cv.visualization as visualization"
   ]
  },
  {
   "cell_type": "code",
   "execution_count": 49,
   "id": "a5dffbdd-4c1f-44b6-83f6-0814bdad0af3",
   "metadata": {},
   "outputs": [],
   "source": [
    "# Function to separate class IDs from bounding box coordinates\n",
    "def extract_bounding_box_info(bounding_boxes_raw):\n",
    "    # Check if the last dimension has five elements\n",
    "    if bounding_boxes_raw.shape[-1] == 5:\n",
    "        # Extract the class ID (last element) and bounding box coordinates\n",
    "        class_ids = bounding_boxes_raw[..., -1]  # The last element is the class ID\n",
    "        bounding_boxes = bounding_boxes_raw[..., :-1]  # The rest is the bounding box coordinates\n",
    "    else:\n",
    "        raise ValueError(f\"Unexpected bounding box shape: {bounding_boxes_raw.shape}\")\n",
    "    return bounding_boxes, class_ids"
   ]
  },
  {
   "cell_type": "code",
   "execution_count": 52,
   "id": "b7b72f97-5958-4bac-9887-a37bd090f3ad",
   "metadata": {},
   "outputs": [],
   "source": [
    "# Function to visualize bounding boxes in a gallery format\n",
    "def visualize_dataset(dataset, value_range, default_rows, default_cols, bounding_box_format):\n",
    "    # Get the first batch from the dataset\n",
    "    batch = next(iter(dataset.take(1)))  # Get the first batch\n",
    "    \n",
    "    # Extract images and raw bounding boxes\n",
    "    images, bounding_boxes_raw = batch\n",
    "    \n",
    "    # Ensure there are images to plot\n",
    "    if images.shape[0] == 0:\n",
    "        raise ValueError(\"No images found in the dataset.\")\n",
    "\n",
    "    # If there's only one image, adjust rows and columns\n",
    "    total_images = images.shape[0]\n",
    "    rows = min(default_rows, total_images)  # Adjust rows based on available images\n",
    "    cols = math.ceil(total_images / rows)  # Adjust columns based on rows and total images\n",
    "\n",
    "    # Extract bounding boxes and class IDs\n",
    "    bounding_boxes, class_ids = extract_bounding_box_info(bounding_boxes_raw)\n",
    "\n",
    "    # Convert bounding box format\n",
    "    bounding_boxes = keras_cv.bounding_box.convert_format(\n",
    "        bounding_boxes,\n",
    "        source=bounding_box_format,\n",
    "        target=\"xywh\",\n",
    "    )\n",
    "\n",
    "    # Create class mappings for visualization\n",
    "    class_mapping = {int(cls): f\"Class {cls}\" for cls in np.unique(class_ids)}  # Adjust for your dataset\n",
    "    \n",
    "    # Plot bounding boxes on images\n",
    "    visualization.plot_bounding_box_gallery(\n",
    "        images,\n",
    "        value_range=value_range,\n",
    "        rows=rows,\n",
    "        cols=cols,\n",
    "        y_true={\n",
    "            \"classes\": class_ids,\n",
    "            \"boxes\": bounding_boxes,\n",
    "        },\n",
    "        scale=5,\n",
    "        font_scale=0.7,\n",
    "        bounding_box_format=\"xywh\",\n",
    "        class_mapping=class_mapping,\n",
    "    )"
   ]
  },
  {
   "cell_type": "code",
   "execution_count": 55,
   "id": "547d6929-d56d-448d-8a24-404a14ba654a",
   "metadata": {},
   "outputs": [],
   "source": [
    "import math"
   ]
  },
  {
   "cell_type": "code",
   "execution_count": 58,
   "id": "84af5ea1-f503-408c-8ee4-b89a7be5af3f",
   "metadata": {},
   "outputs": [
    {
     "data": {
      "image/png": "[encoded data removed]",
      "text/plain": [
       "<Figure size 500x500 with 1 Axes>"
      ]
     },
     "metadata": {},
     "output_type": "display_data"
    }
   ],
   "source": [
    "# Create training dataset\n",
    "train_dataset = data_loader(TRAIN_IMAGES_DIR, BATCH_SIZE)\n",
    "\n",
    "# Test visualization with updated dynamic row/column size\n",
    "visualize_dataset(train_dataset, value_range=(0, 1), default_rows=2, default_cols=2, bounding_box_format=\"xywh\")\n"
   ]
  },
  {
   "cell_type": "code",
   "execution_count": 48,
   "id": "0eeb609e-5bd4-4a9d-be65-711bafa4a1b0",
   "metadata": {},
   "outputs": [
    {
     "name": "stdout",
     "output_type": "stream",
     "text": [
      "Images shape: (1, 416, 416, 3)\n",
      "Bounding boxes shape: (1, 1, 5)\n"
     ]
    }
   ],
   "source": [
    "# Create training dataset\n",
    "train_dataset = data_loader(TRAIN_IMAGES_DIR, BATCH_SIZE)\n",
    "\n",
    "# Retrieve the first batch to inspect\n",
    "first_batch = next(iter(train_dataset.take(1)))\n",
    "images, bounding_boxes = first_batch\n",
    "\n",
    "# Display the shapes of the outputs\n",
    "print(\"Images shape:\", images.shape)  # Should be (BATCH_SIZE, height, width, channels)\n",
    "print(\"Bounding boxes shape:\", bounding_boxes.shape)  # Expected (BATCH_SIZE, num_boxes, 5 or 4)\n"
   ]
  },
  {
   "cell_type": "code",
   "execution_count": null,
   "id": "feb94667-e234-4120-9b67-5b7fc5952d6a",
   "metadata": {},
   "outputs": [],
   "source": []
  }
 ],
 "metadata": {
  "kernelspec": {
   "display_name": "Python 3 (ipykernel)",
   "language": "python",
   "name": "python3"
  },
  "language_info": {
   "codemirror_mode": {
    "name": "ipython",
    "version": 3
   },
   "file_extension": ".py",
   "mimetype": "text/x-python",
   "name": "python",
   "nbconvert_exporter": "python",
   "pygments_lexer": "ipython3",
   "version": "3.12.3"
  }
 },
 "nbformat": 4,
 "nbformat_minor": 5
}
