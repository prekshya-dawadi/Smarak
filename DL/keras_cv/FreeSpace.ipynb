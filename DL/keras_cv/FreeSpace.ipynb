{
 "cells": [
  {
   "cell_type": "code",
   "execution_count": 1,
   "id": "af8f17a4-c9b6-4474-85d9-db6ae1d31cff",
   "metadata": {},
   "outputs": [
    {
     "ename": "SyntaxError",
     "evalue": "invalid character '“' (U+201C) (1700823340.py, line 7)",
     "output_type": "error",
     "traceback": [
      "\u001b[1;36m  Cell \u001b[1;32mIn[1], line 7\u001b[1;36m\u001b[0m\n\u001b[1;33m    if hasattr(cell, “outputs”):\u001b[0m\n\u001b[1;37m                     ^\u001b[0m\n\u001b[1;31mSyntaxError\u001b[0m\u001b[1;31m:\u001b[0m invalid character '“' (U+201C)\n"
     ]
    }
   ],
   "source": [
    "from nbformat import read, write\n",
    "\n",
    "def Remove_Output(Book):\n",
    "\n",
    "    for cell in Book.cells:\n",
    "\n",
    "        if hasattr(cell, “outputs”):\n",
    "    \n",
    "            cell.outputs = []\n",
    "\n",
    "        if hasattr(cell, “prompt_number”):\n",
    "\n",
    "            del cell[“prompt_number”]\n",
    "\n",
    "Book= read(open(“Untitled.ipynb”), 4)\n",
    "Remove_Output(Book)\n",
    "write(Book, open(“Model for notebook.ipynb”, “w”), 4)"
   ]
  },
  {
   "cell_type": "code",
   "execution_count": null,
   "id": "199d55ae-0b12-40ca-9bf9-b128bdd7f32d",
   "metadata": {},
   "outputs": [],
   "source": []
  }
 ],
 "metadata": {
  "kernelspec": {
   "display_name": "Python 3 (ipykernel)",
   "language": "python",
   "name": "python3"
  },
  "language_info": {
   "codemirror_mode": {
    "name": "ipython",
    "version": 3
   },
   "file_extension": ".py",
   "mimetype": "text/x-python",
   "name": "python",
   "nbconvert_exporter": "python",
   "pygments_lexer": "ipython3",
   "version": "3.12.3"
  }
 },
 "nbformat": 4,
 "nbformat_minor": 5
}
