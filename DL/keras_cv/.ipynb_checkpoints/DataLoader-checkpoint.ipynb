{
 "cells": [
  {
   "cell_type": "markdown",
   "id": "dd1be4f1-92ee-4f92-a8d3-cec66fe2d43e",
   "metadata": {},
   "source": [
    "## Data Loader"
   ]
  },
  {
   "cell_type": "code",
   "execution_count": 4,
   "id": "cd1374f1-5dad-4cc5-94e5-a5d1c0244b0f",
   "metadata": {},
   "outputs": [],
   "source": [
    "import tensorflow as tf\n",
    "import json\n",
    "import os\n",
    "import logging  # To log errors or missing files\n",
    "from collections import namedtuple\n",
    "import numpy"
   ]
  },
  {
   "cell_type": "code",
   "execution_count": 5,
   "id": "f99a5446-1b21-431e-b40b-b588e13ebb17",
   "metadata": {},
   "outputs": [],
   "source": [
    "# configures basic logging to print informational messages\n",
    "logging.basicConfig(level=logging.INFO)"
   ]
  },
  {
   "cell_type": "code",
   "execution_count": 6,
   "id": "56dec583-c3f0-45a9-967e-f3ceab3489f3",
   "metadata": {},
   "outputs": [],
   "source": [
    "annotation_file = \"annotations.json\"\n",
    "image_folder = \"coco-nyaptola/images\"\n",
    "\n",
    "# Convert to absolute paths for reliable file access\n",
    "annotation_file = os.path.abspath(annotation_file)\n",
    "image_folder = os.path.abspath(image_folder)\n"
   ]
  },
  {
   "cell_type": "code",
   "execution_count": 7,
   "id": "ca214c27-88e7-4b57-85b6-518ed0795e57",
   "metadata": {},
   "outputs": [],
   "source": [
    "ImageData = namedtuple('ImageData',['image','target'])"
   ]
  },
  {
   "cell_type": "code",
   "execution_count": 8,
   "id": "27fbd3e1-cfa0-42c9-9bea-dcdf5aab83b2",
   "metadata": {},
   "outputs": [],
   "source": [
    "img_path_str = \"\""
   ]
  },
  {
   "cell_type": "code",
   "execution_count": 9,
   "id": "3624599e-7ea9-42e6-b8bf-020fbc65399f",
   "metadata": {},
   "outputs": [],
   "source": [
    "# Load annotations from a COCO JSON file\n",
    "def load_annotations(annotation_file):\n",
    "    with open(annotation_file, 'r') as f:\n",
    "        annotations = json.load(f) #loaded annotations dictionary\n",
    "    return annotations"
   ]
  },
  {
   "cell_type": "code",
   "execution_count": 10,
   "id": "6bbcce3c-8471-442a-be8d-b99658c2cadf",
   "metadata": {},
   "outputs": [],
   "source": [
    "def load_image_and_annotations(image_path, annotations):\n",
    "    # Initialize an empty image path string\n",
    "    image_path_str = \"\"\n",
    "\n",
    "    try:\n",
    "        # Ensure that the input is a TensorFlow tensor\n",
    "        if isinstance(image_path, tf.Tensor):\n",
    "            # Convert Tensor to Python string for file operations\n",
    "            image_path_str = image_path.numpy().decode(\"utf-8\")\n",
    "        else:\n",
    "            raise ValueError(\"Expected TensorFlow tensor for image path.\")\n",
    "\n",
    "        # Read the image from the file path\n",
    "        image = tf.io.decode_png(tf.io.read_file(image_path_str), channels=3)\n",
    "\n",
    "        # Get the image information from the annotations\n",
    "        image_info = next(\n",
    "            (img for img in annotations['images'] if os.path.basename(image_path_str) in img.values()),\n",
    "            None\n",
    "        )\n",
    "\n",
    "        if not image_info:\n",
    "            raise ValueError(f\"Image '{image_path_str}' not found in annotations.\")\n",
    "\n",
    "        image_id = image_info['id']\n",
    "\n",
    "        # Get bounding boxes and classes for the image\n",
    "        bboxes = [\n",
    "            ann['bbox'] for ann in annotations['annotations']\n",
    "            if ann['image_id'] == image_id\n",
    "        ]\n",
    "        classes = [\n",
    "            ann['category_id'] for ann in annotations['annotations']\n",
    "            if ann['image_id'] == image_id\n",
    "        ]\n",
    "\n",
    "        return image, {'boxes': bboxes, 'classes': classes}\n",
    "\n",
    "    except Exception as e:\n",
    "        # Log the error and return default values\n",
    "        logging.warning(f\"Error loading image: {e}\")\n",
    "        return tf.zeros([1, 1, 3], dtype=tf.uint8), {'boxes': [], 'classes': []}"
   ]
  },
  {
   "cell_type": "code",
   "execution_count": 11,
   "id": "06e1ad4e-c3f8-4d6f-941d-179599ce5fdf",
   "metadata": {},
   "outputs": [],
   "source": [
    "def data_loader(annotation_file, image_folder):\n",
    "\n",
    "    # Create a tf.data.Dataset with images, bounding boxes, and classes from a COCO-format dataset.\n",
    "    annotations = load_annotations(annotation_file)\n",
    "\n",
    "    # Create a list of image file paths\n",
    "    image_files = [\n",
    "        tf.convert_to_tensor(os.path.join(image_folder, str(img['image_id'])), dtype=tf.string)\n",
    "        for img in annotations\n",
    "    ]\n",
    "\n",
    "    # Convert image file paths to TensorFlow-compatible tensors\n",
    "    image_files = [tf.convert_to_tensor(img, dtype=tf.string) for img in image_files]\n",
    "\n",
    "    # Function to load image data along with annotations, with error handling\n",
    "    def load_data(image_file):\n",
    "        image, target = load_image_and_annotations(image_file, annotations)\n",
    "        \n",
    "        if image is None:  # If image loading failed\n",
    "            return None, {'boxes': tf.zeros([0, 4], dtype=tf.float32), 'classes': tf.zeros([0], dtype=tf.int32)}\n",
    "\n",
    "        # Convert bounding boxes and classes to TensorFlow-compatible formats\n",
    "        bboxes = tf.convert_to_tensor(target['boxes'], dtype=tf.float32)\n",
    "        classes = tf.convert_to_tensor(target['classes'], dtype=tf.int32)\n",
    "\n",
    "        return image, {'boxes': bboxes, 'classes': classes}\n",
    "\n",
    "    # Map function with error handling\n",
    "\n",
    "    # def map_function(image_file):\n",
    "    #     image, bboxes, classes = tf.py_function(\n",
    "    #         load_data,\n",
    "    #         [image_file],\n",
    "    #         Tout=(tf.uint8, tf.float32, tf.int32),\n",
    "    #     )\n",
    "\n",
    "    #     return image, bboxes, classes\n",
    "\n",
    "    dataset = tf.data.Dataset.from_tensor_slices(image_files).map(\n",
    "        load_data)\n",
    "        \n",
    "    def filter_data(image, bounding_boxes, dataset):\n",
    "      return image is not None\n",
    "\n",
    "    dataset = dataset.filter(lambda image, bounding_boxes: filter_data(image, bounding_boxes, dataset))\n",
    "\n",
    "    return dataset\n"
   ]
  },
  {
   "cell_type": "code",
   "execution_count": 12,
   "id": "a91fa9c4-4f4a-443c-bcc9-e356076d3943",
   "metadata": {},
   "outputs": [
    {
     "name": "stdout",
     "output_type": "stream",
     "text": [
      "WARNING:tensorflow:AutoGraph could not transform <function normcase at 0x000002786C04C680> and will run it as-is.\n",
      "Cause: Unable to locate the source code of <function normcase at 0x000002786C04C680>. Note that functions defined in certain environments, like the interactive Python shell, do not expose their source code. If that is the case, you should define them in a .py source file. If you are certain the code is graph-compatible, wrap the call using @tf.autograph.experimental.do_not_convert. Original error: could not get source code\n",
      "To silence this warning, decorate the function with @tf.autograph.experimental.do_not_convert\n"
     ]
    },
    {
     "name": "stderr",
     "output_type": "stream",
     "text": [
      "WARNING:tensorflow:AutoGraph could not transform <function normcase at 0x000002786C04C680> and will run it as-is.\n",
      "Cause: Unable to locate the source code of <function normcase at 0x000002786C04C680>. Note that functions defined in certain environments, like the interactive Python shell, do not expose their source code. If that is the case, you should define them in a .py source file. If you are certain the code is graph-compatible, wrap the call using @tf.autograph.experimental.do_not_convert. Original error: could not get source code\n",
      "To silence this warning, decorate the function with @tf.autograph.experimental.do_not_convert\n"
     ]
    },
    {
     "name": "stdout",
     "output_type": "stream",
     "text": [
      "WARNING: AutoGraph could not transform <function normcase at 0x000002786C04C680> and will run it as-is.\n",
      "Cause: Unable to locate the source code of <function normcase at 0x000002786C04C680>. Note that functions defined in certain environments, like the interactive Python shell, do not expose their source code. If that is the case, you should define them in a .py source file. If you are certain the code is graph-compatible, wrap the call using @tf.autograph.experimental.do_not_convert. Original error: could not get source code\n",
      "To silence this warning, decorate the function with @tf.autograph.experimental.do_not_convert\n",
      "WARNING:tensorflow:AutoGraph could not transform <bound method Socket.send of <zmq.Socket(zmq.PUSH) at 0x2787133b0e0>> and will run it as-is.\n",
      "Please report this to the TensorFlow team. When filing the bug, set the verbosity to 10 (on Linux, `export AUTOGRAPH_VERBOSITY=10`) and attach the full output.\n",
      "Cause: module, class, method, function, traceback, frame, or code object was expected, got cython_function_or_method\n",
      "To silence this warning, decorate the function with @tf.autograph.experimental.do_not_convert\n"
     ]
    },
    {
     "name": "stderr",
     "output_type": "stream",
     "text": [
      "WARNING:root:Error loading image: 'SymbolicTensor' object has no attribute 'numpy'\n",
      "WARNING:tensorflow:AutoGraph could not transform <bound method Socket.send of <zmq.Socket(zmq.PUSH) at 0x2787133b0e0>> and will run it as-is.\n",
      "Please report this to the TensorFlow team. When filing the bug, set the verbosity to 10 (on Linux, `export AUTOGRAPH_VERBOSITY=10`) and attach the full output.\n",
      "Cause: module, class, method, function, traceback, frame, or code object was expected, got cython_function_or_method\n",
      "To silence this warning, decorate the function with @tf.autograph.experimental.do_not_convert\n"
     ]
    },
    {
     "name": "stdout",
     "output_type": "stream",
     "text": [
      "WARNING: AutoGraph could not transform <bound method Socket.send of <zmq.Socket(zmq.PUSH) at 0x2787133b0e0>> and will run it as-is.\n",
      "Please report this to the TensorFlow team. When filing the bug, set the verbosity to 10 (on Linux, `export AUTOGRAPH_VERBOSITY=10`) and attach the full output.\n",
      "Cause: module, class, method, function, traceback, frame, or code object was expected, got cython_function_or_method\n",
      "To silence this warning, decorate the function with @tf.autograph.experimental.do_not_convert\n"
     ]
    }
   ],
   "source": [
    "train_dataset = data_loader(annotation_file, image_folder)"
   ]
  },
  {
   "cell_type": "code",
   "execution_count": 13,
   "id": "4aa15438-f878-4f22-8037-bda36d285231",
   "metadata": {},
   "outputs": [
    {
     "name": "stdout",
     "output_type": "stream",
     "text": [
      "<class 'tensorflow.python.data.ops.filter_op._FilterDataset'>\n",
      "(TensorSpec(shape=(1, 1, 3), dtype=tf.uint8, name=None), {'boxes': TensorSpec(shape=(0,), dtype=tf.float32, name=None), 'classes': TensorSpec(shape=(0,), dtype=tf.int32, name=None)})\n"
     ]
    }
   ],
   "source": [
    "# prints the type of train_dataset. \n",
    "print(type(train_dataset))  # Should be <class 'tensorflow.python.data.ops.dataset_ops.DatasetV2'>\n",
    "print(train_dataset.element_spec)  # Should reflect the expected structure of elements\n"
   ]
  },
  {
   "cell_type": "code",
   "execution_count": 14,
   "id": "49f7f093-42bb-4972-b6cf-c060a12e6af4",
   "metadata": {},
   "outputs": [
    {
     "name": "stdout",
     "output_type": "stream",
     "text": [
      "Image shape: (1, 1, 3)\n",
      "target: {'boxes': <tf.Tensor: shape=(0,), dtype=float32, numpy=array([], dtype=float32)>, 'classes': <tf.Tensor: shape=(0,), dtype=int32, numpy=array([], dtype=int32)>}\n",
      "Image shape: (1, 1, 3)\n",
      "target: {'boxes': <tf.Tensor: shape=(0,), dtype=float32, numpy=array([], dtype=float32)>, 'classes': <tf.Tensor: shape=(0,), dtype=int32, numpy=array([], dtype=int32)>}\n",
      "Image shape: (1, 1, 3)\n",
      "target: {'boxes': <tf.Tensor: shape=(0,), dtype=float32, numpy=array([], dtype=float32)>, 'classes': <tf.Tensor: shape=(0,), dtype=int32, numpy=array([], dtype=int32)>}\n",
      "Image shape: (1, 1, 3)\n",
      "target: {'boxes': <tf.Tensor: shape=(0,), dtype=float32, numpy=array([], dtype=float32)>, 'classes': <tf.Tensor: shape=(0,), dtype=int32, numpy=array([], dtype=int32)>}\n",
      "Image shape: (1, 1, 3)\n",
      "target: {'boxes': <tf.Tensor: shape=(0,), dtype=float32, numpy=array([], dtype=float32)>, 'classes': <tf.Tensor: shape=(0,), dtype=int32, numpy=array([], dtype=int32)>}\n"
     ]
    }
   ],
   "source": [
    "for data in train_dataset.take(5):  # Adjust the number of samples\n",
    "    image, target = data\n",
    "    print(\"Image shape:\", image.shape)  # Check the image shape and other attributes\n",
    "    print(\"target:\", target)  # Check bounding boxes and classes\n"
   ]
  },
  {
   "cell_type": "markdown",
   "id": "af83506b-c15e-46f4-aeab-29fb710c759a",
   "metadata": {},
   "source": [
    "## Data Visualization"
   ]
  },
  {
   "cell_type": "code",
   "execution_count": 15,
   "id": "2e5aa981-06ed-42f2-b870-f90d282dd63a",
   "metadata": {},
   "outputs": [],
   "source": [
    "from keras_cv import visualization"
   ]
  },
  {
   "cell_type": "code",
   "execution_count": 22,
   "id": "ad12d8cd-22a3-4819-b60b-f44fe28dd97f",
   "metadata": {},
   "outputs": [
    {
     "data": {
      "text/plain": [
       "tensorflow.python.data.ops.filter_op._FilterDataset"
      ]
     },
     "execution_count": 22,
     "metadata": {},
     "output_type": "execute_result"
    }
   ],
   "source": [
    "type(train_dataset)"
   ]
  },
  {
   "cell_type": "code",
   "execution_count": 16,
   "id": "8bca5098-0f95-4032-8267-d99644105a6c",
   "metadata": {},
   "outputs": [],
   "source": [
    "def visualize_dataset(inputs, value_range, rows, cols, bounding_box_format):\n",
    "    inputs = next(iter(inputs.take(1)))\n",
    "    images, bounding_boxes = inputs[\"images\"], inputs[\"bounding_boxes\"]\n",
    "    visualization.plot_bounding_box_gallery(\n",
    "        images,\n",
    "        value_range=value_range,\n",
    "        rows=rows,\n",
    "        cols=cols,\n",
    "        y_true=bounding_boxes,\n",
    "        scale=5,\n",
    "        font_scale=0.7,\n",
    "        bounding_box_format=bounding_box_format,\n",
    "        class_mapping=class_mapping,\n",
    "    )"
   ]
  },
  {
   "cell_type": "code",
   "execution_count": 21,
   "id": "a8200320-ce23-443f-9130-86724a0473ee",
   "metadata": {},
   "outputs": [],
   "source": [
    "def unpackage_raw_tfds_inputs(inputs, bounding_box_format):\n",
    "    image = inputs[\"image\"]\n",
    "    type(inputs)\n",
    "    boxes = keras_cv.bounding_box.convert_format(\n",
    "        inputs[\"objects\"][\"bbox\"],\n",
    "        images=image,\n",
    "        source=\"rel_yxyx\",\n",
    "        target=bounding_box_format,\n",
    "    )\n",
    "    bounding_boxes = {\n",
    "        \"classes\": inputs[\"objects\"][\"label\"],\n",
    "        \"boxes\": boxes,\n",
    "    }\n",
    "    return {\"images\": image, \"bounding_boxes\": bounding_boxes}"
   ]
  },
  {
   "cell_type": "code",
   "execution_count": 18,
   "id": "f43b2d4d-f76c-41e3-a041-dd78685635a0",
   "metadata": {},
   "outputs": [],
   "source": [
    "BATCH_SIZE = 4"
   ]
  },
  {
   "cell_type": "code",
   "execution_count": 19,
   "id": "ef74fdd6-7dbc-4b80-a0af-a869fe9ba223",
   "metadata": {},
   "outputs": [
    {
     "ename": "TypeError",
     "evalue": "tuple indices must be integers or slices, not str",
     "output_type": "error",
     "traceback": [
      "\u001b[1;31m---------------------------------------------------------------------------\u001b[0m",
      "\u001b[1;31mTypeError\u001b[0m                                 Traceback (most recent call last)",
      "Cell \u001b[1;32mIn[19], line 2\u001b[0m\n\u001b[0;32m      1\u001b[0m \u001b[38;5;66;03m# Assuming your_data is your JSON list\u001b[39;00m\n\u001b[1;32m----> 2\u001b[0m visualized_data \u001b[38;5;241m=\u001b[39m \u001b[43mvisualize_dataset\u001b[49m\u001b[43m(\u001b[49m\u001b[43mtrain_dataset\u001b[49m\u001b[43m,\u001b[49m\u001b[43m \u001b[49m\u001b[43mvalue_range\u001b[49m\u001b[38;5;241;43m=\u001b[39;49m\u001b[38;5;28;43;01mNone\u001b[39;49;00m\u001b[43m,\u001b[49m\u001b[43m \u001b[49m\u001b[43mrows\u001b[49m\u001b[38;5;241;43m=\u001b[39;49m\u001b[38;5;241;43m50\u001b[39;49m\u001b[43m,\u001b[49m\u001b[43m \u001b[49m\u001b[43mcols\u001b[49m\u001b[38;5;241;43m=\u001b[39;49m\u001b[38;5;241;43m5\u001b[39;49m\u001b[43m,\u001b[49m\u001b[43m \u001b[49m\u001b[43mbounding_box_format\u001b[49m\u001b[38;5;241;43m=\u001b[39;49m\u001b[38;5;124;43m\"\u001b[39;49m\u001b[38;5;124;43mxywh\u001b[39;49m\u001b[38;5;124;43m\"\u001b[39;49m\u001b[43m)\u001b[49m\n",
      "Cell \u001b[1;32mIn[16], line 3\u001b[0m, in \u001b[0;36mvisualize_dataset\u001b[1;34m(inputs, value_range, rows, cols, bounding_box_format)\u001b[0m\n\u001b[0;32m      1\u001b[0m \u001b[38;5;28;01mdef\u001b[39;00m \u001b[38;5;21mvisualize_dataset\u001b[39m(inputs, value_range, rows, cols, bounding_box_format):\n\u001b[0;32m      2\u001b[0m     inputs \u001b[38;5;241m=\u001b[39m \u001b[38;5;28mnext\u001b[39m(\u001b[38;5;28miter\u001b[39m(inputs\u001b[38;5;241m.\u001b[39mtake(\u001b[38;5;241m1\u001b[39m)))\n\u001b[1;32m----> 3\u001b[0m     images, bounding_boxes \u001b[38;5;241m=\u001b[39m \u001b[43minputs\u001b[49m\u001b[43m[\u001b[49m\u001b[38;5;124;43m\"\u001b[39;49m\u001b[38;5;124;43mimages\u001b[39;49m\u001b[38;5;124;43m\"\u001b[39;49m\u001b[43m]\u001b[49m, inputs[\u001b[38;5;124m\"\u001b[39m\u001b[38;5;124mbounding_boxes\u001b[39m\u001b[38;5;124m\"\u001b[39m]\n\u001b[0;32m      4\u001b[0m     visualization\u001b[38;5;241m.\u001b[39mplot_bounding_box_gallery(\n\u001b[0;32m      5\u001b[0m         images,\n\u001b[0;32m      6\u001b[0m         value_range\u001b[38;5;241m=\u001b[39mvalue_range,\n\u001b[1;32m   (...)\u001b[0m\n\u001b[0;32m     13\u001b[0m         class_mapping\u001b[38;5;241m=\u001b[39mclass_mapping,\n\u001b[0;32m     14\u001b[0m     )\n",
      "\u001b[1;31mTypeError\u001b[0m: tuple indices must be integers or slices, not str"
     ]
    }
   ],
   "source": [
    "# Assuming your_data is your JSON list\n",
    "visualized_data = visualize_dataset(train_dataset, value_range=None, rows=50, cols=5, bounding_box_format=\"xywh\")"
   ]
  },
  {
   "cell_type": "code",
   "execution_count": null,
   "id": "5cc70f8f-0e19-4d0d-bf4f-266ad0f5b875",
   "metadata": {},
   "outputs": [],
   "source": []
  }
 ],
 "metadata": {
  "kernelspec": {
   "display_name": "Python 3 (ipykernel)",
   "language": "python",
   "name": "python3"
  },
  "language_info": {
   "codemirror_mode": {
    "name": "ipython",
    "version": 3
   },
   "file_extension": ".py",
   "mimetype": "text/x-python",
   "name": "python",
   "nbconvert_exporter": "python",
   "pygments_lexer": "ipython3",
   "version": "3.12.3"
  }
 },
 "nbformat": 4,
 "nbformat_minor": 5
}
