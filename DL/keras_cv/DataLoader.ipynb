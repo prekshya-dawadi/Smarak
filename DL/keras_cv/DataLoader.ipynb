{
 "cells": [
  {
   "cell_type": "markdown",
   "id": "dd1be4f1-92ee-4f92-a8d3-cec66fe2d43e",
   "metadata": {},
   "source": [
    "## Data Loader"
   ]
  },
  {
   "cell_type": "code",
   "execution_count": 80,
   "id": "cd1374f1-5dad-4cc5-94e5-a5d1c0244b0f",
   "metadata": {},
   "outputs": [],
   "source": [
    "import tensorflow as tf\n",
    "import json\n",
    "import os\n",
    "import logging  # To log errors or missing files\n",
    "from collections import namedtuple"
   ]
  },
  {
   "cell_type": "code",
   "execution_count": 81,
   "id": "f99a5446-1b21-431e-b40b-b588e13ebb17",
   "metadata": {},
   "outputs": [],
   "source": [
    "# configures basic logging to print informational messages\n",
    "logging.basicConfig(level=logging.INFO)"
   ]
  },
  {
   "cell_type": "code",
   "execution_count": 82,
   "id": "56dec583-c3f0-45a9-967e-f3ceab3489f3",
   "metadata": {},
   "outputs": [],
   "source": [
    "annotation_file = \"annotations.json\"\n",
    "image_folder = \"coco-nyaptola/images\"\n",
    "\n",
    "# Convert to absolute paths for reliable file access\n",
    "annotation_file = os.path.abspath(annotation_file)\n",
    "image_folder = os.path.abspath(image_folder)\n"
   ]
  },
  {
   "cell_type": "code",
   "execution_count": 83,
   "id": "ca214c27-88e7-4b57-85b6-518ed0795e57",
   "metadata": {},
   "outputs": [],
   "source": [
    "ImageData = namedtuple('ImageData',['image','target'])"
   ]
  },
  {
   "cell_type": "code",
   "execution_count": 84,
   "id": "27fbd3e1-cfa0-42c9-9bea-dcdf5aab83b2",
   "metadata": {},
   "outputs": [],
   "source": [
    "img_path_str = \"\""
   ]
  },
  {
   "cell_type": "code",
   "execution_count": 85,
   "id": "3624599e-7ea9-42e6-b8bf-020fbc65399f",
   "metadata": {},
   "outputs": [],
   "source": [
    "# Load annotations from a COCO JSON file\n",
    "def load_annotations(annotation_file):\n",
    "    with open(annotation_file, 'r') as f:\n",
    "        annotations = json.load(f) #loaded annotations dictionary\n",
    "    return annotations"
   ]
  },
  {
   "cell_type": "code",
   "execution_count": 86,
   "id": "6bbcce3c-8471-442a-be8d-b99658c2cadf",
   "metadata": {},
   "outputs": [],
   "source": [
    "def load_image_and_annotations(image_path, annotations):\n",
    "    # Load an image and its corresponding bounding boxes and classes from COCO annotations.\n",
    "    # image_path is a tensor and annotations is a dictionary\n",
    "    img_path_str = \"\"\n",
    "    try:\n",
    "        # Convert Tensor to Python string for file operations\n",
    "        if isinstance(image_path, tf.Tensor):\n",
    "            image_path_str = tf.strings.as_string(image_path).numpy().decode(\"utf-8\")\n",
    "        else:\n",
    "            raise ValueError(\"Expected Tensorflow tensor for image path.\")\n",
    "\n",
    "        # Read the image file\n",
    "        image = tf.io.decode_jpeg(tf.io.read_file(image_path_str), channels=3)\n",
    "\n",
    "        # Get the image info from the annotations\n",
    "        image_info = next(\n",
    "            (img for img in annotations['images'] if img['file_name'] == os.path.basename(image_path_str)),\n",
    "            None\n",
    "        )\n",
    "\n",
    "        if not image_info:\n",
    "            raise ValueError(f\"Image '{image_path_str}' not found in annotations.\")\n",
    "\n",
    "        image_id = image_info['id']\n",
    "\n",
    "        # Get the bounding boxes and classes for this image\n",
    "        bboxes = [\n",
    "            ann['bbox'] for ann in annotations['annotations']\n",
    "            if ann['image_id'] == image_id\n",
    "        ]\n",
    "        classes = [\n",
    "            ann['category_id'] for ann in annotations['annotations']\n",
    "            if ann['image_id'] == image_id\n",
    "        ]\n",
    "\n",
    "        return image, {'boxes': bboxes, 'classes': classes}\n",
    "\n",
    "    except Exception as e:\n",
    "        # Log the error and return None\n",
    "        logging.warning(f\"Error loading image ': {e}\")\n",
    "        return tf.zeros([1, 1, 3], dtype=tf.uint8), {'boxes': [], 'classes': []}  # Return default values\n",
    "\n"
   ]
  },
  {
   "cell_type": "code",
   "execution_count": 87,
   "id": "06e1ad4e-c3f8-4d6f-941d-179599ce5fdf",
   "metadata": {},
   "outputs": [],
   "source": [
    "def data_loader(annotation_file, image_folder):\n",
    "\n",
    "    # Create a tf.data.Dataset with images, bounding boxes, and classes from a COCO-format dataset.\n",
    "    annotations = load_annotations(annotation_file)\n",
    "\n",
    "    # Create a list of image file paths\n",
    "    image_files = [\n",
    "        tf.convert_to_tensor(os.path.join(image_folder, img['file_name']), dtype=tf.string)\n",
    "        for img in annotations\n",
    "    ]\n",
    "\n",
    "    # Convert image file paths to TensorFlow-compatible tensors\n",
    "    image_files = [tf.convert_to_tensor(img, dtype=tf.string) for img in image_files]\n",
    "\n",
    "    # Function to load image data along with annotations, with error handling\n",
    "    def load_data(image_file):\n",
    "        image, target = load_image_and_annotations(image_file, annotations)\n",
    "        \n",
    "        if image is None:  # If image loading failed\n",
    "            return None, {'boxes': tf.zeros([0, 4], dtype=tf.float32), 'classes': tf.zeros([0], dtype=tf.int32)}\n",
    "\n",
    "        # Convert bounding boxes and classes to TensorFlow-compatible formats\n",
    "        bboxes = tf.convert_to_tensor(target['boxes'], dtype=tf.float32)\n",
    "        classes = tf.convert_to_tensor(target['classes'], dtype=tf.int32)\n",
    "\n",
    "        return image, {'boxes': bboxes, 'classes': classes}\n",
    "\n",
    "    # Map function with error handling\n",
    "\n",
    "    # def map_function(image_file):\n",
    "    #     image, bboxes, classes = tf.py_function(\n",
    "    #         load_data,\n",
    "    #         [image_file],\n",
    "    #         Tout=(tf.uint8, tf.float32, tf.int32),\n",
    "    #     )\n",
    "\n",
    "    #     return image, bboxes, classes\n",
    "\n",
    "    dataset = tf.data.Dataset.from_tensor_slices(image_files).map(\n",
    "        load_data)\n",
    "        \n",
    "    def filter_data(image, bounding_boxes, dataset):\n",
    "      return image is not None\n",
    "\n",
    "    dataset = dataset.filter(lambda image, bounding_boxes: filter_data(image, bounding_boxes, dataset))\n",
    "\n",
    "    return dataset\n"
   ]
  },
  {
   "cell_type": "code",
   "execution_count": 88,
   "id": "a91fa9c4-4f4a-443c-bcc9-e356076d3943",
   "metadata": {},
   "outputs": [
    {
     "ename": "TypeError",
     "evalue": "list indices must be integers or slices, not str",
     "output_type": "error",
     "traceback": [
      "\u001b[1;31m---------------------------------------------------------------------------\u001b[0m",
      "\u001b[1;31mTypeError\u001b[0m                                 Traceback (most recent call last)",
      "Cell \u001b[1;32mIn[88], line 1\u001b[0m\n\u001b[1;32m----> 1\u001b[0m train_dataset \u001b[38;5;241m=\u001b[39m \u001b[43mdata_loader\u001b[49m\u001b[43m(\u001b[49m\u001b[43mannotation_file\u001b[49m\u001b[43m,\u001b[49m\u001b[43m \u001b[49m\u001b[43mimage_folder\u001b[49m\u001b[43m)\u001b[49m\n",
      "Cell \u001b[1;32mIn[87], line 9\u001b[0m, in \u001b[0;36mdata_loader\u001b[1;34m(annotation_file, image_folder)\u001b[0m\n\u001b[0;32m      4\u001b[0m annotations \u001b[38;5;241m=\u001b[39m load_annotations(annotation_file)\n\u001b[0;32m      6\u001b[0m \u001b[38;5;66;03m# Create a list of image file paths\u001b[39;00m\n\u001b[0;32m      7\u001b[0m image_files \u001b[38;5;241m=\u001b[39m [\n\u001b[0;32m      8\u001b[0m     tf\u001b[38;5;241m.\u001b[39mconvert_to_tensor(os\u001b[38;5;241m.\u001b[39mpath\u001b[38;5;241m.\u001b[39mjoin(image_folder, img[\u001b[38;5;124m'\u001b[39m\u001b[38;5;124mfile_name\u001b[39m\u001b[38;5;124m'\u001b[39m]), dtype\u001b[38;5;241m=\u001b[39mtf\u001b[38;5;241m.\u001b[39mstring)\n\u001b[1;32m----> 9\u001b[0m     \u001b[38;5;28;01mfor\u001b[39;00m img \u001b[38;5;129;01min\u001b[39;00m \u001b[43mannotations\u001b[49m\u001b[43m[\u001b[49m\u001b[38;5;124;43m'\u001b[39;49m\u001b[38;5;124;43mimages\u001b[39;49m\u001b[38;5;124;43m'\u001b[39;49m\u001b[43m]\u001b[49m\n\u001b[0;32m     10\u001b[0m ]\n\u001b[0;32m     12\u001b[0m \u001b[38;5;66;03m# Convert image file paths to TensorFlow-compatible tensors\u001b[39;00m\n\u001b[0;32m     13\u001b[0m image_files \u001b[38;5;241m=\u001b[39m [tf\u001b[38;5;241m.\u001b[39mconvert_to_tensor(img, dtype\u001b[38;5;241m=\u001b[39mtf\u001b[38;5;241m.\u001b[39mstring) \u001b[38;5;28;01mfor\u001b[39;00m img \u001b[38;5;129;01min\u001b[39;00m image_files]\n",
      "\u001b[1;31mTypeError\u001b[0m: list indices must be integers or slices, not str"
     ]
    }
   ],
   "source": [
    "train_dataset = data_loader(annotation_file, image_folder)"
   ]
  },
  {
   "cell_type": "code",
   "execution_count": 89,
   "id": "4aa15438-f878-4f22-8037-bda36d285231",
   "metadata": {},
   "outputs": [
    {
     "name": "stdout",
     "output_type": "stream",
     "text": [
      "<class 'tensorflow.python.data.ops.filter_op._FilterDataset'>\n",
      "(TensorSpec(shape=(1, 1, 3), dtype=tf.uint8, name=None), {'boxes': TensorSpec(shape=(0,), dtype=tf.float32, name=None), 'classes': TensorSpec(shape=(0,), dtype=tf.int32, name=None)})\n"
     ]
    }
   ],
   "source": [
    "# prints the type of train_dataset. \n",
    "print(type(train_dataset))  # Should be <class 'tensorflow.python.data.ops.dataset_ops.DatasetV2'>\n",
    "print(train_dataset.element_spec)  # Should reflect the expected structure of elements\n"
   ]
  },
  {
   "cell_type": "code",
   "execution_count": 76,
   "id": "49f7f093-42bb-4972-b6cf-c060a12e6af4",
   "metadata": {},
   "outputs": [
    {
     "name": "stdout",
     "output_type": "stream",
     "text": [
      "Image shape: (1, 1, 3)\n",
      "target: {'boxes': <tf.Tensor: shape=(0,), dtype=float32, numpy=array([], dtype=float32)>, 'classes': <tf.Tensor: shape=(0,), dtype=int32, numpy=array([], dtype=int32)>}\n",
      "Image shape: (1, 1, 3)\n",
      "target: {'boxes': <tf.Tensor: shape=(0,), dtype=float32, numpy=array([], dtype=float32)>, 'classes': <tf.Tensor: shape=(0,), dtype=int32, numpy=array([], dtype=int32)>}\n",
      "Image shape: (1, 1, 3)\n",
      "target: {'boxes': <tf.Tensor: shape=(0,), dtype=float32, numpy=array([], dtype=float32)>, 'classes': <tf.Tensor: shape=(0,), dtype=int32, numpy=array([], dtype=int32)>}\n",
      "Image shape: (1, 1, 3)\n",
      "target: {'boxes': <tf.Tensor: shape=(0,), dtype=float32, numpy=array([], dtype=float32)>, 'classes': <tf.Tensor: shape=(0,), dtype=int32, numpy=array([], dtype=int32)>}\n",
      "Image shape: (1, 1, 3)\n",
      "target: {'boxes': <tf.Tensor: shape=(0,), dtype=float32, numpy=array([], dtype=float32)>, 'classes': <tf.Tensor: shape=(0,), dtype=int32, numpy=array([], dtype=int32)>}\n"
     ]
    }
   ],
   "source": [
    "for data in train_dataset.take(5):  # Adjust the number of samples\n",
    "    image, target = data\n",
    "    print(\"Image shape:\", image.shape)  # Check the image shape and other attributes\n",
    "    print(\"target:\", target)  # Check bounding boxes and classes\n"
   ]
  },
  {
   "cell_type": "code",
   "execution_count": null,
   "id": "6ca57e3a-d68b-4b70-9e8b-fbafe8701b5e",
   "metadata": {},
   "outputs": [],
   "source": []
  }
 ],
 "metadata": {
  "kernelspec": {
   "display_name": "Python 3 (ipykernel)",
   "language": "python",
   "name": "python3"
  },
  "language_info": {
   "codemirror_mode": {
    "name": "ipython",
    "version": 3
   },
   "file_extension": ".py",
   "mimetype": "text/x-python",
   "name": "python",
   "nbconvert_exporter": "python",
   "pygments_lexer": "ipython3",
   "version": "3.12.3"
  }
 },
 "nbformat": 4,
 "nbformat_minor": 5
}
