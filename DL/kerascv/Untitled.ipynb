{
 "cells": [
  {
   "cell_type": "code",
   "execution_count": null,
   "id": "2bfb684d-6921-40ab-a7d5-274e24c39264",
   "metadata": {},
   "outputs": [],
   "source": []
  }
 ],
 "metadata": {
  "kernelspec": {
   "display_name": "",
   "name": ""
  },
  "language_info": {
   "name": ""
  }
 },
 "nbformat": 4,
 "nbformat_minor": 5
}
