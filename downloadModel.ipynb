{
 "cells": [
  {
   "cell_type": "code",
   "execution_count": 2,
   "id": "78f7da3d-554b-417b-acf1-6de79f40ba37",
   "metadata": {},
   "outputs": [],
   "source": [
    "import wget"
   ]
  },
  {
   "cell_type": "code",
   "execution_count": 3,
   "id": "a2677695-0281-4b26-b4e8-03b9b1a3a332",
   "metadata": {},
   "outputs": [],
   "source": [
    "model_link = \"http://download.tensorflow.org/models/object_detection/tf2/20200711/ssd_mobilenet_v1_fpn_640x640_coco17_tpu-8.tar.gz\""
   ]
  },
  {
   "cell_type": "code",
   "execution_count": 4,
   "id": "00ed0a03-ddb5-4e8c-baab-b4e69fa66450",
   "metadata": {},
   "outputs": [
    {
     "name": "stdout",
     "output_type": "stream",
     "text": [
      "100% [........................................................................] 90453990 / 90453990"
     ]
    },
    {
     "data": {
      "text/plain": [
       "'ssd_mobilenet_v1_fpn_640x640_coco17_tpu-8.tar.gz'"
      ]
     },
     "execution_count": 4,
     "metadata": {},
     "output_type": "execute_result"
    }
   ],
   "source": [
    "wget.download(model_link)"
   ]
  },
  {
   "cell_type": "code",
   "execution_count": 5,
   "id": "b21e9991-7e2a-4bca-8276-aff77e13c65b",
   "metadata": {},
   "outputs": [],
   "source": [
    "import tarfile"
   ]
  },
  {
   "cell_type": "code",
   "execution_count": 7,
   "id": "c683369d-68f8-42c8-bdd9-2251359b1190",
   "metadata": {},
   "outputs": [],
   "source": [
    "tar = tarfile.open('ssd_mobilenet_v1_fpn_640x640_coco17_tpu-8.tar.gz')\n",
    "tar.extractall('.')\n",
    "tar.close()"
   ]
  },
  {
   "cell_type": "code",
   "execution_count": null,
   "id": "5e676da6-c79f-46f8-bf58-3a6482b3c34d",
   "metadata": {},
   "outputs": [],
   "source": []
  }
 ],
 "metadata": {
  "kernelspec": {
   "display_name": "Python 3 (ipykernel)",
   "language": "python",
   "name": "python3"
  },
  "language_info": {
   "codemirror_mode": {
    "name": "ipython",
    "version": 3
   },
   "file_extension": ".py",
   "mimetype": "text/x-python",
   "name": "python",
   "nbconvert_exporter": "python",
   "pygments_lexer": "ipython3",
   "version": "3.9.19"
  }
 },
 "nbformat": 4,
 "nbformat_minor": 5
}
