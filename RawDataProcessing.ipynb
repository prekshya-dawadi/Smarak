{
 "cells": [
  {
   "cell_type": "markdown",
   "id": "e5164f80",
   "metadata": {},
   "source": [
    "Reference: https://www.kaggle.com/code/amolambkar/create-your-own-image-dataset-using-video"
   ]
  },
  {
   "cell_type": "code",
   "execution_count": 5,
   "id": "85fa249a",
   "metadata": {},
   "outputs": [],
   "source": [
    "import numpy as np\n",
    "import cv2\n",
    "import os"
   ]
  },
  {
   "cell_type": "code",
   "execution_count": 6,
   "id": "303e11f0",
   "metadata": {},
   "outputs": [],
   "source": [
    "videos_folder = \"D:\\Projects\\DL\\MonumentDetection\\Dataset\\Raw\\BhaktapurDurbarsquare-20240325T142729Z-001\\BhaktapurDurbarSquare\"\n",
    "videos_list = []\n",
    "\n",
    "for file in os.listdir(videos_folder):\n",
    "    filename = os.fsdecode(file)\n",
    "    if filename.endswith(\".mp4\"):\n",
    "        videos_list.append(filename)"
   ]
  },
  {
   "cell_type": "code",
   "execution_count": 19,
   "id": "6f410b58",
   "metadata": {},
   "outputs": [
    {
     "name": "stdout",
     "output_type": "stream",
     "text": [
      "Not successful. Failed to read frame.\n",
      "Not successful. Failed to read frame.\n",
      "Not successful. Failed to read frame.\n",
      "Not successful. Failed to read frame.\n",
      "Not successful. Failed to read frame.\n",
      "Not successful. Failed to read frame.\n",
      "Not successful. Failed to read frame.\n",
      "Not successful. Failed to read frame.\n",
      "Not successful. Failed to read frame.\n",
      "Not successful. Failed to read frame.\n",
      "Not successful. Failed to read frame.\n",
      "Not successful. Failed to read frame.\n",
      "Not successful. Failed to read frame.\n",
      "Not successful. Failed to read frame.\n",
      "Not successful. Failed to read frame.\n",
      "Not successful. Failed to read frame.\n",
      "Not successful. Failed to read frame.\n",
      "Not successful. Failed to read frame.\n",
      "Not successful. Failed to read frame.\n",
      "Not successful. Failed to read frame.\n",
      "Not successful. Failed to read frame.\n",
      "Total Extracted Frames: 38\n"
     ]
    }
   ],
   "source": [
    "for video_pa in videos_list:\n",
    "    video_path = os.path.join(videos_folder, video_pa)\n",
    "    try:\n",
    "        video = cv2.VideoCapture(video_path)\n",
    "        success = True\n",
    "        count = 1\n",
    "        image_id = 1\n",
    "            \n",
    "        while success:\n",
    "            success, frame = video.read()\n",
    "            if success:\n",
    "                if count % 5 == 0:\n",
    "                    name = str(image_id) + \".jpg\"\n",
    "                    cv2.imwrite(name, frame)\n",
    "                    image_id += 1\n",
    "                count += 1\n",
    "            else:\n",
    "                print(\"Not successful. Failed to read frame.\")\n",
    "    except cv2.error as e:\n",
    "        print(f\"Error occurred while capturing frames from video: {e}\")\n",
    "\n",
    "print(\"Total Extracted Frames:\", image_id - 1)"
   ]
  },
  {
   "cell_type": "code",
   "execution_count": null,
   "id": "d9f292c1",
   "metadata": {},
   "outputs": [],
   "source": []
  }
 ],
 "metadata": {
  "kernelspec": {
   "display_name": "Python 3 (ipykernel)",
   "language": "python",
   "name": "python3"
  },
  "language_info": {
   "codemirror_mode": {
    "name": "ipython",
    "version": 3
   },
   "file_extension": ".py",
   "mimetype": "text/x-python",
   "name": "python",
   "nbconvert_exporter": "python",
   "pygments_lexer": "ipython3",
   "version": "3.11.5"
  }
 },
 "nbformat": 4,
 "nbformat_minor": 5
}
